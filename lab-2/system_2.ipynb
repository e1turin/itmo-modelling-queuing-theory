{
  "cells": [
    {
      "cell_type": "code",
      "execution_count": 3,
      "id": "85107e3a-f1e9-4704-8c9d-8e41d56c8fd6",
      "metadata": {
        "id": "85107e3a-f1e9-4704-8c9d-8e41d56c8fd6"
      },
      "outputs": [],
      "source": [
        "# !pip install -r requirements.txt\n",
        "%reset -f\n",
        "import plotly.express as px\n",
        "from graphviz import Digraph\n",
        "from itertools import product, combinations\n",
        "import numpy as np"
      ]
    },
    {
      "cell_type": "markdown",
      "id": "8bfd0d06",
      "metadata": {},
      "source": [
        "![](./res/lab-1_system-2.png)"
      ]
    },
    {
      "cell_type": "code",
      "execution_count": 4,
      "id": "30944866-8d36-43f2-8ab0-485cbd015b7a",
      "metadata": {
        "colab": {
          "base_uri": "https://localhost:8080/"
        },
        "id": "30944866-8d36-43f2-8ab0-485cbd015b7a",
        "outputId": "fcfe9f35-af7a-4316-bd51-1188e5bc56f3"
      },
      "outputs": [
        {
          "name": "stdout",
          "output_type": "stream",
          "text": [
            "λ = 1.0\n",
            "b = 2.0 ⇒ μ = 0.5\n",
            "\n",
            "Probability pi of selecting server i:\n",
            "p1 = 0.6\n",
            "p2 = 0.4\n"
          ]
        }
      ],
      "source": [
        "ARRIVAL_RATE = LAMBDA = 1.0 # λ\n",
        "SERVICE_TIME = B = 2.0\n",
        "DEPARTURE_RATE = MU = 1 / B # μ\n",
        "QUEUE_MAX_SIZE = 2\n",
        "print(f\"λ = {LAMBDA}\")\n",
        "print(f\"b = {B} ⇒ μ = {MU}\")\n",
        "\n",
        "NUM_SERVERS = N = 2\n",
        "P_SERVER = [0.6, 0.4]\n",
        "assert len(P_SERVER) == N\n",
        "assert sum(P_SERVER) == 1\n",
        "\n",
        "ERLANG_K = K = 3\n",
        "\n",
        "print(\"\\nProbability pi of selecting server i:\")\n",
        "for i, p in enumerate(P_SERVER):\n",
        "    print(f\"p{i + 1} = {p}\")"
      ]
    },
    {
      "cell_type": "code",
      "execution_count": null,
      "id": "0Y9tDZlyTdkX",
      "metadata": {
        "id": "0Y9tDZlyTdkX"
      },
      "outputs": [],
      "source": [
        "# TODO\n",
        "SERVER_STATES = [IDLE, BUSY] = [0, 1]  # idle / busy\n",
        "QUEUE_STATES = list(range(0, QUEUE_MAX_SIZE + 1))  # has jobs or empty\n",
        "\n",
        "SERVERS_STATES_COMBINED = list(product(SERVER_STATES, repeat=N))\n",
        "ALL_STATES_COMBINED = S = list(product(SERVERS_STATES_COMBINED, QUEUE_STATES))\n",
        "STATES_INDEX = SI = {s: i for i, s in enumerate(ALL_STATES_COMBINED)}"
      ]
    },
    {
      "cell_type": "code",
      "execution_count": 4,
      "id": "8df44b1d-63c1-451d-a0a6-3422ee60a5b8",
      "metadata": {
        "id": "8df44b1d-63c1-451d-a0a6-3422ee60a5b8"
      },
      "outputs": [
        {
          "name": "stdout",
          "output_type": "stream",
          "text": [
            "0:  ((0, 0, 0), 0)\n",
            "  [0.6000]-> 16\n",
            "  [0.2500]-> 8\n",
            "  [0.1500]-> 4\n",
            "4:  ((0, 0, 1), 0)\n",
            "  [0.5000]-> 0\n",
            "  [0.7059]-> 20\n",
            "  [0.2941]-> 12\n",
            "8:  ((0, 1, 0), 0)\n",
            "  [0.5000]-> 0\n",
            "  [0.8000]-> 24\n",
            "  [0.2000]-> 12\n",
            "12:  ((0, 1, 1), 0)\n",
            "  [0.5000]-> 4\n",
            "  [0.5000]-> 8\n",
            "  [1.0000]-> 28\n",
            "16:  ((1, 0, 0), 0)\n",
            "  [0.5000]-> 0\n",
            "  [0.6250]-> 24\n",
            "  [0.3750]-> 20\n",
            "20:  ((1, 0, 1), 0)\n",
            "  [0.5000]-> 4\n",
            "  [0.5000]-> 16\n",
            "  [1.0000]-> 28\n",
            "24:  ((1, 1, 0), 0)\n",
            "  [0.5000]-> 8\n",
            "  [0.5000]-> 16\n",
            "  [1.0000]-> 28\n",
            "28:  ((1, 1, 1), 0)\n",
            "  [1.0000]-> 29\n",
            "  [0.5000]-> 12\n",
            "  [0.5000]-> 20\n",
            "  [0.5000]-> 24\n",
            "29:  ((1, 1, 1), 1)\n",
            "  [1.5000]-> 28\n",
            "  [1.0000]-> 30\n",
            "30:  ((1, 1, 1), 2)\n",
            "  [1.5000]-> 29\n",
            "  [1.0000]-> 31\n",
            "31:  ((1, 1, 1), 3)\n",
            "  [1.5000]-> 30\n"
          ]
        }
      ],
      "source": [
        "# TODO\n",
        "def make_state_graph(\n",
        "    allow_simultaneous_job_completion=False,\n",
        "    allow_simultaneous_queue_departure=False,\n",
        "    allow_selecting_server_with_probability=True,\n",
        "    allow_selection_probability_correction=True,\n",
        "    allow_parellel_service_rate_nonempty_queue=True,\n",
        "    allow_parellel_service_rate_empty_queue=False,\n",
        "):\n",
        "    \"\"\"\n",
        "    servers |queue |\n",
        "    ========+======+\n",
        "            |#|*|0 |\n",
        "    --------+-+-+--+\n",
        "    |(1,1,1)|s|s|sq|\n",
        "    |   *   |x|x| q|\n",
        "    |(0,0,0)|x|x| q|\n",
        "\n",
        "    # = full queue\n",
        "    * = any middle values\n",
        "    x = impossible (1)\n",
        "    s = solved with condition on servers (2), (3)\n",
        "    q = solved with condition on queue (4)\n",
        "    \"\"\"\n",
        "    transitions_rates = {}  # weighted digraph of transitions between states with rate\n",
        "\n",
        "    for i, current_state in enumerate(ALL_STATES_COMBINED):\n",
        "        servers, queue_size = current_state\n",
        "\n",
        "        transitions_rates[i] = {}\n",
        "\n",
        "        _all_servers_busy = all(map(lambda s: s == BUSY, servers))\n",
        "        _all_servers_idle = all(map(lambda s: s == IDLE, servers))\n",
        "        _full_queue = queue_size == QUEUE_MAX_SIZE\n",
        "        _empty_queue = queue_size == 0\n",
        "\n",
        "        if not _empty_queue and not _all_servers_busy:\n",
        "            \"\"\"\n",
        "                (1) Impossible situation in Marcov process: \n",
        "                        if in queue there is at least 1 job \n",
        "                        then no idle server can exist.\n",
        "            \"\"\"\n",
        "            continue\n",
        "\n",
        "        if _all_servers_busy:\n",
        "            \"\"\"\n",
        "                (2) When all servers are busy and queue is full\n",
        "                    we can just drop new jobs or take one job from queue.\n",
        "                (3) When all servers are busy we can\n",
        "                        add job to queue\n",
        "                        or take one job from the queue.\n",
        "                    In Marcov process we can't do job\n",
        "                    and add new one to queue at once.\n",
        "            \"\"\"\n",
        "            if not _empty_queue:\n",
        "                next_state = (servers, queue_size - 1)\n",
        "                if allow_parellel_service_rate_nonempty_queue:\n",
        "                    transitions_rates[i][SI[next_state]] = DEPARTURE_RATE * sum(servers)\n",
        "                else:\n",
        "                    transitions_rates[i][SI[next_state]] = DEPARTURE_RATE\n",
        "\n",
        "                if allow_simultaneous_queue_departure:\n",
        "                    \n",
        "                    pass\n",
        "\n",
        "            if not _full_queue:\n",
        "                next_state = (servers, queue_size + 1)\n",
        "                transitions_rates[i][SI[next_state]] = ARRIVAL_RATE\n",
        "\n",
        "        if _empty_queue:\n",
        "            \"\"\"\n",
        "                (4) On empty queue we can \n",
        "                        transit each busy server state to idle\n",
        "                        or load any idle server because of (1).\n",
        "                \n",
        "            \"\"\"\n",
        "            # complete jobs\n",
        "            if not _all_servers_idle:\n",
        "                busy_servers = [j for j, s in enumerate(servers) if s == BUSY]\n",
        "\n",
        "                for j in busy_servers:\n",
        "                    next_servers_states = list(servers)\n",
        "                    next_servers_states[j] = IDLE\n",
        "                    next_state = (tuple(next_servers_states), queue_size)\n",
        "                    if allow_parellel_service_rate_empty_queue:\n",
        "                        transitions_rates[i][SI[next_state]] = DEPARTURE_RATE * sum(servers)\n",
        "                    else:\n",
        "                        transitions_rates[i][SI[next_state]] = DEPARTURE_RATE\n",
        "\n",
        "                if allow_simultaneous_job_completion:\n",
        "                    for j in range(len(busy_servers)):\n",
        "                        for complete_servers in combinations(busy_servers, j + 1):\n",
        "                            next_servers_states = list(servers)\n",
        "                            for k in complete_servers:\n",
        "                                next_servers_states[k] = IDLE\n",
        "                            next_state = (tuple(next_servers_states), queue_size)\n",
        "                            transitions_rates[i][SI[next_state]] = DEPARTURE_RATE * sum(servers)\n",
        "\n",
        "            # load idle servers\n",
        "            if not _all_servers_busy:\n",
        "                idle_servers = [j for j, s in enumerate(servers) if s == IDLE]\n",
        "                relative_sum_rate = sum([P_SERVER[j] for j in idle_servers])\n",
        "\n",
        "                for j in idle_servers:\n",
        "                    next_servers_states = list(servers)\n",
        "                    next_servers_states[j] = BUSY\n",
        "                    next_state = (tuple(next_servers_states), queue_size)\n",
        "\n",
        "                    if allow_selecting_server_with_probability:\n",
        "                        if allow_selection_probability_correction:\n",
        "                            relative_rate = P_SERVER[j] / relative_sum_rate\n",
        "                        else:\n",
        "                            relative_rate = P_SERVER[j]\n",
        "                    else:\n",
        "                        relative_rate = 1\n",
        "\n",
        "                    transitions_rates[i][SI[next_state]] = ARRIVAL_RATE * relative_rate\n",
        "\n",
        "    return {k: v for k, v in transitions_rates.items() if v}\n",
        "\n",
        "\n",
        "available_states = make_state_graph(\n",
        "    allow_simultaneous_job_completion=False,\n",
        "    allow_simultaneous_queue_departure=False,\n",
        "    allow_selecting_server_with_probability=True,\n",
        "    allow_selection_probability_correction=True,\n",
        "    allow_parellel_service_rate_nonempty_queue=True,\n",
        "    allow_parellel_service_rate_empty_queue=False,\n",
        ")\n",
        "\n",
        "for state, transitions in available_states.items():\n",
        "    print(f\"{state}:  {S[state]}\")\n",
        "    for next_state, rate in transitions.items():\n",
        "        print(f\"  [{rate:.4f}]-> {next_state}\")"
      ]
    },
    {
      "cell_type": "code",
      "execution_count": null,
      "id": "1917eb13-8701-4087-ba1c-849d392086ff",
      "metadata": {
        "colab": {
          "base_uri": "https://localhost:8080/",
          "height": 563
        },
        "id": "1917eb13-8701-4087-ba1c-849d392086ff",
        "outputId": "3ced94b5-4171-43ad-f94a-752767431ee8"
      },
      "outputs": [],
      "source": [
        "def draw_graph(graph: dict):\n",
        "    g = Digraph(engine=\"circo\") # engine=\"sfdp\"\n",
        "    g.attr(overlap=\"prism\") # overlap=\"scalexy\"\n",
        "\n",
        "    for node, neighbours in graph.items():\n",
        "        for neighbour, weight in neighbours.items():\n",
        "            from_id = str(S[node])\n",
        "            to_id = str(S[neighbour])\n",
        "\n",
        "            assert weight - 0.001 > 0, f\"{weight = }\"\n",
        "\n",
        "            g.node(from_id, from_id, shape=\"circle\", margin=\"0\")\n",
        "\n",
        "            if sum(S[node][0]) + S[node][1] < sum(S[neighbour][0]) + S[neighbour][1]:\n",
        "                color = \"red\" \n",
        "            else:\n",
        "                color = \"blue\"\n",
        "\n",
        "            g.edge(from_id, to_id, f\"{1.0 * weight:.3}\", color=color, fontcolor=color)\n",
        "    return g\n",
        "\n",
        "\n",
        "display(draw_graph(available_states))"
      ]
    },
    {
      "cell_type": "code",
      "execution_count": null,
      "id": "19260a92-43cf-4575-9f7c-fcea3ec582ca",
      "metadata": {
        "colab": {
          "base_uri": "https://localhost:8080/",
          "height": 817
        },
        "id": "19260a92-43cf-4575-9f7c-fcea3ec582ca",
        "outputId": "912a5e9a-2114-4dc9-9341-369d9f104a3f"
      },
      "outputs": [],
      "source": [
        "def make_transition_rate_matrix(graph: dict):\n",
        "    index = {s: i for i, s in enumerate(graph)}\n",
        "\n",
        "    n = len(graph)\n",
        "    matrix = np.zeros((n, n))\n",
        "\n",
        "    for from_state, to_states in graph.items():\n",
        "        for to_state, rate in to_states.items():\n",
        "            matrix[index[from_state], index[to_state]] = rate\n",
        "\n",
        "    for i in range(n):\n",
        "        matrix[i, i] = -sum(matrix[i, :])\n",
        "\n",
        "    return matrix\n",
        "\n",
        "transition_rate_matrix = make_transition_rate_matrix(available_states)\n",
        "\n",
        "fig = px.imshow(\n",
        "    transition_rate_matrix,\n",
        "    text_auto = True,\n",
        "    height = 800,\n",
        "    color_continuous_scale = [[0, 'red'], [0.5, '#f8f8f8'], [1, 'green']],\n",
        "    color_continuous_midpoint = 0.0,\n",
        ")\n",
        "fig.update_layout(\n",
        "    title='Filtered Transition Rate Matrix',\n",
        "    xaxis_title='Next State',\n",
        "    yaxis_title='Current State',\n",
        ")\n",
        "fig.show()"
      ]
    },
    {
      "cell_type": "code",
      "execution_count": null,
      "id": "6890ab04-0c83-47f2-ba18-753a07285163",
      "metadata": {
        "colab": {
          "base_uri": "https://localhost:8080/"
        },
        "id": "6890ab04-0c83-47f2-ba18-753a07285163",
        "outputId": "9c915e9a-faef-4570-8d49-0b2eb19a4a7d"
      },
      "outputs": [],
      "source": [
        "def get_probs_of_states(transition_rate_matrix):\n",
        "    shape = transition_rate_matrix.shape\n",
        "    assert len(shape) == 2\n",
        "    assert shape[0] == shape[1]\n",
        "    n = shape[0]\n",
        "\n",
        "    equations = transition_rate_matrix.T\n",
        "    equations[0, :] = np.ones(n)\n",
        "    bvector = np.zeros(n)\n",
        "    bvector[0] = 1\n",
        "    return np.linalg.solve(equations, bvector)\n",
        "\n",
        "\n",
        "probs = get_probs_of_states(transition_rate_matrix)\n",
        "\n",
        "for i, (si, p) in enumerate(zip(available_states.keys(), probs)):\n",
        "    print(f\"{i: 3}. {S[si]}:  {p:.6f}\")\n",
        "\n",
        "print(f\"\\nΣ = {sum(probs)}\")"
      ]
    },
    {
      "cell_type": "code",
      "execution_count": 34,
      "id": "AmyxKM8o9oqS",
      "metadata": {
        "colab": {
          "base_uri": "https://localhost:8080/"
        },
        "id": "AmyxKM8o9oqS",
        "outputId": "883df965-dec8-4603-b964-30c96b95db74"
      },
      "outputs": [
        {
          "name": "stdout",
          "output_type": "stream",
          "text": [
            "Нагрузка            y = [1.2 0.5 0.3], Σy = 2.0\n",
            "Загрузка            ρ = [0.68903839 0.62671152 0.5880095 ], Σρ = 1.90375940, avg(ρ) = 0.63458647\n",
            "Длина очереди       l = 0.39699248\n",
            "Число заявок        m = 2.30075188 \n",
            "Время ожидания      w = [0.69510269 1.66824645 2.78041074], Σw 0.41706161\n",
            "Время пребывания    u = [ 4.02843602  9.66824645 16.11374408], Σu 2.41706161\n",
            "Вероятность потери  π = 0.04812030 = 0.04812030\n",
            "Производительность  λ' = [0.57112782 0.23796992 0.14278195], Σλ' 0.95187970\n"
          ]
        }
      ],
      "source": [
        "# TODO\n",
        "y = np.array(P_SERVER) * (ARRIVAL_RATE / DEPARTURE_RATE)  # Нагрузка\n",
        "pbusy = np.zeros(N)  # Загрузка\n",
        "l = 0  # Длина очереди\n",
        "m = 0  # Число заявок\n",
        "loss = 0  # Вероятность потери\n",
        "\n",
        "prod = np.zeros(N)  # Производительность\n",
        "wtime = np.zeros(N)  # Время ожидания\n",
        "ttime = np.zeros(N)  # Время пребывания\n",
        "\n",
        "\n",
        "for si, prob in zip(available_states.keys(), probs):\n",
        "    servers, queue_size = S[si]\n",
        "\n",
        "    pbusy += prob * np.array(servers)\n",
        "    m += prob * (queue_size + sum(servers))\n",
        "\n",
        "    l += prob * queue_size  # матожидание длины очереди\n",
        "\n",
        "    # Probability of loss?\n",
        "    if queue_size == QUEUE_MAX_SIZE and sum(servers) == 3:\n",
        "        loss += prob\n",
        "\n",
        "prod = ARRIVAL_RATE * np.array(P_SERVER) * (1 - loss)\n",
        "wtime = l / prod\n",
        "ttime = m / prod\n",
        "\n",
        "print(f\"Нагрузка            y = {y}, Σy = {sum(y):.8}\")\n",
        "print(f\"Загрузка            ρ = {pbusy}, Σρ = {sum(pbusy):.8f}, avg(ρ) = {sum(pbusy) / N:.8f}\")\n",
        "print(f\"Длина очереди       l = {l:.8f}\")\n",
        "print(f\"Число заявок        m = {m:.8f} \")\n",
        "print(f\"Время ожидания      w = {wtime}, Σw {l / sum(prod):.8f}\")\n",
        "print(f\"Время пребывания    u = {ttime}, Σu {m / sum(prod):.8f}\")\n",
        "print(f\"Вероятность потери  π = {loss:.8f} = {probs[-1]:.8f}\")\n",
        "print(f\"Производительность  λ' = {prod}, Σλ' {sum(prod):.8f}\")"
      ]
    },
    {
      "cell_type": "markdown",
      "id": "2a111fc0",
      "metadata": {},
      "source": [
        "[исправленная модель системы_1 в GPSS](../lab-3/smo%20GGKE_lab-2_system-1-fix_greg.txt)\n",
        "\n",
        "и [старая модель системы_1 в GPSS](../lab-3/smo%20GGKE_lab-2_system-1.txt)"
      ]
    },
    {
      "cell_type": "markdown",
      "id": "afa702bc",
      "metadata": {},
      "source": [
        "для новой модели\n",
        "\n",
        "Эксперимент 1\n",
        "\n",
        "![system-2_fix_report_variables.png](../lab-3/res/system-2_fix_report_variables.png)\n",
        "![system-2_fix_report_block-hit-rate.png](../lab-3/res/system-2_fix_report_block-hit-rate.png)\n",
        "![system-2_fix_report_servers.png](../lab-3/res/system-2_fix_report_servers.png)\n",
        "![system-2_fix_report_queues.png](../lab-3/res/system-2_fix_report_queues.png)\n",
        "![system-2_fix_report_multi-chan-servers.png](../lab-3/res/system-2_fix_report_multi-chan-servers.png)\n",
        "![system-2_fix_report_logic.png](../lab-3/res/system-2_fix_report_logic.png)"
      ]
    },
    {
      "cell_type": "code",
      "execution_count": 9,
      "id": "4cea9f83",
      "metadata": {},
      "outputs": [],
      "source": [
        "# !pip freeze > requirements.txt"
      ]
    }
  ],
  "metadata": {
    "colab": {
      "provenance": []
    },
    "kernelspec": {
      "display_name": ".venv",
      "language": "python",
      "name": "python3"
    },
    "language_info": {
      "codemirror_mode": {
        "name": "ipython",
        "version": 3
      },
      "file_extension": ".py",
      "mimetype": "text/x-python",
      "name": "python",
      "nbconvert_exporter": "python",
      "pygments_lexer": "ipython3",
      "version": "3.13.1"
    }
  },
  "nbformat": 4,
  "nbformat_minor": 5
}
