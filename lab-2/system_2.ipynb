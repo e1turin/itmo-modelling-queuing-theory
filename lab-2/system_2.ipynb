{
  "cells": [
    {
      "cell_type": "code",
      "execution_count": 3,
      "id": "85107e3a-f1e9-4704-8c9d-8e41d56c8fd6",
      "metadata": {
        "id": "85107e3a-f1e9-4704-8c9d-8e41d56c8fd6"
      },
      "outputs": [],
      "source": [
        "# !pip install -r requirements.txt\n",
        "%reset -f\n",
        "import plotly.express as px\n",
        "from graphviz import Digraph\n",
        "from itertools import product, combinations\n",
        "import numpy as np"
      ]
    },
    {
      "cell_type": "markdown",
      "id": "8bfd0d06",
      "metadata": {},
      "source": [
        "![](./res/lab-1_system-2.png)"
      ]
    },
    {
      "cell_type": "code",
      "execution_count": 6,
      "id": "30944866-8d36-43f2-8ab0-485cbd015b7a",
      "metadata": {
        "colab": {
          "base_uri": "https://localhost:8080/"
        },
        "id": "30944866-8d36-43f2-8ab0-485cbd015b7a",
        "outputId": "fcfe9f35-af7a-4316-bd51-1188e5bc56f3"
      },
      "outputs": [
        {
          "name": "stdout",
          "output_type": "stream",
          "text": [
            "λ = 1.0\n",
            "b = 2.0 ⇒ μ = 0.5\n",
            "\n",
            "Probability pi of selecting server i:\n",
            "p1 = 0.6\n",
            "p2 = 0.4\n"
          ]
        }
      ],
      "source": [
        "ARRIVAL_RATE = LAMBDA = 1.0 # λ\n",
        "SERVICE_TIME = B = 2.0\n",
        "DEPARTURE_RATE = MU = 1 / B # μ\n",
        "QUEUE_MAX_SIZE = 2\n",
        "print(f\"λ = {LAMBDA}\")\n",
        "print(f\"b = {B} ⇒ μ = {MU}\")\n",
        "\n",
        "NUM_SERVERS = N = 2\n",
        "P_SERVER = [0.6, 0.4]\n",
        "assert len(P_SERVER) == N\n",
        "assert sum(P_SERVER) == 1\n",
        "\n",
        "ERLANG_K = K = 3\n",
        "\n",
        "print(\"\\nProbability pi of selecting server i:\")\n",
        "for i, p in enumerate(P_SERVER):\n",
        "    print(f\"p{i + 1} = {p}\")"
      ]
    },
    {
      "cell_type": "code",
      "execution_count": 14,
      "id": "0Y9tDZlyTdkX",
      "metadata": {
        "id": "0Y9tDZlyTdkX"
      },
      "outputs": [],
      "source": [
        "SERVER_STATES = [IDLE, BUSY] = [0, 1]  # idle / busy\n",
        "ERLANG_STATES = list(range(1, ERLANG_K + 1))  # one of stages\n",
        "QUEUE_STATES = list(range(0, QUEUE_MAX_SIZE + 1))  # has jobs or empty\n",
        "\n",
        "SERVERS_STATES_COMBINED = list(product(SERVER_STATES, [IDLE, *ERLANG_STATES]))\n",
        "ALL_STATES_COMBINED = S = list(product(SERVERS_STATES_COMBINED, QUEUE_STATES))\n",
        "STATES_INDEX = SI = {s: i for i, s in enumerate(ALL_STATES_COMBINED)}"
      ]
    },
    {
      "cell_type": "code",
      "execution_count": 15,
      "id": "3f51e057",
      "metadata": {},
      "outputs": [
        {
          "name": "stdout",
          "output_type": "stream",
          "text": [
            "((0, 0), 0)\n",
            "((0, 0), 1)\n",
            "((0, 0), 2)\n",
            "((0, 1), 0)\n",
            "((0, 1), 1)\n",
            "((0, 1), 2)\n",
            "((0, 2), 0)\n",
            "((0, 2), 1)\n",
            "((0, 2), 2)\n",
            "((0, 3), 0)\n",
            "((0, 3), 1)\n",
            "((0, 3), 2)\n",
            "((1, 0), 0)\n",
            "((1, 0), 1)\n",
            "((1, 0), 2)\n",
            "((1, 1), 0)\n",
            "((1, 1), 1)\n",
            "((1, 1), 2)\n",
            "((1, 2), 0)\n",
            "((1, 2), 1)\n",
            "((1, 2), 2)\n",
            "((1, 3), 0)\n",
            "((1, 3), 1)\n",
            "((1, 3), 2)\n"
          ]
        }
      ],
      "source": [
        "for s in ALL_STATES_COMBINED:\n",
        "    print(s)"
      ]
    },
    {
      "cell_type": "code",
      "execution_count": 16,
      "id": "8df44b1d-63c1-451d-a0a6-3422ee60a5b8",
      "metadata": {
        "id": "8df44b1d-63c1-451d-a0a6-3422ee60a5b8"
      },
      "outputs": [
        {
          "name": "stdout",
          "output_type": "stream",
          "text": [
            "0:  ((0, 0), 0)\n",
            "  [0.6000]-> 12\n",
            "  [0.4000]-> 3\n",
            "3:  ((0, 1), 0)\n",
            "  [0.5000]-> 0\n",
            "  [1.0000]-> 15\n",
            "6:  ((0, 2), 0)\n",
            "  [1.0000]-> 18\n",
            "9:  ((0, 3), 0)\n",
            "  [1.0000]-> 21\n",
            "12:  ((1, 0), 0)\n",
            "  [0.5000]-> 0\n",
            "  [1.0000]-> 15\n",
            "15:  ((1, 1), 0)\n",
            "  [1.0000]-> 16\n",
            "  [0.5000]-> 3\n",
            "  [0.5000]-> 12\n",
            "16:  ((1, 1), 1)\n",
            "  [1.0000]-> 15\n",
            "  [1.0000]-> 17\n",
            "17:  ((1, 1), 2)\n",
            "  [1.0000]-> 16\n",
            "18:  ((1, 2), 0)\n",
            "  [1.0000]-> 19\n",
            "  [0.5000]-> 6\n",
            "19:  ((1, 2), 1)\n",
            "  [1.5000]-> 18\n",
            "  [1.0000]-> 20\n",
            "20:  ((1, 2), 2)\n",
            "  [1.5000]-> 19\n",
            "21:  ((1, 3), 0)\n",
            "  [1.0000]-> 22\n",
            "  [0.5000]-> 9\n",
            "22:  ((1, 3), 1)\n",
            "  [2.0000]-> 21\n",
            "  [1.0000]-> 23\n",
            "23:  ((1, 3), 2)\n",
            "  [2.0000]-> 22\n"
          ]
        }
      ],
      "source": [
        "# TODO\n",
        "def make_state_graph(\n",
        "    allow_simultaneous_job_completion=False,\n",
        "    allow_simultaneous_queue_departure=False,\n",
        "    allow_selecting_server_with_probability=True,\n",
        "    allow_selection_probability_correction=True,\n",
        "    allow_parellel_service_rate_nonempty_queue=True,\n",
        "    allow_parellel_service_rate_empty_queue=False,\n",
        "):\n",
        "    \"\"\"\n",
        "    servers |queue |\n",
        "    ========+======+\n",
        "            |#|*|0 |\n",
        "    --------+-+-+--+\n",
        "    |(1,1,1)|s|s|sq|\n",
        "    |   *   |x|x| q|\n",
        "    |(0,0,0)|x|x| q|\n",
        "\n",
        "    # = full queue\n",
        "    * = any middle values\n",
        "    x = impossible (1)\n",
        "    s = solved with condition on servers (2), (3)\n",
        "    q = solved with condition on queue (4)\n",
        "    \"\"\"\n",
        "    transitions_rates = {}  # weighted digraph of transitions between states with rate\n",
        "\n",
        "    for i, current_state in enumerate(ALL_STATES_COMBINED):\n",
        "        servers, queue_size = current_state\n",
        "\n",
        "        transitions_rates[i] = {}\n",
        "\n",
        "        _all_servers_busy = all(map(lambda s: s != IDLE, servers))\n",
        "        _all_servers_idle = all(map(lambda s: s == IDLE, servers))\n",
        "        _full_queue = queue_size == QUEUE_MAX_SIZE\n",
        "        _empty_queue = queue_size == 0\n",
        "\n",
        "        if not _empty_queue and not _all_servers_busy:\n",
        "            \"\"\"\n",
        "                (1) Impossible situation in Marcov process: \n",
        "                        if in queue there is at least 1 job \n",
        "                        then no idle server can exist.\n",
        "            \"\"\"\n",
        "            continue\n",
        "\n",
        "        if _all_servers_busy:\n",
        "            \"\"\"\n",
        "                (2) When all servers are busy and queue is full\n",
        "                    we can just drop new jobs or take one job from queue.\n",
        "                (3) When all servers are busy we can\n",
        "                        add job to queue\n",
        "                        or take one job from the queue.\n",
        "                    In Marcov process we can't do job\n",
        "                    and add new one to queue at once.\n",
        "            \"\"\"\n",
        "            if not _empty_queue:\n",
        "                next_state = (servers, queue_size - 1)\n",
        "                if allow_parellel_service_rate_nonempty_queue:\n",
        "                    transitions_rates[i][SI[next_state]] = DEPARTURE_RATE * sum(servers)\n",
        "                else:\n",
        "                    transitions_rates[i][SI[next_state]] = DEPARTURE_RATE\n",
        "\n",
        "                if allow_simultaneous_queue_departure:\n",
        "                    \n",
        "                    pass\n",
        "\n",
        "            if not _full_queue:\n",
        "                next_state = (servers, queue_size + 1)\n",
        "                transitions_rates[i][SI[next_state]] = ARRIVAL_RATE\n",
        "\n",
        "        if _empty_queue:\n",
        "            \"\"\"\n",
        "                (4) On empty queue we can \n",
        "                        transit each busy server state to idle\n",
        "                        or load any idle server because of (1).\n",
        "                \n",
        "            \"\"\"\n",
        "            # complete jobs\n",
        "            if not _all_servers_idle:\n",
        "                busy_servers = [j for j, s in enumerate(servers) if s == BUSY]\n",
        "\n",
        "                for j in busy_servers:\n",
        "                    next_servers_states = list(servers)\n",
        "                    next_servers_states[j] = IDLE\n",
        "                    next_state = (tuple(next_servers_states), queue_size)\n",
        "                    if allow_parellel_service_rate_empty_queue:\n",
        "                        transitions_rates[i][SI[next_state]] = DEPARTURE_RATE * sum(servers)\n",
        "                    else:\n",
        "                        transitions_rates[i][SI[next_state]] = DEPARTURE_RATE\n",
        "\n",
        "                if allow_simultaneous_job_completion:\n",
        "                    for j in range(len(busy_servers)):\n",
        "                        for complete_servers in combinations(busy_servers, j + 1):\n",
        "                            next_servers_states = list(servers)\n",
        "                            for k in complete_servers:\n",
        "                                next_servers_states[k] = IDLE\n",
        "                            next_state = (tuple(next_servers_states), queue_size)\n",
        "                            transitions_rates[i][SI[next_state]] = DEPARTURE_RATE * sum(servers)\n",
        "\n",
        "            # load idle servers\n",
        "            if not _all_servers_busy:\n",
        "                idle_servers = [j for j, s in enumerate(servers) if s == IDLE]\n",
        "                relative_sum_rate = sum([P_SERVER[j] for j in idle_servers])\n",
        "\n",
        "                for j in idle_servers:\n",
        "                    next_servers_states = list(servers)\n",
        "                    next_servers_states[j] = BUSY\n",
        "                    next_state = (tuple(next_servers_states), queue_size)\n",
        "\n",
        "                    if allow_selecting_server_with_probability:\n",
        "                        if allow_selection_probability_correction:\n",
        "                            relative_rate = P_SERVER[j] / relative_sum_rate\n",
        "                        else:\n",
        "                            relative_rate = P_SERVER[j]\n",
        "                    else:\n",
        "                        relative_rate = 1\n",
        "\n",
        "                    transitions_rates[i][SI[next_state]] = ARRIVAL_RATE * relative_rate\n",
        "\n",
        "    return {k: v for k, v in transitions_rates.items() if v}\n",
        "\n",
        "\n",
        "available_states = make_state_graph(\n",
        "    allow_simultaneous_job_completion=False,\n",
        "    allow_simultaneous_queue_departure=False,\n",
        "    allow_selecting_server_with_probability=True,\n",
        "    allow_selection_probability_correction=True,\n",
        "    allow_parellel_service_rate_nonempty_queue=True,\n",
        "    allow_parellel_service_rate_empty_queue=False,\n",
        ")\n",
        "\n",
        "for state, transitions in available_states.items():\n",
        "    print(f\"{state}:  {S[state]}\")\n",
        "    for next_state, rate in transitions.items():\n",
        "        print(f\"  [{rate:.4f}]-> {next_state}\")"
      ]
    },
    {
      "cell_type": "code",
      "execution_count": 17,
      "id": "1917eb13-8701-4087-ba1c-849d392086ff",
      "metadata": {
        "colab": {
          "base_uri": "https://localhost:8080/",
          "height": 563
        },
        "id": "1917eb13-8701-4087-ba1c-849d392086ff",
        "outputId": "3ced94b5-4171-43ad-f94a-752767431ee8"
      },
      "outputs": [
        {
          "data": {
            "image/svg+xml": [
              "<?xml version=\"1.0\" encoding=\"UTF-8\" standalone=\"no\"?>\n",
              "<!DOCTYPE svg PUBLIC \"-//W3C//DTD SVG 1.1//EN\"\n",
              " \"http://www.w3.org/Graphics/SVG/1.1/DTD/svg11.dtd\">\n",
              "<!-- Generated by graphviz version 12.2.1 (20241206.2353)\n",
              " -->\n",
              "<!-- Pages: 1 -->\n",
              "<svg width=\"800pt\" height=\"264pt\"\n",
              " viewBox=\"0.00 0.00 799.68 263.91\" xmlns=\"http://www.w3.org/2000/svg\" xmlns:xlink=\"http://www.w3.org/1999/xlink\">\n",
              "<g id=\"graph0\" class=\"graph\" transform=\"scale(1 1) rotate(0) translate(4 259.91)\">\n",
              "<polygon fill=\"white\" stroke=\"none\" points=\"-4,4 -4,-259.91 795.68,-259.91 795.68,4 -4,4\"/>\n",
              "<!-- ((0, 0), 0) -->\n",
              "<g id=\"node1\" class=\"node\">\n",
              "<title>((0, 0), 0)</title>\n",
              "<ellipse fill=\"none\" stroke=\"black\" cx=\"29.96\" cy=\"-113.96\" rx=\"29.96\" ry=\"29.96\"/>\n",
              "<text text-anchor=\"middle\" x=\"29.96\" y=\"-108.91\" font-family=\"Times New Roman,serif\" font-size=\"14.00\">((0, 0), 0)</text>\n",
              "</g>\n",
              "<!-- ((1, 0), 0) -->\n",
              "<g id=\"node2\" class=\"node\">\n",
              "<title>((1, 0), 0)</title>\n",
              "<ellipse fill=\"none\" stroke=\"black\" cx=\"113.94\" cy=\"-197.94\" rx=\"29.96\" ry=\"29.96\"/>\n",
              "<text text-anchor=\"middle\" x=\"113.94\" y=\"-192.89\" font-family=\"Times New Roman,serif\" font-size=\"14.00\">((1, 0), 0)</text>\n",
              "</g>\n",
              "<!-- ((0, 0), 0)&#45;&gt;((1, 0), 0) -->\n",
              "<g id=\"edge1\" class=\"edge\">\n",
              "<title>((0, 0), 0)&#45;&gt;((1, 0), 0)</title>\n",
              "<path fill=\"none\" stroke=\"red\" d=\"M46.53,-138.9C56.22,-149.84 68.74,-162.61 80.37,-173.5\"/>\n",
              "<polygon fill=\"red\" stroke=\"red\" points=\"77.77,-175.86 87.51,-180.02 82.48,-170.69 77.77,-175.86\"/>\n",
              "<text text-anchor=\"middle\" x=\"54.83\" y=\"-159.4\" font-family=\"Times New Roman,serif\" font-size=\"14.00\" fill=\"red\">0.6</text>\n",
              "</g>\n",
              "<!-- ((0, 1), 0) -->\n",
              "<g id=\"node3\" class=\"node\">\n",
              "<title>((0, 1), 0)</title>\n",
              "<ellipse fill=\"none\" stroke=\"black\" cx=\"113.94\" cy=\"-29.98\" rx=\"29.96\" ry=\"29.96\"/>\n",
              "<text text-anchor=\"middle\" x=\"113.94\" y=\"-24.93\" font-family=\"Times New Roman,serif\" font-size=\"14.00\">((0, 1), 0)</text>\n",
              "</g>\n",
              "<!-- ((0, 0), 0)&#45;&gt;((0, 1), 0) -->\n",
              "<g id=\"edge2\" class=\"edge\">\n",
              "<title>((0, 0), 0)&#45;&gt;((0, 1), 0)</title>\n",
              "<path fill=\"none\" stroke=\"red\" d=\"M54.9,-97.38C65.84,-87.69 78.61,-75.18 89.5,-63.55\"/>\n",
              "<polygon fill=\"red\" stroke=\"red\" points=\"91.86,-66.15 96.02,-56.4 86.69,-61.43 91.86,-66.15\"/>\n",
              "<text text-anchor=\"middle\" x=\"63.57\" y=\"-67.16\" font-family=\"Times New Roman,serif\" font-size=\"14.00\" fill=\"red\">0.4</text>\n",
              "</g>\n",
              "<!-- ((1, 0), 0)&#45;&gt;((0, 0), 0) -->\n",
              "<g id=\"edge7\" class=\"edge\">\n",
              "<title>((1, 0), 0)&#45;&gt;((0, 0), 0)</title>\n",
              "<path fill=\"none\" stroke=\"blue\" d=\"M97.36,-172.99C87.67,-162.05 75.16,-149.28 63.52,-138.4\"/>\n",
              "<polygon fill=\"blue\" stroke=\"blue\" points=\"66.13,-136.03 56.38,-131.88 61.41,-141.2 66.13,-136.03\"/>\n",
              "<text text-anchor=\"middle\" x=\"71.82\" y=\"-142.4\" font-family=\"Times New Roman,serif\" font-size=\"14.00\" fill=\"blue\">0.5</text>\n",
              "</g>\n",
              "<!-- ((1, 1), 0) -->\n",
              "<g id=\"node4\" class=\"node\">\n",
              "<title>((1, 1), 0)</title>\n",
              "<ellipse fill=\"none\" stroke=\"black\" cx=\"197.91\" cy=\"-113.96\" rx=\"29.96\" ry=\"29.96\"/>\n",
              "<text text-anchor=\"middle\" x=\"197.91\" y=\"-108.91\" font-family=\"Times New Roman,serif\" font-size=\"14.00\">((1, 1), 0)</text>\n",
              "</g>\n",
              "<!-- ((1, 0), 0)&#45;&gt;((1, 1), 0) -->\n",
              "<g id=\"edge8\" class=\"edge\">\n",
              "<title>((1, 0), 0)&#45;&gt;((1, 1), 0)</title>\n",
              "<path fill=\"none\" stroke=\"red\" d=\"M138.88,-181.36C149.82,-171.67 162.59,-159.16 173.47,-147.52\"/>\n",
              "<polygon fill=\"red\" stroke=\"red\" points=\"175.84,-150.13 179.99,-140.38 170.67,-145.41 175.84,-150.13\"/>\n",
              "<text text-anchor=\"middle\" x=\"147.55\" y=\"-151.14\" font-family=\"Times New Roman,serif\" font-size=\"14.00\" fill=\"red\">1.0</text>\n",
              "</g>\n",
              "<!-- ((0, 1), 0)&#45;&gt;((0, 0), 0) -->\n",
              "<g id=\"edge3\" class=\"edge\">\n",
              "<title>((0, 1), 0)&#45;&gt;((0, 0), 0)</title>\n",
              "<path fill=\"none\" stroke=\"blue\" d=\"M88.99,-46.55C78.05,-56.24 65.28,-68.76 54.4,-80.39\"/>\n",
              "<polygon fill=\"blue\" stroke=\"blue\" points=\"52.03,-77.79 47.88,-87.53 57.2,-82.51 52.03,-77.79\"/>\n",
              "<text text-anchor=\"middle\" x=\"63.07\" y=\"-50.17\" font-family=\"Times New Roman,serif\" font-size=\"14.00\" fill=\"blue\">0.5</text>\n",
              "</g>\n",
              "<!-- ((0, 1), 0)&#45;&gt;((1, 1), 0) -->\n",
              "<g id=\"edge4\" class=\"edge\">\n",
              "<title>((0, 1), 0)&#45;&gt;((1, 1), 0)</title>\n",
              "<path fill=\"none\" stroke=\"red\" d=\"M130.51,-54.92C140.2,-65.87 152.71,-78.63 164.35,-89.52\"/>\n",
              "<polygon fill=\"red\" stroke=\"red\" points=\"161.74,-91.88 171.49,-96.04 166.46,-86.71 161.74,-91.88\"/>\n",
              "<text text-anchor=\"middle\" x=\"138.8\" y=\"-75.42\" font-family=\"Times New Roman,serif\" font-size=\"14.00\" fill=\"red\">1.0</text>\n",
              "</g>\n",
              "<!-- ((1, 1), 0)&#45;&gt;((1, 0), 0) -->\n",
              "<g id=\"edge11\" class=\"edge\">\n",
              "<title>((1, 1), 0)&#45;&gt;((1, 0), 0)</title>\n",
              "<path fill=\"none\" stroke=\"blue\" d=\"M172.97,-130.53C162.03,-140.22 149.26,-152.74 138.38,-164.37\"/>\n",
              "<polygon fill=\"blue\" stroke=\"blue\" points=\"136.01,-161.77 131.86,-171.51 141.18,-166.48 136.01,-161.77\"/>\n",
              "<text text-anchor=\"middle\" x=\"147.05\" y=\"-134.15\" font-family=\"Times New Roman,serif\" font-size=\"14.00\" fill=\"blue\">0.5</text>\n",
              "</g>\n",
              "<!-- ((1, 1), 0)&#45;&gt;((0, 1), 0) -->\n",
              "<g id=\"edge10\" class=\"edge\">\n",
              "<title>((1, 1), 0)&#45;&gt;((0, 1), 0)</title>\n",
              "<path fill=\"none\" stroke=\"blue\" d=\"M181.34,-89.01C171.65,-78.07 159.14,-65.3 147.5,-54.42\"/>\n",
              "<polygon fill=\"blue\" stroke=\"blue\" points=\"150.11,-52.05 140.36,-47.9 145.39,-57.22 150.11,-52.05\"/>\n",
              "<text text-anchor=\"middle\" x=\"155.8\" y=\"-58.42\" font-family=\"Times New Roman,serif\" font-size=\"14.00\" fill=\"blue\">0.5</text>\n",
              "</g>\n",
              "<!-- ((1, 1), 1) -->\n",
              "<g id=\"node9\" class=\"node\">\n",
              "<title>((1, 1), 1)</title>\n",
              "<ellipse fill=\"none\" stroke=\"black\" cx=\"299.87\" cy=\"-113.96\" rx=\"29.96\" ry=\"29.96\"/>\n",
              "<text text-anchor=\"middle\" x=\"299.87\" y=\"-108.91\" font-family=\"Times New Roman,serif\" font-size=\"14.00\">((1, 1), 1)</text>\n",
              "</g>\n",
              "<!-- ((1, 1), 0)&#45;&gt;((1, 1), 1) -->\n",
              "<g id=\"edge9\" class=\"edge\">\n",
              "<title>((1, 1), 0)&#45;&gt;((1, 1), 1)</title>\n",
              "<path fill=\"none\" stroke=\"red\" d=\"M227.68,-120.16C237.42,-120.69 248.41,-120.84 258.83,-120.59\"/>\n",
              "<polygon fill=\"red\" stroke=\"red\" points=\"258.88,-124.09 268.73,-120.21 258.61,-117.1 258.88,-124.09\"/>\n",
              "<text text-anchor=\"middle\" x=\"251.88\" y=\"-123.57\" font-family=\"Times New Roman,serif\" font-size=\"14.00\" fill=\"red\">1.0</text>\n",
              "</g>\n",
              "<!-- ((0, 2), 0) -->\n",
              "<g id=\"node5\" class=\"node\">\n",
              "<title>((0, 2), 0)</title>\n",
              "<ellipse fill=\"none\" stroke=\"black\" cx=\"281.98\" cy=\"-29.96\" rx=\"29.96\" ry=\"29.96\"/>\n",
              "<text text-anchor=\"middle\" x=\"281.98\" y=\"-24.91\" font-family=\"Times New Roman,serif\" font-size=\"14.00\">((0, 2), 0)</text>\n",
              "</g>\n",
              "<!-- ((1, 2), 0) -->\n",
              "<g id=\"node6\" class=\"node\">\n",
              "<title>((1, 2), 0)</title>\n",
              "<ellipse fill=\"none\" stroke=\"black\" cx=\"413.89\" cy=\"-29.96\" rx=\"29.96\" ry=\"29.96\"/>\n",
              "<text text-anchor=\"middle\" x=\"413.89\" y=\"-24.91\" font-family=\"Times New Roman,serif\" font-size=\"14.00\">((1, 2), 0)</text>\n",
              "</g>\n",
              "<!-- ((0, 2), 0)&#45;&gt;((1, 2), 0) -->\n",
              "<g id=\"edge5\" class=\"edge\">\n",
              "<title>((0, 2), 0)&#45;&gt;((1, 2), 0)</title>\n",
              "<path fill=\"none\" stroke=\"red\" d=\"M311.58,-35.7C329.74,-36.82 353.25,-37.01 373.15,-36.25\"/>\n",
              "<polygon fill=\"red\" stroke=\"red\" points=\"373.06,-39.76 382.88,-35.77 372.71,-32.77 373.06,-39.76\"/>\n",
              "<text text-anchor=\"middle\" x=\"333.74\" y=\"-39.17\" font-family=\"Times New Roman,serif\" font-size=\"14.00\" fill=\"red\">1.0</text>\n",
              "</g>\n",
              "<!-- ((1, 2), 0)&#45;&gt;((0, 2), 0) -->\n",
              "<g id=\"edge16\" class=\"edge\">\n",
              "<title>((1, 2), 0)&#45;&gt;((0, 2), 0)</title>\n",
              "<path fill=\"none\" stroke=\"blue\" d=\"M384.29,-24.22C366.13,-23.09 342.62,-22.91 322.72,-23.67\"/>\n",
              "<polygon fill=\"blue\" stroke=\"blue\" points=\"322.81,-20.16 313,-24.15 323.16,-27.15 322.81,-20.16\"/>\n",
              "<text text-anchor=\"middle\" x=\"344.88\" y=\"-10.64\" font-family=\"Times New Roman,serif\" font-size=\"14.00\" fill=\"blue\">0.5</text>\n",
              "</g>\n",
              "<!-- ((1, 2), 1) -->\n",
              "<g id=\"node11\" class=\"node\">\n",
              "<title>((1, 2), 1)</title>\n",
              "<ellipse fill=\"none\" stroke=\"black\" cx=\"545.81\" cy=\"-29.96\" rx=\"29.96\" ry=\"29.96\"/>\n",
              "<text text-anchor=\"middle\" x=\"545.81\" y=\"-24.91\" font-family=\"Times New Roman,serif\" font-size=\"14.00\">((1, 2), 1)</text>\n",
              "</g>\n",
              "<!-- ((1, 2), 0)&#45;&gt;((1, 2), 1) -->\n",
              "<g id=\"edge15\" class=\"edge\">\n",
              "<title>((1, 2), 0)&#45;&gt;((1, 2), 1)</title>\n",
              "<path fill=\"none\" stroke=\"red\" d=\"M443.5,-35.7C461.66,-36.82 485.17,-37.01 505.07,-36.25\"/>\n",
              "<polygon fill=\"red\" stroke=\"red\" points=\"504.97,-39.76 514.79,-35.77 504.63,-32.77 504.97,-39.76\"/>\n",
              "<text text-anchor=\"middle\" x=\"465.66\" y=\"-39.17\" font-family=\"Times New Roman,serif\" font-size=\"14.00\" fill=\"red\">1.0</text>\n",
              "</g>\n",
              "<!-- ((0, 3), 0) -->\n",
              "<g id=\"node7\" class=\"node\">\n",
              "<title>((0, 3), 0)</title>\n",
              "<ellipse fill=\"none\" stroke=\"black\" cx=\"365.98\" cy=\"-225.96\" rx=\"29.96\" ry=\"29.96\"/>\n",
              "<text text-anchor=\"middle\" x=\"365.98\" y=\"-220.91\" font-family=\"Times New Roman,serif\" font-size=\"14.00\">((0, 3), 0)</text>\n",
              "</g>\n",
              "<!-- ((1, 3), 0) -->\n",
              "<g id=\"node8\" class=\"node\">\n",
              "<title>((1, 3), 0)</title>\n",
              "<ellipse fill=\"none\" stroke=\"black\" cx=\"497.89\" cy=\"-225.96\" rx=\"29.96\" ry=\"29.96\"/>\n",
              "<text text-anchor=\"middle\" x=\"497.89\" y=\"-220.91\" font-family=\"Times New Roman,serif\" font-size=\"14.00\">((1, 3), 0)</text>\n",
              "</g>\n",
              "<!-- ((0, 3), 0)&#45;&gt;((1, 3), 0) -->\n",
              "<g id=\"edge6\" class=\"edge\">\n",
              "<title>((0, 3), 0)&#45;&gt;((1, 3), 0)</title>\n",
              "<path fill=\"none\" stroke=\"red\" d=\"M395.58,-231.7C413.74,-232.82 437.25,-233.01 457.15,-232.25\"/>\n",
              "<polygon fill=\"red\" stroke=\"red\" points=\"457.06,-235.76 466.88,-231.77 456.71,-228.77 457.06,-235.76\"/>\n",
              "<text text-anchor=\"middle\" x=\"417.74\" y=\"-235.17\" font-family=\"Times New Roman,serif\" font-size=\"14.00\" fill=\"red\">1.0</text>\n",
              "</g>\n",
              "<!-- ((1, 3), 0)&#45;&gt;((0, 3), 0) -->\n",
              "<g id=\"edge21\" class=\"edge\">\n",
              "<title>((1, 3), 0)&#45;&gt;((0, 3), 0)</title>\n",
              "<path fill=\"none\" stroke=\"blue\" d=\"M468.29,-220.22C450.13,-219.09 426.62,-218.91 406.72,-219.67\"/>\n",
              "<polygon fill=\"blue\" stroke=\"blue\" points=\"406.81,-216.16 397,-220.15 407.16,-223.15 406.81,-216.16\"/>\n",
              "<text text-anchor=\"middle\" x=\"428.88\" y=\"-206.64\" font-family=\"Times New Roman,serif\" font-size=\"14.00\" fill=\"blue\">0.5</text>\n",
              "</g>\n",
              "<!-- ((1, 3), 1) -->\n",
              "<g id=\"node13\" class=\"node\">\n",
              "<title>((1, 3), 1)</title>\n",
              "<ellipse fill=\"none\" stroke=\"black\" cx=\"629.81\" cy=\"-225.96\" rx=\"29.96\" ry=\"29.96\"/>\n",
              "<text text-anchor=\"middle\" x=\"629.81\" y=\"-220.91\" font-family=\"Times New Roman,serif\" font-size=\"14.00\">((1, 3), 1)</text>\n",
              "</g>\n",
              "<!-- ((1, 3), 0)&#45;&gt;((1, 3), 1) -->\n",
              "<g id=\"edge20\" class=\"edge\">\n",
              "<title>((1, 3), 0)&#45;&gt;((1, 3), 1)</title>\n",
              "<path fill=\"none\" stroke=\"red\" d=\"M527.5,-231.7C545.66,-232.82 569.17,-233.01 589.07,-232.25\"/>\n",
              "<polygon fill=\"red\" stroke=\"red\" points=\"588.97,-235.76 598.79,-231.77 588.63,-228.77 588.97,-235.76\"/>\n",
              "<text text-anchor=\"middle\" x=\"549.66\" y=\"-235.17\" font-family=\"Times New Roman,serif\" font-size=\"14.00\" fill=\"red\">1.0</text>\n",
              "</g>\n",
              "<!-- ((1, 1), 1)&#45;&gt;((1, 1), 0) -->\n",
              "<g id=\"edge12\" class=\"edge\">\n",
              "<title>((1, 1), 1)&#45;&gt;((1, 1), 0)</title>\n",
              "<path fill=\"none\" stroke=\"blue\" d=\"M270.11,-107.76C260.37,-107.22 249.38,-107.08 238.96,-107.32\"/>\n",
              "<polygon fill=\"blue\" stroke=\"blue\" points=\"238.91,-103.82 229.05,-107.7 239.18,-110.82 238.91,-103.82\"/>\n",
              "<text text-anchor=\"middle\" x=\"245.91\" y=\"-94.24\" font-family=\"Times New Roman,serif\" font-size=\"14.00\" fill=\"blue\">1.0</text>\n",
              "</g>\n",
              "<!-- ((1, 1), 2) -->\n",
              "<g id=\"node10\" class=\"node\">\n",
              "<title>((1, 1), 2)</title>\n",
              "<ellipse fill=\"none\" stroke=\"black\" cx=\"431.78\" cy=\"-113.96\" rx=\"29.96\" ry=\"29.96\"/>\n",
              "<text text-anchor=\"middle\" x=\"431.78\" y=\"-108.91\" font-family=\"Times New Roman,serif\" font-size=\"14.00\">((1, 1), 2)</text>\n",
              "</g>\n",
              "<!-- ((1, 1), 1)&#45;&gt;((1, 1), 2) -->\n",
              "<g id=\"edge13\" class=\"edge\">\n",
              "<title>((1, 1), 1)&#45;&gt;((1, 1), 2)</title>\n",
              "<path fill=\"none\" stroke=\"red\" d=\"M329.48,-119.7C347.64,-120.82 371.14,-121.01 391.05,-120.25\"/>\n",
              "<polygon fill=\"red\" stroke=\"red\" points=\"390.95,-123.76 400.77,-119.77 390.61,-116.77 390.95,-123.76\"/>\n",
              "<text text-anchor=\"middle\" x=\"351.64\" y=\"-123.17\" font-family=\"Times New Roman,serif\" font-size=\"14.00\" fill=\"red\">1.0</text>\n",
              "</g>\n",
              "<!-- ((1, 1), 2)&#45;&gt;((1, 1), 1) -->\n",
              "<g id=\"edge14\" class=\"edge\">\n",
              "<title>((1, 1), 2)&#45;&gt;((1, 1), 1)</title>\n",
              "<path fill=\"none\" stroke=\"blue\" d=\"M402.18,-108.22C384.02,-107.09 360.51,-106.91 340.61,-107.67\"/>\n",
              "<polygon fill=\"blue\" stroke=\"blue\" points=\"340.7,-104.16 330.89,-108.15 341.05,-111.15 340.7,-104.16\"/>\n",
              "<text text-anchor=\"middle\" x=\"362.77\" y=\"-94.64\" font-family=\"Times New Roman,serif\" font-size=\"14.00\" fill=\"blue\">1.0</text>\n",
              "</g>\n",
              "<!-- ((1, 2), 1)&#45;&gt;((1, 2), 0) -->\n",
              "<g id=\"edge17\" class=\"edge\">\n",
              "<title>((1, 2), 1)&#45;&gt;((1, 2), 0)</title>\n",
              "<path fill=\"none\" stroke=\"blue\" d=\"M516.2,-24.22C498.04,-23.09 474.53,-22.91 454.63,-23.67\"/>\n",
              "<polygon fill=\"blue\" stroke=\"blue\" points=\"454.72,-20.16 444.91,-24.15 455.07,-27.15 454.72,-20.16\"/>\n",
              "<text text-anchor=\"middle\" x=\"476.79\" y=\"-10.64\" font-family=\"Times New Roman,serif\" font-size=\"14.00\" fill=\"blue\">1.5</text>\n",
              "</g>\n",
              "<!-- ((1, 2), 2) -->\n",
              "<g id=\"node12\" class=\"node\">\n",
              "<title>((1, 2), 2)</title>\n",
              "<ellipse fill=\"none\" stroke=\"black\" cx=\"677.72\" cy=\"-29.96\" rx=\"29.96\" ry=\"29.96\"/>\n",
              "<text text-anchor=\"middle\" x=\"677.72\" y=\"-24.91\" font-family=\"Times New Roman,serif\" font-size=\"14.00\">((1, 2), 2)</text>\n",
              "</g>\n",
              "<!-- ((1, 2), 1)&#45;&gt;((1, 2), 2) -->\n",
              "<g id=\"edge18\" class=\"edge\">\n",
              "<title>((1, 2), 1)&#45;&gt;((1, 2), 2)</title>\n",
              "<path fill=\"none\" stroke=\"red\" d=\"M575.41,-35.7C593.57,-36.82 617.08,-37.01 636.98,-36.25\"/>\n",
              "<polygon fill=\"red\" stroke=\"red\" points=\"636.89,-39.76 646.7,-35.77 636.54,-32.77 636.89,-39.76\"/>\n",
              "<text text-anchor=\"middle\" x=\"597.57\" y=\"-39.17\" font-family=\"Times New Roman,serif\" font-size=\"14.00\" fill=\"red\">1.0</text>\n",
              "</g>\n",
              "<!-- ((1, 2), 2)&#45;&gt;((1, 2), 1) -->\n",
              "<g id=\"edge19\" class=\"edge\">\n",
              "<title>((1, 2), 2)&#45;&gt;((1, 2), 1)</title>\n",
              "<path fill=\"none\" stroke=\"blue\" d=\"M648.12,-24.22C629.95,-23.09 606.45,-22.91 586.54,-23.67\"/>\n",
              "<polygon fill=\"blue\" stroke=\"blue\" points=\"586.64,-20.16 576.82,-24.15 586.98,-27.15 586.64,-20.16\"/>\n",
              "<text text-anchor=\"middle\" x=\"608.71\" y=\"-10.64\" font-family=\"Times New Roman,serif\" font-size=\"14.00\" fill=\"blue\">1.5</text>\n",
              "</g>\n",
              "<!-- ((1, 3), 1)&#45;&gt;((1, 3), 0) -->\n",
              "<g id=\"edge22\" class=\"edge\">\n",
              "<title>((1, 3), 1)&#45;&gt;((1, 3), 0)</title>\n",
              "<path fill=\"none\" stroke=\"blue\" d=\"M600.2,-220.22C582.04,-219.09 558.53,-218.91 538.63,-219.67\"/>\n",
              "<polygon fill=\"blue\" stroke=\"blue\" points=\"538.72,-216.16 528.91,-220.15 539.07,-223.15 538.72,-216.16\"/>\n",
              "<text text-anchor=\"middle\" x=\"560.79\" y=\"-206.64\" font-family=\"Times New Roman,serif\" font-size=\"14.00\" fill=\"blue\">2.0</text>\n",
              "</g>\n",
              "<!-- ((1, 3), 2) -->\n",
              "<g id=\"node14\" class=\"node\">\n",
              "<title>((1, 3), 2)</title>\n",
              "<ellipse fill=\"none\" stroke=\"black\" cx=\"761.72\" cy=\"-225.96\" rx=\"29.96\" ry=\"29.96\"/>\n",
              "<text text-anchor=\"middle\" x=\"761.72\" y=\"-220.91\" font-family=\"Times New Roman,serif\" font-size=\"14.00\">((1, 3), 2)</text>\n",
              "</g>\n",
              "<!-- ((1, 3), 1)&#45;&gt;((1, 3), 2) -->\n",
              "<g id=\"edge23\" class=\"edge\">\n",
              "<title>((1, 3), 1)&#45;&gt;((1, 3), 2)</title>\n",
              "<path fill=\"none\" stroke=\"red\" d=\"M659.41,-231.7C677.57,-232.82 701.08,-233.01 720.98,-232.25\"/>\n",
              "<polygon fill=\"red\" stroke=\"red\" points=\"720.89,-235.76 730.7,-231.77 720.54,-228.77 720.89,-235.76\"/>\n",
              "<text text-anchor=\"middle\" x=\"681.57\" y=\"-235.17\" font-family=\"Times New Roman,serif\" font-size=\"14.00\" fill=\"red\">1.0</text>\n",
              "</g>\n",
              "<!-- ((1, 3), 2)&#45;&gt;((1, 3), 1) -->\n",
              "<g id=\"edge24\" class=\"edge\">\n",
              "<title>((1, 3), 2)&#45;&gt;((1, 3), 1)</title>\n",
              "<path fill=\"none\" stroke=\"blue\" d=\"M732.12,-220.22C713.95,-219.09 690.45,-218.91 670.54,-219.67\"/>\n",
              "<polygon fill=\"blue\" stroke=\"blue\" points=\"670.64,-216.16 660.82,-220.15 670.98,-223.15 670.64,-216.16\"/>\n",
              "<text text-anchor=\"middle\" x=\"692.71\" y=\"-206.64\" font-family=\"Times New Roman,serif\" font-size=\"14.00\" fill=\"blue\">2.0</text>\n",
              "</g>\n",
              "</g>\n",
              "</svg>\n"
            ],
            "text/plain": [
              "<graphviz.graphs.Digraph at 0x2074bb64980>"
            ]
          },
          "metadata": {},
          "output_type": "display_data"
        }
      ],
      "source": [
        "def draw_graph(graph: dict):\n",
        "    g = Digraph(engine=\"circo\") # engine=\"sfdp\"\n",
        "    g.attr(overlap=\"prism\") # overlap=\"scalexy\"\n",
        "\n",
        "    for node, neighbours in graph.items():\n",
        "        for neighbour, weight in neighbours.items():\n",
        "            from_id = str(S[node])\n",
        "            to_id = str(S[neighbour])\n",
        "\n",
        "            assert weight - 0.001 > 0, f\"{weight = }\"\n",
        "\n",
        "            g.node(from_id, from_id, shape=\"circle\", margin=\"0\")\n",
        "\n",
        "            if sum(S[node][0]) + S[node][1] < sum(S[neighbour][0]) + S[neighbour][1]:\n",
        "                color = \"red\" \n",
        "            else:\n",
        "                color = \"blue\"\n",
        "\n",
        "            g.edge(from_id, to_id, f\"{1.0 * weight:.3}\", color=color, fontcolor=color)\n",
        "    return g\n",
        "\n",
        "\n",
        "display(draw_graph(available_states))"
      ]
    },
    {
      "cell_type": "code",
      "execution_count": 18,
      "id": "19260a92-43cf-4575-9f7c-fcea3ec582ca",
      "metadata": {
        "colab": {
          "base_uri": "https://localhost:8080/",
          "height": 817
        },
        "id": "19260a92-43cf-4575-9f7c-fcea3ec582ca",
        "outputId": "912a5e9a-2114-4dc9-9341-369d9f104a3f"
      },
      "outputs": [
        {
          "data": {
            "application/vnd.plotly.v1+json": {
              "config": {
                "plotlyServerURL": "https://plot.ly"
              },
              "data": [
                {
                  "coloraxis": "coloraxis",
                  "hovertemplate": "x: %{x}<br>y: %{y}<br>color: %{z}<extra></extra>",
                  "name": "0",
                  "texttemplate": "%{z}",
                  "type": "heatmap",
                  "xaxis": "x",
                  "yaxis": "y",
                  "z": [
                    [
                      -1,
                      0.4,
                      0,
                      0,
                      0.6,
                      0,
                      0,
                      0,
                      0,
                      0,
                      0,
                      0,
                      0,
                      0
                    ],
                    [
                      0.5,
                      -1.5,
                      0,
                      0,
                      0,
                      1,
                      0,
                      0,
                      0,
                      0,
                      0,
                      0,
                      0,
                      0
                    ],
                    [
                      0,
                      0,
                      -1,
                      0,
                      0,
                      0,
                      0,
                      0,
                      1,
                      0,
                      0,
                      0,
                      0,
                      0
                    ],
                    [
                      0,
                      0,
                      0,
                      -1,
                      0,
                      0,
                      0,
                      0,
                      0,
                      0,
                      0,
                      1,
                      0,
                      0
                    ],
                    [
                      0.5,
                      0,
                      0,
                      0,
                      -1.5,
                      1,
                      0,
                      0,
                      0,
                      0,
                      0,
                      0,
                      0,
                      0
                    ],
                    [
                      0,
                      0.5,
                      0,
                      0,
                      0.5,
                      -2,
                      1,
                      0,
                      0,
                      0,
                      0,
                      0,
                      0,
                      0
                    ],
                    [
                      0,
                      0,
                      0,
                      0,
                      0,
                      1,
                      -2,
                      1,
                      0,
                      0,
                      0,
                      0,
                      0,
                      0
                    ],
                    [
                      0,
                      0,
                      0,
                      0,
                      0,
                      0,
                      1,
                      -1,
                      0,
                      0,
                      0,
                      0,
                      0,
                      0
                    ],
                    [
                      0,
                      0,
                      0.5,
                      0,
                      0,
                      0,
                      0,
                      0,
                      -1.5,
                      1,
                      0,
                      0,
                      0,
                      0
                    ],
                    [
                      0,
                      0,
                      0,
                      0,
                      0,
                      0,
                      0,
                      0,
                      1.5,
                      -2.5,
                      1,
                      0,
                      0,
                      0
                    ],
                    [
                      0,
                      0,
                      0,
                      0,
                      0,
                      0,
                      0,
                      0,
                      0,
                      1.5,
                      -1.5,
                      0,
                      0,
                      0
                    ],
                    [
                      0,
                      0,
                      0,
                      0.5,
                      0,
                      0,
                      0,
                      0,
                      0,
                      0,
                      0,
                      -1.5,
                      1,
                      0
                    ],
                    [
                      0,
                      0,
                      0,
                      0,
                      0,
                      0,
                      0,
                      0,
                      0,
                      0,
                      0,
                      2,
                      -3,
                      1
                    ],
                    [
                      0,
                      0,
                      0,
                      0,
                      0,
                      0,
                      0,
                      0,
                      0,
                      0,
                      0,
                      0,
                      2,
                      -2
                    ]
                  ]
                }
              ],
              "layout": {
                "coloraxis": {
                  "cmid": 0,
                  "colorscale": [
                    [
                      0,
                      "red"
                    ],
                    [
                      0.5,
                      "#f8f8f8"
                    ],
                    [
                      1,
                      "green"
                    ]
                  ]
                },
                "height": 800,
                "margin": {
                  "t": 60
                },
                "template": {
                  "data": {
                    "bar": [
                      {
                        "error_x": {
                          "color": "#2a3f5f"
                        },
                        "error_y": {
                          "color": "#2a3f5f"
                        },
                        "marker": {
                          "line": {
                            "color": "#E5ECF6",
                            "width": 0.5
                          },
                          "pattern": {
                            "fillmode": "overlay",
                            "size": 10,
                            "solidity": 0.2
                          }
                        },
                        "type": "bar"
                      }
                    ],
                    "barpolar": [
                      {
                        "marker": {
                          "line": {
                            "color": "#E5ECF6",
                            "width": 0.5
                          },
                          "pattern": {
                            "fillmode": "overlay",
                            "size": 10,
                            "solidity": 0.2
                          }
                        },
                        "type": "barpolar"
                      }
                    ],
                    "carpet": [
                      {
                        "aaxis": {
                          "endlinecolor": "#2a3f5f",
                          "gridcolor": "white",
                          "linecolor": "white",
                          "minorgridcolor": "white",
                          "startlinecolor": "#2a3f5f"
                        },
                        "baxis": {
                          "endlinecolor": "#2a3f5f",
                          "gridcolor": "white",
                          "linecolor": "white",
                          "minorgridcolor": "white",
                          "startlinecolor": "#2a3f5f"
                        },
                        "type": "carpet"
                      }
                    ],
                    "choropleth": [
                      {
                        "colorbar": {
                          "outlinewidth": 0,
                          "ticks": ""
                        },
                        "type": "choropleth"
                      }
                    ],
                    "contour": [
                      {
                        "colorbar": {
                          "outlinewidth": 0,
                          "ticks": ""
                        },
                        "colorscale": [
                          [
                            0,
                            "#0d0887"
                          ],
                          [
                            0.1111111111111111,
                            "#46039f"
                          ],
                          [
                            0.2222222222222222,
                            "#7201a8"
                          ],
                          [
                            0.3333333333333333,
                            "#9c179e"
                          ],
                          [
                            0.4444444444444444,
                            "#bd3786"
                          ],
                          [
                            0.5555555555555556,
                            "#d8576b"
                          ],
                          [
                            0.6666666666666666,
                            "#ed7953"
                          ],
                          [
                            0.7777777777777778,
                            "#fb9f3a"
                          ],
                          [
                            0.8888888888888888,
                            "#fdca26"
                          ],
                          [
                            1,
                            "#f0f921"
                          ]
                        ],
                        "type": "contour"
                      }
                    ],
                    "contourcarpet": [
                      {
                        "colorbar": {
                          "outlinewidth": 0,
                          "ticks": ""
                        },
                        "type": "contourcarpet"
                      }
                    ],
                    "heatmap": [
                      {
                        "colorbar": {
                          "outlinewidth": 0,
                          "ticks": ""
                        },
                        "colorscale": [
                          [
                            0,
                            "#0d0887"
                          ],
                          [
                            0.1111111111111111,
                            "#46039f"
                          ],
                          [
                            0.2222222222222222,
                            "#7201a8"
                          ],
                          [
                            0.3333333333333333,
                            "#9c179e"
                          ],
                          [
                            0.4444444444444444,
                            "#bd3786"
                          ],
                          [
                            0.5555555555555556,
                            "#d8576b"
                          ],
                          [
                            0.6666666666666666,
                            "#ed7953"
                          ],
                          [
                            0.7777777777777778,
                            "#fb9f3a"
                          ],
                          [
                            0.8888888888888888,
                            "#fdca26"
                          ],
                          [
                            1,
                            "#f0f921"
                          ]
                        ],
                        "type": "heatmap"
                      }
                    ],
                    "heatmapgl": [
                      {
                        "colorbar": {
                          "outlinewidth": 0,
                          "ticks": ""
                        },
                        "colorscale": [
                          [
                            0,
                            "#0d0887"
                          ],
                          [
                            0.1111111111111111,
                            "#46039f"
                          ],
                          [
                            0.2222222222222222,
                            "#7201a8"
                          ],
                          [
                            0.3333333333333333,
                            "#9c179e"
                          ],
                          [
                            0.4444444444444444,
                            "#bd3786"
                          ],
                          [
                            0.5555555555555556,
                            "#d8576b"
                          ],
                          [
                            0.6666666666666666,
                            "#ed7953"
                          ],
                          [
                            0.7777777777777778,
                            "#fb9f3a"
                          ],
                          [
                            0.8888888888888888,
                            "#fdca26"
                          ],
                          [
                            1,
                            "#f0f921"
                          ]
                        ],
                        "type": "heatmapgl"
                      }
                    ],
                    "histogram": [
                      {
                        "marker": {
                          "pattern": {
                            "fillmode": "overlay",
                            "size": 10,
                            "solidity": 0.2
                          }
                        },
                        "type": "histogram"
                      }
                    ],
                    "histogram2d": [
                      {
                        "colorbar": {
                          "outlinewidth": 0,
                          "ticks": ""
                        },
                        "colorscale": [
                          [
                            0,
                            "#0d0887"
                          ],
                          [
                            0.1111111111111111,
                            "#46039f"
                          ],
                          [
                            0.2222222222222222,
                            "#7201a8"
                          ],
                          [
                            0.3333333333333333,
                            "#9c179e"
                          ],
                          [
                            0.4444444444444444,
                            "#bd3786"
                          ],
                          [
                            0.5555555555555556,
                            "#d8576b"
                          ],
                          [
                            0.6666666666666666,
                            "#ed7953"
                          ],
                          [
                            0.7777777777777778,
                            "#fb9f3a"
                          ],
                          [
                            0.8888888888888888,
                            "#fdca26"
                          ],
                          [
                            1,
                            "#f0f921"
                          ]
                        ],
                        "type": "histogram2d"
                      }
                    ],
                    "histogram2dcontour": [
                      {
                        "colorbar": {
                          "outlinewidth": 0,
                          "ticks": ""
                        },
                        "colorscale": [
                          [
                            0,
                            "#0d0887"
                          ],
                          [
                            0.1111111111111111,
                            "#46039f"
                          ],
                          [
                            0.2222222222222222,
                            "#7201a8"
                          ],
                          [
                            0.3333333333333333,
                            "#9c179e"
                          ],
                          [
                            0.4444444444444444,
                            "#bd3786"
                          ],
                          [
                            0.5555555555555556,
                            "#d8576b"
                          ],
                          [
                            0.6666666666666666,
                            "#ed7953"
                          ],
                          [
                            0.7777777777777778,
                            "#fb9f3a"
                          ],
                          [
                            0.8888888888888888,
                            "#fdca26"
                          ],
                          [
                            1,
                            "#f0f921"
                          ]
                        ],
                        "type": "histogram2dcontour"
                      }
                    ],
                    "mesh3d": [
                      {
                        "colorbar": {
                          "outlinewidth": 0,
                          "ticks": ""
                        },
                        "type": "mesh3d"
                      }
                    ],
                    "parcoords": [
                      {
                        "line": {
                          "colorbar": {
                            "outlinewidth": 0,
                            "ticks": ""
                          }
                        },
                        "type": "parcoords"
                      }
                    ],
                    "pie": [
                      {
                        "automargin": true,
                        "type": "pie"
                      }
                    ],
                    "scatter": [
                      {
                        "fillpattern": {
                          "fillmode": "overlay",
                          "size": 10,
                          "solidity": 0.2
                        },
                        "type": "scatter"
                      }
                    ],
                    "scatter3d": [
                      {
                        "line": {
                          "colorbar": {
                            "outlinewidth": 0,
                            "ticks": ""
                          }
                        },
                        "marker": {
                          "colorbar": {
                            "outlinewidth": 0,
                            "ticks": ""
                          }
                        },
                        "type": "scatter3d"
                      }
                    ],
                    "scattercarpet": [
                      {
                        "marker": {
                          "colorbar": {
                            "outlinewidth": 0,
                            "ticks": ""
                          }
                        },
                        "type": "scattercarpet"
                      }
                    ],
                    "scattergeo": [
                      {
                        "marker": {
                          "colorbar": {
                            "outlinewidth": 0,
                            "ticks": ""
                          }
                        },
                        "type": "scattergeo"
                      }
                    ],
                    "scattergl": [
                      {
                        "marker": {
                          "colorbar": {
                            "outlinewidth": 0,
                            "ticks": ""
                          }
                        },
                        "type": "scattergl"
                      }
                    ],
                    "scattermapbox": [
                      {
                        "marker": {
                          "colorbar": {
                            "outlinewidth": 0,
                            "ticks": ""
                          }
                        },
                        "type": "scattermapbox"
                      }
                    ],
                    "scatterpolar": [
                      {
                        "marker": {
                          "colorbar": {
                            "outlinewidth": 0,
                            "ticks": ""
                          }
                        },
                        "type": "scatterpolar"
                      }
                    ],
                    "scatterpolargl": [
                      {
                        "marker": {
                          "colorbar": {
                            "outlinewidth": 0,
                            "ticks": ""
                          }
                        },
                        "type": "scatterpolargl"
                      }
                    ],
                    "scatterternary": [
                      {
                        "marker": {
                          "colorbar": {
                            "outlinewidth": 0,
                            "ticks": ""
                          }
                        },
                        "type": "scatterternary"
                      }
                    ],
                    "surface": [
                      {
                        "colorbar": {
                          "outlinewidth": 0,
                          "ticks": ""
                        },
                        "colorscale": [
                          [
                            0,
                            "#0d0887"
                          ],
                          [
                            0.1111111111111111,
                            "#46039f"
                          ],
                          [
                            0.2222222222222222,
                            "#7201a8"
                          ],
                          [
                            0.3333333333333333,
                            "#9c179e"
                          ],
                          [
                            0.4444444444444444,
                            "#bd3786"
                          ],
                          [
                            0.5555555555555556,
                            "#d8576b"
                          ],
                          [
                            0.6666666666666666,
                            "#ed7953"
                          ],
                          [
                            0.7777777777777778,
                            "#fb9f3a"
                          ],
                          [
                            0.8888888888888888,
                            "#fdca26"
                          ],
                          [
                            1,
                            "#f0f921"
                          ]
                        ],
                        "type": "surface"
                      }
                    ],
                    "table": [
                      {
                        "cells": {
                          "fill": {
                            "color": "#EBF0F8"
                          },
                          "line": {
                            "color": "white"
                          }
                        },
                        "header": {
                          "fill": {
                            "color": "#C8D4E3"
                          },
                          "line": {
                            "color": "white"
                          }
                        },
                        "type": "table"
                      }
                    ]
                  },
                  "layout": {
                    "annotationdefaults": {
                      "arrowcolor": "#2a3f5f",
                      "arrowhead": 0,
                      "arrowwidth": 1
                    },
                    "autotypenumbers": "strict",
                    "coloraxis": {
                      "colorbar": {
                        "outlinewidth": 0,
                        "ticks": ""
                      }
                    },
                    "colorscale": {
                      "diverging": [
                        [
                          0,
                          "#8e0152"
                        ],
                        [
                          0.1,
                          "#c51b7d"
                        ],
                        [
                          0.2,
                          "#de77ae"
                        ],
                        [
                          0.3,
                          "#f1b6da"
                        ],
                        [
                          0.4,
                          "#fde0ef"
                        ],
                        [
                          0.5,
                          "#f7f7f7"
                        ],
                        [
                          0.6,
                          "#e6f5d0"
                        ],
                        [
                          0.7,
                          "#b8e186"
                        ],
                        [
                          0.8,
                          "#7fbc41"
                        ],
                        [
                          0.9,
                          "#4d9221"
                        ],
                        [
                          1,
                          "#276419"
                        ]
                      ],
                      "sequential": [
                        [
                          0,
                          "#0d0887"
                        ],
                        [
                          0.1111111111111111,
                          "#46039f"
                        ],
                        [
                          0.2222222222222222,
                          "#7201a8"
                        ],
                        [
                          0.3333333333333333,
                          "#9c179e"
                        ],
                        [
                          0.4444444444444444,
                          "#bd3786"
                        ],
                        [
                          0.5555555555555556,
                          "#d8576b"
                        ],
                        [
                          0.6666666666666666,
                          "#ed7953"
                        ],
                        [
                          0.7777777777777778,
                          "#fb9f3a"
                        ],
                        [
                          0.8888888888888888,
                          "#fdca26"
                        ],
                        [
                          1,
                          "#f0f921"
                        ]
                      ],
                      "sequentialminus": [
                        [
                          0,
                          "#0d0887"
                        ],
                        [
                          0.1111111111111111,
                          "#46039f"
                        ],
                        [
                          0.2222222222222222,
                          "#7201a8"
                        ],
                        [
                          0.3333333333333333,
                          "#9c179e"
                        ],
                        [
                          0.4444444444444444,
                          "#bd3786"
                        ],
                        [
                          0.5555555555555556,
                          "#d8576b"
                        ],
                        [
                          0.6666666666666666,
                          "#ed7953"
                        ],
                        [
                          0.7777777777777778,
                          "#fb9f3a"
                        ],
                        [
                          0.8888888888888888,
                          "#fdca26"
                        ],
                        [
                          1,
                          "#f0f921"
                        ]
                      ]
                    },
                    "colorway": [
                      "#636efa",
                      "#EF553B",
                      "#00cc96",
                      "#ab63fa",
                      "#FFA15A",
                      "#19d3f3",
                      "#FF6692",
                      "#B6E880",
                      "#FF97FF",
                      "#FECB52"
                    ],
                    "font": {
                      "color": "#2a3f5f"
                    },
                    "geo": {
                      "bgcolor": "white",
                      "lakecolor": "white",
                      "landcolor": "#E5ECF6",
                      "showlakes": true,
                      "showland": true,
                      "subunitcolor": "white"
                    },
                    "hoverlabel": {
                      "align": "left"
                    },
                    "hovermode": "closest",
                    "mapbox": {
                      "style": "light"
                    },
                    "paper_bgcolor": "white",
                    "plot_bgcolor": "#E5ECF6",
                    "polar": {
                      "angularaxis": {
                        "gridcolor": "white",
                        "linecolor": "white",
                        "ticks": ""
                      },
                      "bgcolor": "#E5ECF6",
                      "radialaxis": {
                        "gridcolor": "white",
                        "linecolor": "white",
                        "ticks": ""
                      }
                    },
                    "scene": {
                      "xaxis": {
                        "backgroundcolor": "#E5ECF6",
                        "gridcolor": "white",
                        "gridwidth": 2,
                        "linecolor": "white",
                        "showbackground": true,
                        "ticks": "",
                        "zerolinecolor": "white"
                      },
                      "yaxis": {
                        "backgroundcolor": "#E5ECF6",
                        "gridcolor": "white",
                        "gridwidth": 2,
                        "linecolor": "white",
                        "showbackground": true,
                        "ticks": "",
                        "zerolinecolor": "white"
                      },
                      "zaxis": {
                        "backgroundcolor": "#E5ECF6",
                        "gridcolor": "white",
                        "gridwidth": 2,
                        "linecolor": "white",
                        "showbackground": true,
                        "ticks": "",
                        "zerolinecolor": "white"
                      }
                    },
                    "shapedefaults": {
                      "line": {
                        "color": "#2a3f5f"
                      }
                    },
                    "ternary": {
                      "aaxis": {
                        "gridcolor": "white",
                        "linecolor": "white",
                        "ticks": ""
                      },
                      "baxis": {
                        "gridcolor": "white",
                        "linecolor": "white",
                        "ticks": ""
                      },
                      "bgcolor": "#E5ECF6",
                      "caxis": {
                        "gridcolor": "white",
                        "linecolor": "white",
                        "ticks": ""
                      }
                    },
                    "title": {
                      "x": 0.05
                    },
                    "xaxis": {
                      "automargin": true,
                      "gridcolor": "white",
                      "linecolor": "white",
                      "ticks": "",
                      "title": {
                        "standoff": 15
                      },
                      "zerolinecolor": "white",
                      "zerolinewidth": 2
                    },
                    "yaxis": {
                      "automargin": true,
                      "gridcolor": "white",
                      "linecolor": "white",
                      "ticks": "",
                      "title": {
                        "standoff": 15
                      },
                      "zerolinecolor": "white",
                      "zerolinewidth": 2
                    }
                  }
                },
                "title": {
                  "text": "Filtered Transition Rate Matrix"
                },
                "xaxis": {
                  "anchor": "y",
                  "constrain": "domain",
                  "domain": [
                    0,
                    1
                  ],
                  "scaleanchor": "y",
                  "title": {
                    "text": "Next State"
                  }
                },
                "yaxis": {
                  "anchor": "x",
                  "autorange": "reversed",
                  "constrain": "domain",
                  "domain": [
                    0,
                    1
                  ],
                  "title": {
                    "text": "Current State"
                  }
                }
              }
            }
          },
          "metadata": {},
          "output_type": "display_data"
        }
      ],
      "source": [
        "def make_transition_rate_matrix(graph: dict):\n",
        "    index = {s: i for i, s in enumerate(graph)}\n",
        "\n",
        "    n = len(graph)\n",
        "    matrix = np.zeros((n, n))\n",
        "\n",
        "    for from_state, to_states in graph.items():\n",
        "        for to_state, rate in to_states.items():\n",
        "            matrix[index[from_state], index[to_state]] = rate\n",
        "\n",
        "    for i in range(n):\n",
        "        matrix[i, i] = -sum(matrix[i, :])\n",
        "\n",
        "    return matrix\n",
        "\n",
        "transition_rate_matrix = make_transition_rate_matrix(available_states)\n",
        "\n",
        "fig = px.imshow(\n",
        "    transition_rate_matrix,\n",
        "    text_auto = True,\n",
        "    height = 800,\n",
        "    color_continuous_scale = [[0, 'red'], [0.5, '#f8f8f8'], [1, 'green']],\n",
        "    color_continuous_midpoint = 0.0,\n",
        ")\n",
        "fig.update_layout(\n",
        "    title='Filtered Transition Rate Matrix',\n",
        "    xaxis_title='Next State',\n",
        "    yaxis_title='Current State',\n",
        ")\n",
        "fig.show()"
      ]
    },
    {
      "cell_type": "code",
      "execution_count": null,
      "id": "6890ab04-0c83-47f2-ba18-753a07285163",
      "metadata": {
        "colab": {
          "base_uri": "https://localhost:8080/"
        },
        "id": "6890ab04-0c83-47f2-ba18-753a07285163",
        "outputId": "9c915e9a-faef-4570-8d49-0b2eb19a4a7d"
      },
      "outputs": [],
      "source": [
        "def get_probs_of_states(transition_rate_matrix):\n",
        "    shape = transition_rate_matrix.shape\n",
        "    assert len(shape) == 2\n",
        "    assert shape[0] == shape[1]\n",
        "    n = shape[0]\n",
        "\n",
        "    equations = transition_rate_matrix.T\n",
        "    equations[0, :] = np.ones(n)\n",
        "    bvector = np.zeros(n)\n",
        "    bvector[0] = 1\n",
        "    return np.linalg.solve(equations, bvector)\n",
        "\n",
        "\n",
        "probs = get_probs_of_states(transition_rate_matrix)\n",
        "\n",
        "for i, (si, p) in enumerate(zip(available_states.keys(), probs)):\n",
        "    print(f\"{i: 3}. {S[si]}:  {p:.6f}\")\n",
        "\n",
        "print(f\"\\nΣ = {sum(probs)}\")"
      ]
    },
    {
      "cell_type": "code",
      "execution_count": 34,
      "id": "AmyxKM8o9oqS",
      "metadata": {
        "colab": {
          "base_uri": "https://localhost:8080/"
        },
        "id": "AmyxKM8o9oqS",
        "outputId": "883df965-dec8-4603-b964-30c96b95db74"
      },
      "outputs": [
        {
          "name": "stdout",
          "output_type": "stream",
          "text": [
            "Нагрузка            y = [1.2 0.5 0.3], Σy = 2.0\n",
            "Загрузка            ρ = [0.68903839 0.62671152 0.5880095 ], Σρ = 1.90375940, avg(ρ) = 0.63458647\n",
            "Длина очереди       l = 0.39699248\n",
            "Число заявок        m = 2.30075188 \n",
            "Время ожидания      w = [0.69510269 1.66824645 2.78041074], Σw 0.41706161\n",
            "Время пребывания    u = [ 4.02843602  9.66824645 16.11374408], Σu 2.41706161\n",
            "Вероятность потери  π = 0.04812030 = 0.04812030\n",
            "Производительность  λ' = [0.57112782 0.23796992 0.14278195], Σλ' 0.95187970\n"
          ]
        }
      ],
      "source": [
        "# TODO\n",
        "y = np.array(P_SERVER) * (ARRIVAL_RATE / DEPARTURE_RATE)  # Нагрузка\n",
        "pbusy = np.zeros(N)  # Загрузка\n",
        "l = 0  # Длина очереди\n",
        "m = 0  # Число заявок\n",
        "loss = 0  # Вероятность потери\n",
        "\n",
        "prod = np.zeros(N)  # Производительность\n",
        "wtime = np.zeros(N)  # Время ожидания\n",
        "ttime = np.zeros(N)  # Время пребывания\n",
        "\n",
        "\n",
        "for si, prob in zip(available_states.keys(), probs):\n",
        "    servers, queue_size = S[si]\n",
        "\n",
        "    pbusy += prob * np.array(servers)\n",
        "    m += prob * (queue_size + sum(servers))\n",
        "\n",
        "    l += prob * queue_size  # матожидание длины очереди\n",
        "\n",
        "    # Probability of loss?\n",
        "    if queue_size == QUEUE_MAX_SIZE and sum(servers) == 3:\n",
        "        loss += prob\n",
        "\n",
        "prod = ARRIVAL_RATE * np.array(P_SERVER) * (1 - loss)\n",
        "wtime = l / prod\n",
        "ttime = m / prod\n",
        "\n",
        "print(f\"Нагрузка            y = {y}, Σy = {sum(y):.8}\")\n",
        "print(f\"Загрузка            ρ = {pbusy}, Σρ = {sum(pbusy):.8f}, avg(ρ) = {sum(pbusy) / N:.8f}\")\n",
        "print(f\"Длина очереди       l = {l:.8f}\")\n",
        "print(f\"Число заявок        m = {m:.8f} \")\n",
        "print(f\"Время ожидания      w = {wtime}, Σw {l / sum(prod):.8f}\")\n",
        "print(f\"Время пребывания    u = {ttime}, Σu {m / sum(prod):.8f}\")\n",
        "print(f\"Вероятность потери  π = {loss:.8f} = {probs[-1]:.8f}\")\n",
        "print(f\"Производительность  λ' = {prod}, Σλ' {sum(prod):.8f}\")"
      ]
    },
    {
      "cell_type": "markdown",
      "id": "2a111fc0",
      "metadata": {},
      "source": [
        "[исправленная модель системы_1 в GPSS](../lab-3/smo%20GGKE_lab-2_system-1-fix_greg.txt)\n",
        "\n",
        "и [старая модель системы_1 в GPSS](../lab-3/smo%20GGKE_lab-2_system-1.txt)"
      ]
    },
    {
      "cell_type": "markdown",
      "id": "afa702bc",
      "metadata": {},
      "source": [
        "для новой модели\n",
        "\n",
        "Эксперимент 1\n",
        "\n",
        "![system-2_fix_report_variables.png](../lab-3/res/system-2_fix_report_variables.png)\n",
        "![system-2_fix_report_block-hit-rate.png](../lab-3/res/system-2_fix_report_block-hit-rate.png)\n",
        "![system-2_fix_report_servers.png](../lab-3/res/system-2_fix_report_servers.png)\n",
        "![system-2_fix_report_queues.png](../lab-3/res/system-2_fix_report_queues.png)\n",
        "![system-2_fix_report_multi-chan-servers.png](../lab-3/res/system-2_fix_report_multi-chan-servers.png)\n",
        "![system-2_fix_report_logic.png](../lab-3/res/system-2_fix_report_logic.png)"
      ]
    },
    {
      "cell_type": "code",
      "execution_count": 9,
      "id": "4cea9f83",
      "metadata": {},
      "outputs": [],
      "source": [
        "# !pip freeze > requirements.txt"
      ]
    }
  ],
  "metadata": {
    "colab": {
      "provenance": []
    },
    "kernelspec": {
      "display_name": ".venv",
      "language": "python",
      "name": "python3"
    },
    "language_info": {
      "codemirror_mode": {
        "name": "ipython",
        "version": 3
      },
      "file_extension": ".py",
      "mimetype": "text/x-python",
      "name": "python",
      "nbconvert_exporter": "python",
      "pygments_lexer": "ipython3",
      "version": "3.13.1"
    }
  },
  "nbformat": 4,
  "nbformat_minor": 5
}
