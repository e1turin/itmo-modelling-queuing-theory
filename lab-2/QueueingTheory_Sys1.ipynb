{
  "cells": [
    {
      "cell_type": "code",
      "execution_count": 1,
      "id": "85107e3a-f1e9-4704-8c9d-8e41d56c8fd6",
      "metadata": {
        "id": "85107e3a-f1e9-4704-8c9d-8e41d56c8fd6"
      },
      "outputs": [],
      "source": [
        "%reset -f\n",
        "import plotly.express as px\n",
        "from graphviz import Digraph\n",
        "from collections import defaultdict\n",
        "from itertools import product\n",
        "import numpy as np\n",
        "\n"
      ]
    },
    {
      "cell_type": "code",
      "execution_count": 2,
      "id": "30944866-8d36-43f2-8ab0-485cbd015b7a",
      "metadata": {
        "colab": {
          "base_uri": "https://localhost:8080/"
        },
        "id": "30944866-8d36-43f2-8ab0-485cbd015b7a",
        "outputId": "fcfe9f35-af7a-4316-bd51-1188e5bc56f3"
      },
      "outputs": [
        {
          "name": "stdout",
          "output_type": "stream",
          "text": [
            "λ = 1\n",
            "b = 2\n",
            "μ = 0.5\n",
            "p1 = 0.6\n",
            "p2 = 0.25\n",
            "p3 = 0.15\n"
          ]
        }
      ],
      "source": [
        "LAM = 1\n",
        "b = 2\n",
        "P = [0.6, 0.25, 0.15]\n",
        "NUM_SERVERS = 3\n",
        "MAX_QUEUE_SIZE = 3\n",
        "TOTAL_CLIENTS = 6\n",
        "N = len(P)\n",
        "\n",
        "# Print\n",
        "MU = 1/b\n",
        "assert sum(P) == 1\n",
        "print(f\"λ = {LAM}\\n{b = }\\nμ = {MU}\")\n",
        "for i in range(len(P)):\n",
        "    print(f'p{i+1} = {P[i]}')"
      ]
    },
    {
      "cell_type": "code",
      "execution_count": 3,
      "id": "0Y9tDZlyTdkX",
      "metadata": {
        "id": "0Y9tDZlyTdkX"
      },
      "outputs": [],
      "source": [
        "server_states = [0, 1]\n",
        "\n",
        "server_combinations = list(product(server_states, repeat=NUM_SERVERS))\n",
        "queue_states = range(MAX_QUEUE_SIZE + 1)\n",
        "\n",
        "combined_states = list(product(server_combinations, queue_states))\n",
        "\n",
        "transitions = {}"
      ]
    },
    {
      "cell_type": "code",
      "execution_count": 4,
      "id": "8df44b1d-63c1-451d-a0a6-3422ee60a5b8",
      "metadata": {
        "id": "8df44b1d-63c1-451d-a0a6-3422ee60a5b8"
      },
      "outputs": [],
      "source": [
        "\n",
        "for in_state in combined_states:\n",
        "    server_state, queue_size = in_state\n",
        "\n",
        "    transitions[in_state] = {}\n",
        "\n",
        "    if sum(server_state) + queue_size < TOTAL_CLIENTS:\n",
        "        if sum(server_state) == NUM_SERVERS and queue_size < MAX_QUEUE_SIZE:\n",
        "            out_queue_size = queue_size + 1\n",
        "            new_state = (tuple(server_state), out_queue_size)\n",
        "            transitions[in_state][new_state] = LAM\n",
        "        if queue_size == 0:\n",
        "          for idx in range(NUM_SERVERS):\n",
        "              if server_state[idx] == 0:\n",
        "                  out_state = list(server_state)\n",
        "                  out_state[idx] = 1\n",
        "\n",
        "                  new_state = (tuple(out_state), queue_size)\n",
        "                  transitions[in_state][new_state] = LAM * P[idx]\n",
        "\n",
        "    if queue_size > 0 and sum(server_state) == NUM_SERVERS:\n",
        "        new_state = (server_state, queue_size - 1)\n",
        "        transitions[in_state][new_state] = MU\n",
        "    elif queue_size == 0:\n",
        "        for idx in range(NUM_SERVERS):\n",
        "          if server_state[idx] == 1:\n",
        "              out_state = list(server_state)\n",
        "              out_state[idx] = 0\n",
        "              new_state = (tuple(out_state), queue_size)\n",
        "              transitions[in_state][new_state] = MU\n",
        "\n",
        "\n"
      ]
    },
    {
      "cell_type": "code",
      "execution_count": 5,
      "id": "Tcyae_4B4Gln",
      "metadata": {
        "id": "Tcyae_4B4Gln"
      },
      "outputs": [],
      "source": [
        "transitions = {state: out_states for state, out_states in transitions.items() if out_states}"
      ]
    },
    {
      "cell_type": "code",
      "execution_count": 6,
      "id": "Kc6OZIhJTtOH",
      "metadata": {
        "colab": {
          "base_uri": "https://localhost:8080/"
        },
        "id": "Kc6OZIhJTtOH",
        "outputId": "4aaf3f9d-3131-4c23-b9fa-ad6f0da422d3"
      },
      "outputs": [
        {
          "name": "stdout",
          "output_type": "stream",
          "text": [
            "State: ((0, 0, 0), 0)\n",
            "  -> Next State: ((1, 0, 0), 0) with Probability: 0.6000\n",
            "  -> Next State: ((0, 1, 0), 0) with Probability: 0.2500\n",
            "  -> Next State: ((0, 0, 1), 0) with Probability: 0.1500\n",
            "State: ((0, 0, 1), 0)\n",
            "  -> Next State: ((1, 0, 1), 0) with Probability: 0.6000\n",
            "  -> Next State: ((0, 1, 1), 0) with Probability: 0.2500\n",
            "  -> Next State: ((0, 0, 0), 0) with Probability: 0.5000\n",
            "State: ((0, 1, 0), 0)\n",
            "  -> Next State: ((1, 1, 0), 0) with Probability: 0.6000\n",
            "  -> Next State: ((0, 1, 1), 0) with Probability: 0.1500\n",
            "  -> Next State: ((0, 0, 0), 0) with Probability: 0.5000\n",
            "State: ((0, 1, 1), 0)\n",
            "  -> Next State: ((1, 1, 1), 0) with Probability: 0.6000\n",
            "  -> Next State: ((0, 0, 1), 0) with Probability: 0.5000\n",
            "  -> Next State: ((0, 1, 0), 0) with Probability: 0.5000\n",
            "State: ((1, 0, 0), 0)\n",
            "  -> Next State: ((1, 1, 0), 0) with Probability: 0.2500\n",
            "  -> Next State: ((1, 0, 1), 0) with Probability: 0.1500\n",
            "  -> Next State: ((0, 0, 0), 0) with Probability: 0.5000\n",
            "State: ((1, 0, 1), 0)\n",
            "  -> Next State: ((1, 1, 1), 0) with Probability: 0.2500\n",
            "  -> Next State: ((0, 0, 1), 0) with Probability: 0.5000\n",
            "  -> Next State: ((1, 0, 0), 0) with Probability: 0.5000\n",
            "State: ((1, 1, 0), 0)\n",
            "  -> Next State: ((1, 1, 1), 0) with Probability: 0.1500\n",
            "  -> Next State: ((0, 1, 0), 0) with Probability: 0.5000\n",
            "  -> Next State: ((1, 0, 0), 0) with Probability: 0.5000\n",
            "State: ((1, 1, 1), 0)\n",
            "  -> Next State: ((1, 1, 1), 1) with Probability: 1.0000\n",
            "  -> Next State: ((0, 1, 1), 0) with Probability: 0.5000\n",
            "  -> Next State: ((1, 0, 1), 0) with Probability: 0.5000\n",
            "  -> Next State: ((1, 1, 0), 0) with Probability: 0.5000\n",
            "State: ((1, 1, 1), 1)\n",
            "  -> Next State: ((1, 1, 1), 2) with Probability: 1.0000\n",
            "  -> Next State: ((1, 1, 1), 0) with Probability: 0.5000\n",
            "State: ((1, 1, 1), 2)\n",
            "  -> Next State: ((1, 1, 1), 3) with Probability: 1.0000\n",
            "  -> Next State: ((1, 1, 1), 1) with Probability: 0.5000\n",
            "State: ((1, 1, 1), 3)\n",
            "  -> Next State: ((1, 1, 1), 2) with Probability: 0.5000\n"
          ]
        }
      ],
      "source": [
        "# Output the states and their transitions\n",
        "for state, transition in transitions.items():\n",
        "    print(f\"State: {state}\")\n",
        "    for next_state, prob in transition.items():\n",
        "        print(f\"  -> Next State: {next_state} with Probability: {prob:.4f}\")"
      ]
    },
    {
      "cell_type": "code",
      "execution_count": 7,
      "id": "1917eb13-8701-4087-ba1c-849d392086ff",
      "metadata": {
        "colab": {
          "base_uri": "https://localhost:8080/",
          "height": 563
        },
        "id": "1917eb13-8701-4087-ba1c-849d392086ff",
        "outputId": "3ced94b5-4171-43ad-f94a-752767431ee8"
      },
      "outputs": [
        {
          "data": {
            "image/svg+xml": [
              "<?xml version=\"1.0\" encoding=\"UTF-8\" standalone=\"no\"?>\n",
              "<!DOCTYPE svg PUBLIC \"-//W3C//DTD SVG 1.1//EN\"\n",
              " \"http://www.w3.org/Graphics/SVG/1.1/DTD/svg11.dtd\">\n",
              "<!-- Generated by graphviz version 12.2.1 (20241206.2353)\n",
              " -->\n",
              "<!-- Pages: 1 -->\n",
              "<svg width=\"1164pt\" height=\"636pt\"\n",
              " viewBox=\"0.00 0.00 1164.48 636.31\" xmlns=\"http://www.w3.org/2000/svg\" xmlns:xlink=\"http://www.w3.org/1999/xlink\">\n",
              "<g id=\"graph0\" class=\"graph\" transform=\"scale(1 1) rotate(0) translate(4 632.31)\">\n",
              "<polygon fill=\"white\" stroke=\"none\" points=\"-4,4 -4,-632.31 1160.48,-632.31 1160.48,4 -4,4\"/>\n",
              "<!-- ((0, 0, 0), 0) -->\n",
              "<g id=\"node1\" class=\"node\">\n",
              "<title>((0, 0, 0), 0)</title>\n",
              "<ellipse fill=\"none\" stroke=\"black\" cx=\"1099.5\" cy=\"-220.38\" rx=\"56.98\" ry=\"56.98\"/>\n",
              "<text text-anchor=\"middle\" x=\"1099.5\" y=\"-215.33\" font-family=\"Times New Roman,serif\" font-size=\"14.00\">((0, 0, 0), 0)</text>\n",
              "</g>\n",
              "<!-- ((1, 0, 0), 0) -->\n",
              "<g id=\"node2\" class=\"node\">\n",
              "<title>((1, 0, 0), 0)</title>\n",
              "<ellipse fill=\"none\" stroke=\"black\" cx=\"950.47\" cy=\"-56.98\" rx=\"56.98\" ry=\"56.98\"/>\n",
              "<text text-anchor=\"middle\" x=\"950.47\" y=\"-51.93\" font-family=\"Times New Roman,serif\" font-size=\"14.00\">((1, 0, 0), 0)</text>\n",
              "</g>\n",
              "<!-- ((0, 0, 0), 0)&#45;&gt;((1, 0, 0), 0) -->\n",
              "<g id=\"edge1\" class=\"edge\">\n",
              "<title>((0, 0, 0), 0)&#45;&gt;((1, 0, 0), 0)</title>\n",
              "<path fill=\"none\" stroke=\"black\" d=\"M1065.55,-174.27C1046.56,-152.11 1022.56,-125.64 1001.37,-103.44\"/>\n",
              "<polygon fill=\"black\" stroke=\"black\" points=\"1003.91,-101.04 994.46,-96.25 998.87,-105.89 1003.91,-101.04\"/>\n",
              "<text text-anchor=\"middle\" x=\"1024.83\" y=\"-142.06\" font-family=\"Times New Roman,serif\" font-size=\"14.00\">0.6</text>\n",
              "</g>\n",
              "<!-- ((0, 1, 0), 0) -->\n",
              "<g id=\"node3\" class=\"node\">\n",
              "<title>((0, 1, 0), 0)</title>\n",
              "<ellipse fill=\"none\" stroke=\"black\" cx=\"933.89\" cy=\"-386.04\" rx=\"56.98\" ry=\"56.98\"/>\n",
              "<text text-anchor=\"middle\" x=\"933.89\" y=\"-380.99\" font-family=\"Times New Roman,serif\" font-size=\"14.00\">((0, 1, 0), 0)</text>\n",
              "</g>\n",
              "<!-- ((0, 0, 0), 0)&#45;&gt;((0, 1, 0), 0) -->\n",
              "<g id=\"edge2\" class=\"edge\">\n",
              "<title>((0, 0, 0), 0)&#45;&gt;((0, 1, 0), 0)</title>\n",
              "<path fill=\"none\" stroke=\"black\" d=\"M1055.25,-256.33C1031.3,-278.82 1001.83,-308.14 977.91,-333.24\"/>\n",
              "<polygon fill=\"black\" stroke=\"black\" points=\"975.39,-330.8 971.06,-340.47 980.48,-335.61 975.39,-330.8\"/>\n",
              "<text text-anchor=\"middle\" x=\"1004.58\" y=\"-297.98\" font-family=\"Times New Roman,serif\" font-size=\"14.00\">0.25</text>\n",
              "</g>\n",
              "<!-- ((0, 0, 1), 0) -->\n",
              "<g id=\"node4\" class=\"node\">\n",
              "<title>((0, 0, 1), 0)</title>\n",
              "<ellipse fill=\"none\" stroke=\"black\" cx=\"1080.54\" cy=\"-445.19\" rx=\"56.98\" ry=\"56.98\"/>\n",
              "<text text-anchor=\"middle\" x=\"1080.54\" y=\"-440.14\" font-family=\"Times New Roman,serif\" font-size=\"14.00\">((0, 0, 1), 0)</text>\n",
              "</g>\n",
              "<!-- ((0, 0, 0), 0)&#45;&gt;((0, 0, 1), 0) -->\n",
              "<g id=\"edge3\" class=\"edge\">\n",
              "<title>((0, 0, 0), 0)&#45;&gt;((0, 0, 1), 0)</title>\n",
              "<path fill=\"none\" stroke=\"black\" d=\"M1088.79,-276.61C1085.27,-307.02 1081.98,-344.8 1080.03,-376.89\"/>\n",
              "<polygon fill=\"black\" stroke=\"black\" points=\"1076.56,-376.29 1079.48,-386.47 1083.55,-376.69 1076.56,-376.29\"/>\n",
              "<text text-anchor=\"middle\" x=\"1072.41\" y=\"-329.95\" font-family=\"Times New Roman,serif\" font-size=\"14.00\">0.15</text>\n",
              "</g>\n",
              "<!-- ((1, 0, 0), 0)&#45;&gt;((0, 0, 0), 0) -->\n",
              "<g id=\"edge15\" class=\"edge\">\n",
              "<title>((1, 0, 0), 0)&#45;&gt;((0, 0, 0), 0)</title>\n",
              "<path fill=\"none\" stroke=\"black\" d=\"M984.43,-103.1C1003.42,-125.25 1027.42,-151.72 1048.6,-173.92\"/>\n",
              "<polygon fill=\"black\" stroke=\"black\" points=\"1046.06,-176.33 1055.52,-181.11 1051.11,-171.48 1046.06,-176.33\"/>\n",
              "<text text-anchor=\"middle\" x=\"1007.89\" y=\"-141.71\" font-family=\"Times New Roman,serif\" font-size=\"14.00\">0.5</text>\n",
              "</g>\n",
              "<!-- ((1, 0, 1), 0) -->\n",
              "<g id=\"node5\" class=\"node\">\n",
              "<title>((1, 0, 1), 0)</title>\n",
              "<ellipse fill=\"none\" stroke=\"black\" cx=\"916.16\" cy=\"-264.07\" rx=\"56.98\" ry=\"56.98\"/>\n",
              "<text text-anchor=\"middle\" x=\"916.16\" y=\"-259.02\" font-family=\"Times New Roman,serif\" font-size=\"14.00\">((1, 0, 1), 0)</text>\n",
              "</g>\n",
              "<!-- ((1, 0, 0), 0)&#45;&gt;((1, 0, 1), 0) -->\n",
              "<g id=\"edge14\" class=\"edge\">\n",
              "<title>((1, 0, 0), 0)&#45;&gt;((1, 0, 1), 0)</title>\n",
              "<path fill=\"none\" stroke=\"black\" d=\"M935.14,-112.3C930.12,-137.85 924.95,-168.44 921.07,-195.45\"/>\n",
              "<polygon fill=\"black\" stroke=\"black\" points=\"917.61,-194.89 919.7,-205.28 924.55,-195.86 917.61,-194.89\"/>\n",
              "<text text-anchor=\"middle\" x=\"916.11\" y=\"-157.08\" font-family=\"Times New Roman,serif\" font-size=\"14.00\">0.15</text>\n",
              "</g>\n",
              "<!-- ((1, 1, 0), 0) -->\n",
              "<g id=\"node7\" class=\"node\">\n",
              "<title>((1, 1, 0), 0)</title>\n",
              "<ellipse fill=\"none\" stroke=\"black\" cx=\"794.2\" cy=\"-185.57\" rx=\"56.98\" ry=\"56.98\"/>\n",
              "<text text-anchor=\"middle\" x=\"794.2\" y=\"-180.52\" font-family=\"Times New Roman,serif\" font-size=\"14.00\">((1, 1, 0), 0)</text>\n",
              "</g>\n",
              "<!-- ((1, 0, 0), 0)&#45;&gt;((1, 1, 0), 0) -->\n",
              "<g id=\"edge13\" class=\"edge\">\n",
              "<title>((1, 0, 0), 0)&#45;&gt;((1, 1, 0), 0)</title>\n",
              "<path fill=\"none\" stroke=\"black\" d=\"M902.62,-88.4C883.62,-103.12 861.8,-120.96 842.73,-137.32\"/>\n",
              "<polygon fill=\"black\" stroke=\"black\" points=\"840.6,-134.54 835.33,-143.73 845.18,-139.83 840.6,-134.54\"/>\n",
              "<text text-anchor=\"middle\" x=\"860.68\" y=\"-99.56\" font-family=\"Times New Roman,serif\" font-size=\"14.00\">0.25</text>\n",
              "</g>\n",
              "<!-- ((0, 1, 0), 0)&#45;&gt;((0, 0, 0), 0) -->\n",
              "<g id=\"edge9\" class=\"edge\">\n",
              "<title>((0, 1, 0), 0)&#45;&gt;((0, 0, 0), 0)</title>\n",
              "<path fill=\"none\" stroke=\"black\" d=\"M978.14,-350.09C1002.1,-327.6 1031.57,-298.28 1055.49,-273.18\"/>\n",
              "<polygon fill=\"black\" stroke=\"black\" points=\"1058,-275.62 1062.33,-265.95 1052.92,-270.81 1058,-275.62\"/>\n",
              "<text text-anchor=\"middle\" x=\"1008.19\" y=\"-314.84\" font-family=\"Times New Roman,serif\" font-size=\"14.00\">0.5</text>\n",
              "</g>\n",
              "<!-- ((0, 1, 1), 0) -->\n",
              "<g id=\"node6\" class=\"node\">\n",
              "<title>((0, 1, 1), 0)</title>\n",
              "<ellipse fill=\"none\" stroke=\"black\" cx=\"896.05\" cy=\"-571.33\" rx=\"56.98\" ry=\"56.98\"/>\n",
              "<text text-anchor=\"middle\" x=\"896.05\" y=\"-566.28\" font-family=\"Times New Roman,serif\" font-size=\"14.00\">((0, 1, 1), 0)</text>\n",
              "</g>\n",
              "<!-- ((0, 1, 0), 0)&#45;&gt;((0, 1, 1), 0) -->\n",
              "<g id=\"edge8\" class=\"edge\">\n",
              "<title>((0, 1, 0), 0)&#45;&gt;((0, 1, 1), 0)</title>\n",
              "<path fill=\"none\" stroke=\"black\" d=\"M916.42,-440.38C911.84,-459.97 907.18,-482.32 903.36,-502.95\"/>\n",
              "<polygon fill=\"black\" stroke=\"black\" points=\"899.93,-502.25 901.6,-512.71 906.82,-503.49 899.93,-502.25\"/>\n",
              "<text text-anchor=\"middle\" x=\"897.89\" y=\"-474.87\" font-family=\"Times New Roman,serif\" font-size=\"14.00\">0.15</text>\n",
              "</g>\n",
              "<!-- ((0, 1, 0), 0)&#45;&gt;((1, 1, 0), 0) -->\n",
              "<g id=\"edge7\" class=\"edge\">\n",
              "<title>((0, 1, 0), 0)&#45;&gt;((1, 1, 0), 0)</title>\n",
              "<path fill=\"none\" stroke=\"black\" d=\"M906.08,-335.97C886.7,-306.17 860.53,-268.43 838.34,-238.2\"/>\n",
              "<polygon fill=\"black\" stroke=\"black\" points=\"841.25,-236.25 832.49,-230.29 835.63,-240.41 841.25,-236.25\"/>\n",
              "<text text-anchor=\"middle\" x=\"863.59\" y=\"-290.28\" font-family=\"Times New Roman,serif\" font-size=\"14.00\">0.6</text>\n",
              "</g>\n",
              "<!-- ((0, 0, 1), 0)&#45;&gt;((0, 0, 0), 0) -->\n",
              "<g id=\"edge6\" class=\"edge\">\n",
              "<title>((0, 0, 1), 0)&#45;&gt;((0, 0, 0), 0)</title>\n",
              "<path fill=\"none\" stroke=\"black\" d=\"M1091.26,-388.97C1094.78,-358.56 1098.06,-320.77 1100.02,-288.69\"/>\n",
              "<polygon fill=\"black\" stroke=\"black\" points=\"1103.49,-289.29 1100.56,-279.11 1096.5,-288.89 1103.49,-289.29\"/>\n",
              "<text text-anchor=\"middle\" x=\"1104.26\" y=\"-342.03\" font-family=\"Times New Roman,serif\" font-size=\"14.00\">0.5</text>\n",
              "</g>\n",
              "<!-- ((0, 0, 1), 0)&#45;&gt;((1, 0, 1), 0) -->\n",
              "<g id=\"edge4\" class=\"edge\">\n",
              "<title>((0, 0, 1), 0)&#45;&gt;((1, 0, 1), 0)</title>\n",
              "<path fill=\"none\" stroke=\"black\" d=\"M1046.71,-399.29C1023.58,-372.1 992.57,-337.77 966.56,-310.49\"/>\n",
              "<polygon fill=\"black\" stroke=\"black\" points=\"969.16,-308.15 959.71,-303.36 964.11,-313 969.16,-308.15\"/>\n",
              "<text text-anchor=\"middle\" x=\"1015.26\" y=\"-358.09\" font-family=\"Times New Roman,serif\" font-size=\"14.00\">0.6</text>\n",
              "</g>\n",
              "<!-- ((0, 0, 1), 0)&#45;&gt;((0, 1, 1), 0) -->\n",
              "<g id=\"edge5\" class=\"edge\">\n",
              "<title>((0, 0, 1), 0)&#45;&gt;((0, 1, 1), 0)</title>\n",
              "<path fill=\"none\" stroke=\"black\" d=\"M1030.14,-472.42C1004.9,-488.56 974.36,-509.31 948.8,-527.67\"/>\n",
              "<polygon fill=\"black\" stroke=\"black\" points=\"946.9,-524.72 940.85,-533.42 951.01,-530.39 946.9,-524.72\"/>\n",
              "<text text-anchor=\"middle\" x=\"977.47\" y=\"-486.74\" font-family=\"Times New Roman,serif\" font-size=\"14.00\">0.25</text>\n",
              "</g>\n",
              "<!-- ((1, 0, 1), 0)&#45;&gt;((1, 0, 0), 0) -->\n",
              "<g id=\"edge18\" class=\"edge\">\n",
              "<title>((1, 0, 1), 0)&#45;&gt;((1, 0, 0), 0)</title>\n",
              "<path fill=\"none\" stroke=\"black\" d=\"M931.49,-208.75C936.51,-183.2 941.68,-152.61 945.56,-125.61\"/>\n",
              "<polygon fill=\"black\" stroke=\"black\" points=\"949.02,-126.17 946.93,-115.78 942.09,-125.2 949.02,-126.17\"/>\n",
              "<text text-anchor=\"middle\" x=\"947.15\" y=\"-170.38\" font-family=\"Times New Roman,serif\" font-size=\"14.00\">0.5</text>\n",
              "</g>\n",
              "<!-- ((1, 0, 1), 0)&#45;&gt;((0, 0, 1), 0) -->\n",
              "<g id=\"edge17\" class=\"edge\">\n",
              "<title>((1, 0, 1), 0)&#45;&gt;((0, 0, 1), 0)</title>\n",
              "<path fill=\"none\" stroke=\"black\" d=\"M949.99,-309.98C973.12,-337.17 1004.13,-371.5 1030.14,-398.78\"/>\n",
              "<polygon fill=\"black\" stroke=\"black\" points=\"1027.54,-401.12 1036.99,-405.91 1032.59,-396.27 1027.54,-401.12\"/>\n",
              "<text text-anchor=\"middle\" x=\"998.69\" y=\"-341.08\" font-family=\"Times New Roman,serif\" font-size=\"14.00\">0.5</text>\n",
              "</g>\n",
              "<!-- ((1, 1, 1), 0) -->\n",
              "<g id=\"node8\" class=\"node\">\n",
              "<title>((1, 1, 1), 0)</title>\n",
              "<ellipse fill=\"none\" stroke=\"black\" cx=\"697.26\" cy=\"-396.04\" rx=\"56.98\" ry=\"56.98\"/>\n",
              "<text text-anchor=\"middle\" x=\"697.26\" y=\"-390.99\" font-family=\"Times New Roman,serif\" font-size=\"14.00\">((1, 1, 1), 0)</text>\n",
              "</g>\n",
              "<!-- ((1, 0, 1), 0)&#45;&gt;((1, 1, 1), 0) -->\n",
              "<g id=\"edge16\" class=\"edge\">\n",
              "<title>((1, 0, 1), 0)&#45;&gt;((1, 1, 1), 0)</title>\n",
              "<path fill=\"none\" stroke=\"black\" d=\"M864.35,-288.62C830.65,-307.48 786.77,-333.81 752.42,-355.73\"/>\n",
              "<polygon fill=\"black\" stroke=\"black\" points=\"750.8,-352.61 744.28,-360.96 754.58,-358.5 750.8,-352.61\"/>\n",
              "<text text-anchor=\"middle\" x=\"796.39\" y=\"-308.87\" font-family=\"Times New Roman,serif\" font-size=\"14.00\">0.25</text>\n",
              "</g>\n",
              "<!-- ((0, 1, 1), 0)&#45;&gt;((0, 1, 0), 0) -->\n",
              "<g id=\"edge12\" class=\"edge\">\n",
              "<title>((0, 1, 1), 0)&#45;&gt;((0, 1, 0), 0)</title>\n",
              "<path fill=\"none\" stroke=\"black\" d=\"M913.52,-516.99C918.1,-497.4 922.76,-475.05 926.58,-454.42\"/>\n",
              "<polygon fill=\"black\" stroke=\"black\" points=\"930.01,-455.12 928.34,-444.65 923.12,-453.87 930.01,-455.12\"/>\n",
              "<text text-anchor=\"middle\" x=\"928.67\" y=\"-488.9\" font-family=\"Times New Roman,serif\" font-size=\"14.00\">0.5</text>\n",
              "</g>\n",
              "<!-- ((0, 1, 1), 0)&#45;&gt;((0, 0, 1), 0) -->\n",
              "<g id=\"edge11\" class=\"edge\">\n",
              "<title>((0, 1, 1), 0)&#45;&gt;((0, 0, 1), 0)</title>\n",
              "<path fill=\"none\" stroke=\"black\" d=\"M946.45,-544.1C971.7,-527.97 1002.23,-507.21 1027.79,-488.86\"/>\n",
              "<polygon fill=\"black\" stroke=\"black\" points=\"1029.69,-491.8 1035.74,-483.1 1025.58,-486.13 1029.69,-491.8\"/>\n",
              "<text text-anchor=\"middle\" x=\"978.5\" y=\"-519.68\" font-family=\"Times New Roman,serif\" font-size=\"14.00\">0.5</text>\n",
              "</g>\n",
              "<!-- ((0, 1, 1), 0)&#45;&gt;((1, 1, 1), 0) -->\n",
              "<g id=\"edge10\" class=\"edge\">\n",
              "<title>((0, 1, 1), 0)&#45;&gt;((1, 1, 1), 0)</title>\n",
              "<path fill=\"none\" stroke=\"black\" d=\"M857.14,-529.48C827.24,-501.33 785.6,-464.47 752.29,-436.59\"/>\n",
              "<polygon fill=\"black\" stroke=\"black\" points=\"754.66,-434.01 744.73,-430.31 750.19,-439.4 754.66,-434.01\"/>\n",
              "<text text-anchor=\"middle\" x=\"796.09\" y=\"-469.74\" font-family=\"Times New Roman,serif\" font-size=\"14.00\">0.6</text>\n",
              "</g>\n",
              "<!-- ((1, 1, 0), 0)&#45;&gt;((1, 0, 0), 0) -->\n",
              "<g id=\"edge21\" class=\"edge\">\n",
              "<title>((1, 1, 0), 0)&#45;&gt;((1, 0, 0), 0)</title>\n",
              "<path fill=\"none\" stroke=\"black\" d=\"M842.05,-154.15C861.05,-139.43 882.87,-121.6 901.94,-105.23\"/>\n",
              "<polygon fill=\"black\" stroke=\"black\" points=\"904.07,-108.02 909.34,-98.82 899.49,-102.72 904.07,-108.02\"/>\n",
              "<text text-anchor=\"middle\" x=\"863.37\" y=\"-132.89\" font-family=\"Times New Roman,serif\" font-size=\"14.00\">0.5</text>\n",
              "</g>\n",
              "<!-- ((1, 1, 0), 0)&#45;&gt;((0, 1, 0), 0) -->\n",
              "<g id=\"edge20\" class=\"edge\">\n",
              "<title>((1, 1, 0), 0)&#45;&gt;((0, 1, 0), 0)</title>\n",
              "<path fill=\"none\" stroke=\"black\" d=\"M822.01,-235.64C841.39,-265.44 867.56,-303.18 889.75,-333.42\"/>\n",
              "<polygon fill=\"black\" stroke=\"black\" points=\"886.83,-335.36 895.59,-341.32 892.46,-331.2 886.83,-335.36\"/>\n",
              "<text text-anchor=\"middle\" x=\"847.25\" y=\"-271.23\" font-family=\"Times New Roman,serif\" font-size=\"14.00\">0.5</text>\n",
              "</g>\n",
              "<!-- ((1, 1, 0), 0)&#45;&gt;((1, 1, 1), 0) -->\n",
              "<g id=\"edge19\" class=\"edge\">\n",
              "<title>((1, 1, 0), 0)&#45;&gt;((1, 1, 1), 0)</title>\n",
              "<path fill=\"none\" stroke=\"black\" d=\"M764.99,-234.86C750.63,-263.63 733.64,-300.27 720.21,-331.34\"/>\n",
              "<polygon fill=\"black\" stroke=\"black\" points=\"717.11,-329.69 716.4,-340.26 723.55,-332.44 717.11,-329.69\"/>\n",
              "<text text-anchor=\"middle\" x=\"730.6\" y=\"-286.3\" font-family=\"Times New Roman,serif\" font-size=\"14.00\">0.15</text>\n",
              "</g>\n",
              "<!-- ((1, 1, 1), 0)&#45;&gt;((1, 0, 1), 0) -->\n",
              "<g id=\"edge24\" class=\"edge\">\n",
              "<title>((1, 1, 1), 0)&#45;&gt;((1, 0, 1), 0)</title>\n",
              "<path fill=\"none\" stroke=\"black\" d=\"M749.07,-371.5C782.77,-352.64 826.65,-326.31 860.99,-304.39\"/>\n",
              "<polygon fill=\"black\" stroke=\"black\" points=\"862.62,-307.51 869.14,-299.16 858.83,-301.62 862.62,-307.51\"/>\n",
              "<text text-anchor=\"middle\" x=\"796.41\" y=\"-341.15\" font-family=\"Times New Roman,serif\" font-size=\"14.00\">0.5</text>\n",
              "</g>\n",
              "<!-- ((1, 1, 1), 0)&#45;&gt;((0, 1, 1), 0) -->\n",
              "<g id=\"edge23\" class=\"edge\">\n",
              "<title>((1, 1, 1), 0)&#45;&gt;((0, 1, 1), 0)</title>\n",
              "<path fill=\"none\" stroke=\"black\" d=\"M736.16,-437.89C766.06,-466.04 807.71,-502.91 841.02,-530.78\"/>\n",
              "<polygon fill=\"black\" stroke=\"black\" points=\"838.64,-533.36 848.57,-537.06 843.12,-527.98 838.64,-533.36\"/>\n",
              "<text text-anchor=\"middle\" x=\"779.96\" y=\"-487.54\" font-family=\"Times New Roman,serif\" font-size=\"14.00\">0.5</text>\n",
              "</g>\n",
              "<!-- ((1, 1, 1), 0)&#45;&gt;((1, 1, 0), 0) -->\n",
              "<g id=\"edge25\" class=\"edge\">\n",
              "<title>((1, 1, 1), 0)&#45;&gt;((1, 1, 0), 0)</title>\n",
              "<path fill=\"none\" stroke=\"black\" d=\"M726.46,-346.76C740.82,-317.98 757.81,-281.35 771.24,-250.27\"/>\n",
              "<polygon fill=\"black\" stroke=\"black\" points=\"774.34,-251.93 775.06,-241.36 767.91,-249.18 774.34,-251.93\"/>\n",
              "<text text-anchor=\"middle\" x=\"757.48\" y=\"-301.72\" font-family=\"Times New Roman,serif\" font-size=\"14.00\">0.5</text>\n",
              "</g>\n",
              "<!-- ((1, 1, 1), 1) -->\n",
              "<g id=\"node9\" class=\"node\">\n",
              "<title>((1, 1, 1), 1)</title>\n",
              "<ellipse fill=\"none\" stroke=\"black\" cx=\"419.14\" cy=\"-405.27\" rx=\"56.98\" ry=\"56.98\"/>\n",
              "<text text-anchor=\"middle\" x=\"419.14\" y=\"-400.22\" font-family=\"Times New Roman,serif\" font-size=\"14.00\">((1, 1, 1), 1)</text>\n",
              "</g>\n",
              "<!-- ((1, 1, 1), 0)&#45;&gt;((1, 1, 1), 1) -->\n",
              "<g id=\"edge22\" class=\"edge\">\n",
              "<title>((1, 1, 1), 0)&#45;&gt;((1, 1, 1), 1)</title>\n",
              "<path fill=\"none\" stroke=\"black\" d=\"M640.12,-392.37C595.73,-392.38 534.04,-394.32 487.12,-397.11\"/>\n",
              "<polygon fill=\"black\" stroke=\"black\" points=\"487.1,-393.61 477.34,-397.72 487.54,-400.59 487.1,-393.61\"/>\n",
              "<text text-anchor=\"middle\" x=\"554.99\" y=\"-381.44\" font-family=\"Times New Roman,serif\" font-size=\"14.00\">1.0</text>\n",
              "</g>\n",
              "<!-- ((1, 1, 1), 1)&#45;&gt;((1, 1, 1), 0) -->\n",
              "<g id=\"edge27\" class=\"edge\">\n",
              "<title>((1, 1, 1), 1)&#45;&gt;((1, 1, 1), 0)</title>\n",
              "<path fill=\"none\" stroke=\"black\" d=\"M476.28,-408.95C520.66,-408.93 582.35,-406.99 629.28,-404.2\"/>\n",
              "<polygon fill=\"black\" stroke=\"black\" points=\"629.29,-407.71 639.05,-403.59 628.85,-400.72 629.29,-407.71\"/>\n",
              "<text text-anchor=\"middle\" x=\"544.15\" y=\"-409.78\" font-family=\"Times New Roman,serif\" font-size=\"14.00\">0.5</text>\n",
              "</g>\n",
              "<!-- ((1, 1, 1), 2) -->\n",
              "<g id=\"node10\" class=\"node\">\n",
              "<title>((1, 1, 1), 2)</title>\n",
              "<ellipse fill=\"none\" stroke=\"black\" cx=\"199.29\" cy=\"-349.99\" rx=\"56.98\" ry=\"56.98\"/>\n",
              "<text text-anchor=\"middle\" x=\"199.29\" y=\"-344.94\" font-family=\"Times New Roman,serif\" font-size=\"14.00\">((1, 1, 1), 2)</text>\n",
              "</g>\n",
              "<!-- ((1, 1, 1), 1)&#45;&gt;((1, 1, 1), 2) -->\n",
              "<g id=\"edge26\" class=\"edge\">\n",
              "<title>((1, 1, 1), 1)&#45;&gt;((1, 1, 1), 2)</title>\n",
              "<path fill=\"none\" stroke=\"black\" d=\"M365.39,-385.63C335.7,-377.17 298.54,-367.72 266.89,-360.55\"/>\n",
              "<polygon fill=\"black\" stroke=\"black\" points=\"267.95,-357.2 257.43,-358.44 266.43,-364.03 267.95,-357.2\"/>\n",
              "<text text-anchor=\"middle\" x=\"307.52\" y=\"-359.79\" font-family=\"Times New Roman,serif\" font-size=\"14.00\">1.0</text>\n",
              "</g>\n",
              "<!-- ((1, 1, 1), 2)&#45;&gt;((1, 1, 1), 1) -->\n",
              "<g id=\"edge29\" class=\"edge\">\n",
              "<title>((1, 1, 1), 2)&#45;&gt;((1, 1, 1), 1)</title>\n",
              "<path fill=\"none\" stroke=\"black\" d=\"M253.03,-369.63C282.72,-378.09 319.89,-387.54 351.53,-394.71\"/>\n",
              "<polygon fill=\"black\" stroke=\"black\" points=\"350.47,-398.06 360.99,-396.82 352,-391.23 350.47,-398.06\"/>\n",
              "<text text-anchor=\"middle\" x=\"293.66\" y=\"-385.37\" font-family=\"Times New Roman,serif\" font-size=\"14.00\">0.5</text>\n",
              "</g>\n",
              "<!-- ((1, 1, 1), 3) -->\n",
              "<g id=\"node11\" class=\"node\">\n",
              "<title>((1, 1, 1), 3)</title>\n",
              "<ellipse fill=\"none\" stroke=\"black\" cx=\"56.98\" cy=\"-231.35\" rx=\"56.98\" ry=\"56.98\"/>\n",
              "<text text-anchor=\"middle\" x=\"56.98\" y=\"-226.3\" font-family=\"Times New Roman,serif\" font-size=\"14.00\">((1, 1, 1), 3)</text>\n",
              "</g>\n",
              "<!-- ((1, 1, 1), 2)&#45;&gt;((1, 1, 1), 3) -->\n",
              "<g id=\"edge28\" class=\"edge\">\n",
              "<title>((1, 1, 1), 2)&#45;&gt;((1, 1, 1), 3)</title>\n",
              "<path fill=\"none\" stroke=\"black\" d=\"M159.46,-308.6C145.25,-296.08 128.97,-282.4 113.62,-270.06\"/>\n",
              "<polygon fill=\"black\" stroke=\"black\" points=\"115.9,-267.41 105.9,-263.91 111.54,-272.88 115.9,-267.41\"/>\n",
              "<text text-anchor=\"middle\" x=\"127.91\" y=\"-276.03\" font-family=\"Times New Roman,serif\" font-size=\"14.00\">1.0</text>\n",
              "</g>\n",
              "<!-- ((1, 1, 1), 3)&#45;&gt;((1, 1, 1), 2) -->\n",
              "<g id=\"edge30\" class=\"edge\">\n",
              "<title>((1, 1, 1), 3)&#45;&gt;((1, 1, 1), 2)</title>\n",
              "<path fill=\"none\" stroke=\"black\" d=\"M96.81,-272.75C111.02,-285.27 127.3,-298.95 142.65,-311.29\"/>\n",
              "<polygon fill=\"black\" stroke=\"black\" points=\"140.36,-313.94 150.37,-317.43 144.72,-308.47 140.36,-313.94\"/>\n",
              "<text text-anchor=\"middle\" x=\"111.1\" y=\"-295.22\" font-family=\"Times New Roman,serif\" font-size=\"14.00\">0.5</text>\n",
              "</g>\n",
              "</g>\n",
              "</svg>\n"
            ],
            "text/plain": [
              "<graphviz.graphs.Digraph at 0x26f6962e8a0>"
            ]
          },
          "metadata": {},
          "output_type": "display_data"
        }
      ],
      "source": [
        "def make_state_graph(states):\n",
        "    g = Digraph(engine='sfdp')\n",
        "    g.attr(overlap='scalexy')\n",
        "\n",
        "    for in_state, out_states in states.items():\n",
        "        for out_state, prob in out_states.items():\n",
        "            in_id = str(in_state)\n",
        "            out_id = str(out_state)\n",
        "\n",
        "            if prob - 0.001 > 0:\n",
        "              id = str(in_state)\n",
        "              g.node(id, id, shape='circle')\n",
        "              g.edge(in_id, out_id, f'{1.*prob:.3}')\n",
        "    return g\n",
        "\n",
        "display(make_state_graph(transitions))"
      ]
    },
    {
      "cell_type": "code",
      "execution_count": 8,
      "id": "19260a92-43cf-4575-9f7c-fcea3ec582ca",
      "metadata": {
        "colab": {
          "base_uri": "https://localhost:8080/",
          "height": 817
        },
        "id": "19260a92-43cf-4575-9f7c-fcea3ec582ca",
        "outputId": "912a5e9a-2114-4dc9-9341-369d9f104a3f"
      },
      "outputs": [
        {
          "data": {
            "application/vnd.plotly.v1+json": {
              "config": {
                "plotlyServerURL": "https://plot.ly"
              },
              "data": [
                {
                  "coloraxis": "coloraxis",
                  "hovertemplate": "x: %{x}<br>y: %{y}<br>color: %{z}<extra></extra>",
                  "name": "0",
                  "texttemplate": "%{z}",
                  "type": "heatmap",
                  "xaxis": "x",
                  "yaxis": "y",
                  "z": [
                    [
                      -1,
                      0.15,
                      0.25,
                      0,
                      0.6,
                      0,
                      0,
                      0,
                      0,
                      0,
                      0
                    ],
                    [
                      0.5,
                      -1.35,
                      0,
                      0.25,
                      0,
                      0.6,
                      0,
                      0,
                      0,
                      0,
                      0
                    ],
                    [
                      0.5,
                      0,
                      -1.25,
                      0.15,
                      0,
                      0,
                      0.6,
                      0,
                      0,
                      0,
                      0
                    ],
                    [
                      0,
                      0.5,
                      0.5,
                      -1.6,
                      0,
                      0,
                      0,
                      0.6,
                      0,
                      0,
                      0
                    ],
                    [
                      0.5,
                      0,
                      0,
                      0,
                      -0.9,
                      0.15,
                      0.25,
                      0,
                      0,
                      0,
                      0
                    ],
                    [
                      0,
                      0.5,
                      0,
                      0,
                      0.5,
                      -1.25,
                      0,
                      0.25,
                      0,
                      0,
                      0
                    ],
                    [
                      0,
                      0,
                      0.5,
                      0,
                      0.5,
                      0,
                      -1.15,
                      0.15,
                      0,
                      0,
                      0
                    ],
                    [
                      0,
                      0,
                      0,
                      0.5,
                      0,
                      0.5,
                      0.5,
                      -2.5,
                      1,
                      0,
                      0
                    ],
                    [
                      0,
                      0,
                      0,
                      0,
                      0,
                      0,
                      0,
                      0.5,
                      -1.5,
                      1,
                      0
                    ],
                    [
                      0,
                      0,
                      0,
                      0,
                      0,
                      0,
                      0,
                      0,
                      0.5,
                      -1.5,
                      1
                    ],
                    [
                      0,
                      0,
                      0,
                      0,
                      0,
                      0,
                      0,
                      0,
                      0,
                      0.5,
                      -0.5
                    ]
                  ]
                }
              ],
              "layout": {
                "coloraxis": {
                  "cmid": 0,
                  "colorscale": [
                    [
                      0,
                      "red"
                    ],
                    [
                      0.5,
                      "#f8f8f8"
                    ],
                    [
                      1,
                      "green"
                    ]
                  ]
                },
                "height": 800,
                "margin": {
                  "t": 60
                },
                "template": {
                  "data": {
                    "bar": [
                      {
                        "error_x": {
                          "color": "#2a3f5f"
                        },
                        "error_y": {
                          "color": "#2a3f5f"
                        },
                        "marker": {
                          "line": {
                            "color": "#E5ECF6",
                            "width": 0.5
                          },
                          "pattern": {
                            "fillmode": "overlay",
                            "size": 10,
                            "solidity": 0.2
                          }
                        },
                        "type": "bar"
                      }
                    ],
                    "barpolar": [
                      {
                        "marker": {
                          "line": {
                            "color": "#E5ECF6",
                            "width": 0.5
                          },
                          "pattern": {
                            "fillmode": "overlay",
                            "size": 10,
                            "solidity": 0.2
                          }
                        },
                        "type": "barpolar"
                      }
                    ],
                    "carpet": [
                      {
                        "aaxis": {
                          "endlinecolor": "#2a3f5f",
                          "gridcolor": "white",
                          "linecolor": "white",
                          "minorgridcolor": "white",
                          "startlinecolor": "#2a3f5f"
                        },
                        "baxis": {
                          "endlinecolor": "#2a3f5f",
                          "gridcolor": "white",
                          "linecolor": "white",
                          "minorgridcolor": "white",
                          "startlinecolor": "#2a3f5f"
                        },
                        "type": "carpet"
                      }
                    ],
                    "choropleth": [
                      {
                        "colorbar": {
                          "outlinewidth": 0,
                          "ticks": ""
                        },
                        "type": "choropleth"
                      }
                    ],
                    "contour": [
                      {
                        "colorbar": {
                          "outlinewidth": 0,
                          "ticks": ""
                        },
                        "colorscale": [
                          [
                            0,
                            "#0d0887"
                          ],
                          [
                            0.1111111111111111,
                            "#46039f"
                          ],
                          [
                            0.2222222222222222,
                            "#7201a8"
                          ],
                          [
                            0.3333333333333333,
                            "#9c179e"
                          ],
                          [
                            0.4444444444444444,
                            "#bd3786"
                          ],
                          [
                            0.5555555555555556,
                            "#d8576b"
                          ],
                          [
                            0.6666666666666666,
                            "#ed7953"
                          ],
                          [
                            0.7777777777777778,
                            "#fb9f3a"
                          ],
                          [
                            0.8888888888888888,
                            "#fdca26"
                          ],
                          [
                            1,
                            "#f0f921"
                          ]
                        ],
                        "type": "contour"
                      }
                    ],
                    "contourcarpet": [
                      {
                        "colorbar": {
                          "outlinewidth": 0,
                          "ticks": ""
                        },
                        "type": "contourcarpet"
                      }
                    ],
                    "heatmap": [
                      {
                        "colorbar": {
                          "outlinewidth": 0,
                          "ticks": ""
                        },
                        "colorscale": [
                          [
                            0,
                            "#0d0887"
                          ],
                          [
                            0.1111111111111111,
                            "#46039f"
                          ],
                          [
                            0.2222222222222222,
                            "#7201a8"
                          ],
                          [
                            0.3333333333333333,
                            "#9c179e"
                          ],
                          [
                            0.4444444444444444,
                            "#bd3786"
                          ],
                          [
                            0.5555555555555556,
                            "#d8576b"
                          ],
                          [
                            0.6666666666666666,
                            "#ed7953"
                          ],
                          [
                            0.7777777777777778,
                            "#fb9f3a"
                          ],
                          [
                            0.8888888888888888,
                            "#fdca26"
                          ],
                          [
                            1,
                            "#f0f921"
                          ]
                        ],
                        "type": "heatmap"
                      }
                    ],
                    "heatmapgl": [
                      {
                        "colorbar": {
                          "outlinewidth": 0,
                          "ticks": ""
                        },
                        "colorscale": [
                          [
                            0,
                            "#0d0887"
                          ],
                          [
                            0.1111111111111111,
                            "#46039f"
                          ],
                          [
                            0.2222222222222222,
                            "#7201a8"
                          ],
                          [
                            0.3333333333333333,
                            "#9c179e"
                          ],
                          [
                            0.4444444444444444,
                            "#bd3786"
                          ],
                          [
                            0.5555555555555556,
                            "#d8576b"
                          ],
                          [
                            0.6666666666666666,
                            "#ed7953"
                          ],
                          [
                            0.7777777777777778,
                            "#fb9f3a"
                          ],
                          [
                            0.8888888888888888,
                            "#fdca26"
                          ],
                          [
                            1,
                            "#f0f921"
                          ]
                        ],
                        "type": "heatmapgl"
                      }
                    ],
                    "histogram": [
                      {
                        "marker": {
                          "pattern": {
                            "fillmode": "overlay",
                            "size": 10,
                            "solidity": 0.2
                          }
                        },
                        "type": "histogram"
                      }
                    ],
                    "histogram2d": [
                      {
                        "colorbar": {
                          "outlinewidth": 0,
                          "ticks": ""
                        },
                        "colorscale": [
                          [
                            0,
                            "#0d0887"
                          ],
                          [
                            0.1111111111111111,
                            "#46039f"
                          ],
                          [
                            0.2222222222222222,
                            "#7201a8"
                          ],
                          [
                            0.3333333333333333,
                            "#9c179e"
                          ],
                          [
                            0.4444444444444444,
                            "#bd3786"
                          ],
                          [
                            0.5555555555555556,
                            "#d8576b"
                          ],
                          [
                            0.6666666666666666,
                            "#ed7953"
                          ],
                          [
                            0.7777777777777778,
                            "#fb9f3a"
                          ],
                          [
                            0.8888888888888888,
                            "#fdca26"
                          ],
                          [
                            1,
                            "#f0f921"
                          ]
                        ],
                        "type": "histogram2d"
                      }
                    ],
                    "histogram2dcontour": [
                      {
                        "colorbar": {
                          "outlinewidth": 0,
                          "ticks": ""
                        },
                        "colorscale": [
                          [
                            0,
                            "#0d0887"
                          ],
                          [
                            0.1111111111111111,
                            "#46039f"
                          ],
                          [
                            0.2222222222222222,
                            "#7201a8"
                          ],
                          [
                            0.3333333333333333,
                            "#9c179e"
                          ],
                          [
                            0.4444444444444444,
                            "#bd3786"
                          ],
                          [
                            0.5555555555555556,
                            "#d8576b"
                          ],
                          [
                            0.6666666666666666,
                            "#ed7953"
                          ],
                          [
                            0.7777777777777778,
                            "#fb9f3a"
                          ],
                          [
                            0.8888888888888888,
                            "#fdca26"
                          ],
                          [
                            1,
                            "#f0f921"
                          ]
                        ],
                        "type": "histogram2dcontour"
                      }
                    ],
                    "mesh3d": [
                      {
                        "colorbar": {
                          "outlinewidth": 0,
                          "ticks": ""
                        },
                        "type": "mesh3d"
                      }
                    ],
                    "parcoords": [
                      {
                        "line": {
                          "colorbar": {
                            "outlinewidth": 0,
                            "ticks": ""
                          }
                        },
                        "type": "parcoords"
                      }
                    ],
                    "pie": [
                      {
                        "automargin": true,
                        "type": "pie"
                      }
                    ],
                    "scatter": [
                      {
                        "fillpattern": {
                          "fillmode": "overlay",
                          "size": 10,
                          "solidity": 0.2
                        },
                        "type": "scatter"
                      }
                    ],
                    "scatter3d": [
                      {
                        "line": {
                          "colorbar": {
                            "outlinewidth": 0,
                            "ticks": ""
                          }
                        },
                        "marker": {
                          "colorbar": {
                            "outlinewidth": 0,
                            "ticks": ""
                          }
                        },
                        "type": "scatter3d"
                      }
                    ],
                    "scattercarpet": [
                      {
                        "marker": {
                          "colorbar": {
                            "outlinewidth": 0,
                            "ticks": ""
                          }
                        },
                        "type": "scattercarpet"
                      }
                    ],
                    "scattergeo": [
                      {
                        "marker": {
                          "colorbar": {
                            "outlinewidth": 0,
                            "ticks": ""
                          }
                        },
                        "type": "scattergeo"
                      }
                    ],
                    "scattergl": [
                      {
                        "marker": {
                          "colorbar": {
                            "outlinewidth": 0,
                            "ticks": ""
                          }
                        },
                        "type": "scattergl"
                      }
                    ],
                    "scattermapbox": [
                      {
                        "marker": {
                          "colorbar": {
                            "outlinewidth": 0,
                            "ticks": ""
                          }
                        },
                        "type": "scattermapbox"
                      }
                    ],
                    "scatterpolar": [
                      {
                        "marker": {
                          "colorbar": {
                            "outlinewidth": 0,
                            "ticks": ""
                          }
                        },
                        "type": "scatterpolar"
                      }
                    ],
                    "scatterpolargl": [
                      {
                        "marker": {
                          "colorbar": {
                            "outlinewidth": 0,
                            "ticks": ""
                          }
                        },
                        "type": "scatterpolargl"
                      }
                    ],
                    "scatterternary": [
                      {
                        "marker": {
                          "colorbar": {
                            "outlinewidth": 0,
                            "ticks": ""
                          }
                        },
                        "type": "scatterternary"
                      }
                    ],
                    "surface": [
                      {
                        "colorbar": {
                          "outlinewidth": 0,
                          "ticks": ""
                        },
                        "colorscale": [
                          [
                            0,
                            "#0d0887"
                          ],
                          [
                            0.1111111111111111,
                            "#46039f"
                          ],
                          [
                            0.2222222222222222,
                            "#7201a8"
                          ],
                          [
                            0.3333333333333333,
                            "#9c179e"
                          ],
                          [
                            0.4444444444444444,
                            "#bd3786"
                          ],
                          [
                            0.5555555555555556,
                            "#d8576b"
                          ],
                          [
                            0.6666666666666666,
                            "#ed7953"
                          ],
                          [
                            0.7777777777777778,
                            "#fb9f3a"
                          ],
                          [
                            0.8888888888888888,
                            "#fdca26"
                          ],
                          [
                            1,
                            "#f0f921"
                          ]
                        ],
                        "type": "surface"
                      }
                    ],
                    "table": [
                      {
                        "cells": {
                          "fill": {
                            "color": "#EBF0F8"
                          },
                          "line": {
                            "color": "white"
                          }
                        },
                        "header": {
                          "fill": {
                            "color": "#C8D4E3"
                          },
                          "line": {
                            "color": "white"
                          }
                        },
                        "type": "table"
                      }
                    ]
                  },
                  "layout": {
                    "annotationdefaults": {
                      "arrowcolor": "#2a3f5f",
                      "arrowhead": 0,
                      "arrowwidth": 1
                    },
                    "autotypenumbers": "strict",
                    "coloraxis": {
                      "colorbar": {
                        "outlinewidth": 0,
                        "ticks": ""
                      }
                    },
                    "colorscale": {
                      "diverging": [
                        [
                          0,
                          "#8e0152"
                        ],
                        [
                          0.1,
                          "#c51b7d"
                        ],
                        [
                          0.2,
                          "#de77ae"
                        ],
                        [
                          0.3,
                          "#f1b6da"
                        ],
                        [
                          0.4,
                          "#fde0ef"
                        ],
                        [
                          0.5,
                          "#f7f7f7"
                        ],
                        [
                          0.6,
                          "#e6f5d0"
                        ],
                        [
                          0.7,
                          "#b8e186"
                        ],
                        [
                          0.8,
                          "#7fbc41"
                        ],
                        [
                          0.9,
                          "#4d9221"
                        ],
                        [
                          1,
                          "#276419"
                        ]
                      ],
                      "sequential": [
                        [
                          0,
                          "#0d0887"
                        ],
                        [
                          0.1111111111111111,
                          "#46039f"
                        ],
                        [
                          0.2222222222222222,
                          "#7201a8"
                        ],
                        [
                          0.3333333333333333,
                          "#9c179e"
                        ],
                        [
                          0.4444444444444444,
                          "#bd3786"
                        ],
                        [
                          0.5555555555555556,
                          "#d8576b"
                        ],
                        [
                          0.6666666666666666,
                          "#ed7953"
                        ],
                        [
                          0.7777777777777778,
                          "#fb9f3a"
                        ],
                        [
                          0.8888888888888888,
                          "#fdca26"
                        ],
                        [
                          1,
                          "#f0f921"
                        ]
                      ],
                      "sequentialminus": [
                        [
                          0,
                          "#0d0887"
                        ],
                        [
                          0.1111111111111111,
                          "#46039f"
                        ],
                        [
                          0.2222222222222222,
                          "#7201a8"
                        ],
                        [
                          0.3333333333333333,
                          "#9c179e"
                        ],
                        [
                          0.4444444444444444,
                          "#bd3786"
                        ],
                        [
                          0.5555555555555556,
                          "#d8576b"
                        ],
                        [
                          0.6666666666666666,
                          "#ed7953"
                        ],
                        [
                          0.7777777777777778,
                          "#fb9f3a"
                        ],
                        [
                          0.8888888888888888,
                          "#fdca26"
                        ],
                        [
                          1,
                          "#f0f921"
                        ]
                      ]
                    },
                    "colorway": [
                      "#636efa",
                      "#EF553B",
                      "#00cc96",
                      "#ab63fa",
                      "#FFA15A",
                      "#19d3f3",
                      "#FF6692",
                      "#B6E880",
                      "#FF97FF",
                      "#FECB52"
                    ],
                    "font": {
                      "color": "#2a3f5f"
                    },
                    "geo": {
                      "bgcolor": "white",
                      "lakecolor": "white",
                      "landcolor": "#E5ECF6",
                      "showlakes": true,
                      "showland": true,
                      "subunitcolor": "white"
                    },
                    "hoverlabel": {
                      "align": "left"
                    },
                    "hovermode": "closest",
                    "mapbox": {
                      "style": "light"
                    },
                    "paper_bgcolor": "white",
                    "plot_bgcolor": "#E5ECF6",
                    "polar": {
                      "angularaxis": {
                        "gridcolor": "white",
                        "linecolor": "white",
                        "ticks": ""
                      },
                      "bgcolor": "#E5ECF6",
                      "radialaxis": {
                        "gridcolor": "white",
                        "linecolor": "white",
                        "ticks": ""
                      }
                    },
                    "scene": {
                      "xaxis": {
                        "backgroundcolor": "#E5ECF6",
                        "gridcolor": "white",
                        "gridwidth": 2,
                        "linecolor": "white",
                        "showbackground": true,
                        "ticks": "",
                        "zerolinecolor": "white"
                      },
                      "yaxis": {
                        "backgroundcolor": "#E5ECF6",
                        "gridcolor": "white",
                        "gridwidth": 2,
                        "linecolor": "white",
                        "showbackground": true,
                        "ticks": "",
                        "zerolinecolor": "white"
                      },
                      "zaxis": {
                        "backgroundcolor": "#E5ECF6",
                        "gridcolor": "white",
                        "gridwidth": 2,
                        "linecolor": "white",
                        "showbackground": true,
                        "ticks": "",
                        "zerolinecolor": "white"
                      }
                    },
                    "shapedefaults": {
                      "line": {
                        "color": "#2a3f5f"
                      }
                    },
                    "ternary": {
                      "aaxis": {
                        "gridcolor": "white",
                        "linecolor": "white",
                        "ticks": ""
                      },
                      "baxis": {
                        "gridcolor": "white",
                        "linecolor": "white",
                        "ticks": ""
                      },
                      "bgcolor": "#E5ECF6",
                      "caxis": {
                        "gridcolor": "white",
                        "linecolor": "white",
                        "ticks": ""
                      }
                    },
                    "title": {
                      "x": 0.05
                    },
                    "xaxis": {
                      "automargin": true,
                      "gridcolor": "white",
                      "linecolor": "white",
                      "ticks": "",
                      "title": {
                        "standoff": 15
                      },
                      "zerolinecolor": "white",
                      "zerolinewidth": 2
                    },
                    "yaxis": {
                      "automargin": true,
                      "gridcolor": "white",
                      "linecolor": "white",
                      "ticks": "",
                      "title": {
                        "standoff": 15
                      },
                      "zerolinecolor": "white",
                      "zerolinewidth": 2
                    }
                  }
                },
                "title": {
                  "text": "Filtered Transition Rate Matrix"
                },
                "xaxis": {
                  "anchor": "y",
                  "constrain": "domain",
                  "domain": [
                    0,
                    1
                  ],
                  "scaleanchor": "y",
                  "title": {
                    "text": "Next State"
                  }
                },
                "yaxis": {
                  "anchor": "x",
                  "autorange": "reversed",
                  "constrain": "domain",
                  "domain": [
                    0,
                    1
                  ],
                  "title": {
                    "text": "Current State"
                  }
                }
              }
            }
          },
          "metadata": {},
          "output_type": "display_data"
        }
      ],
      "source": [
        "def make_state_indices(states):\n",
        "    idx = {}\n",
        "    for i, state in enumerate(states):\n",
        "        idx[state] = i\n",
        "        idx[i] = state\n",
        "    return idx\n",
        "\n",
        "def make_transition_rate_matrix(states, state_idx):\n",
        "    N = len(states)\n",
        "    m = np.zeros((N, N))\n",
        "    for in_state, out_states in states.items():\n",
        "        in_idx = state_idx[in_state]\n",
        "        for out_state, rate in out_states.items():\n",
        "            out_idx = state_idx[out_state]\n",
        "            m[in_idx, out_idx] = rate\n",
        "    for i in range(N):\n",
        "        m[i, i] = -sum(m[i, :])\n",
        "    return m\n",
        "\n",
        "state_idx = make_state_indices(transitions)\n",
        "transition_rate_matrix = make_transition_rate_matrix(transitions, state_idx)\n",
        "\n",
        "fig = px.imshow(\n",
        "    transition_rate_matrix,\n",
        "    text_auto = True,\n",
        "    height = 800,\n",
        "    color_continuous_scale = [[0, 'red'], [0.5, '#f8f8f8'], [1, 'green']],\n",
        "    color_continuous_midpoint = 0.0,\n",
        ")\n",
        "fig.update_layout(\n",
        "    title='Filtered Transition Rate Matrix',\n",
        "    xaxis_title='Next State',\n",
        "    yaxis_title='Current State',\n",
        ")\n",
        "fig.show()"
      ]
    },
    {
      "cell_type": "code",
      "execution_count": 12,
      "id": "6890ab04-0c83-47f2-ba18-753a07285163",
      "metadata": {
        "colab": {
          "base_uri": "https://localhost:8080/"
        },
        "id": "6890ab04-0c83-47f2-ba18-753a07285163",
        "outputId": "9c915e9a-faef-4570-8d49-0b2eb19a4a7d"
      },
      "outputs": [
        {
          "name": "stdout",
          "output_type": "stream",
          "text": [
            "0\t(0, 0, 0, 0)\t0.1468\n",
            "1\t(0, 0, 1, 0)\t0.04405\n",
            "2\t(0, 1, 0, 0)\t0.07342\n",
            "3\t(0, 1, 1, 0)\t0.02203\n",
            "4\t(1, 0, 0, 0)\t0.1762\n",
            "5\t(1, 0, 1, 0)\t0.05286\n",
            "6\t(1, 1, 0, 0)\t0.08811\n",
            "7\t(1, 1, 1, 0)\t0.02643\n",
            "8\t(1, 1, 1, 1)\t0.05286\n",
            "9\t(1, 1, 1, 2)\t0.1057\n",
            "10\t(1, 1, 1, 3)\t0.2115\n"
          ]
        }
      ],
      "source": [
        "def solve_states(transition_rate_matrix):\n",
        "    shape = transition_rate_matrix.shape\n",
        "    assert len(shape) == 2\n",
        "    assert shape[0] == shape[1]\n",
        "    N = shape[0]\n",
        "\n",
        "    equations = transition_rate_matrix.copy().transpose()\n",
        "    equations[0, :] = np.ones(N)\n",
        "    bvector = np.zeros(N)\n",
        "    bvector[0] = 1\n",
        "    return np.linalg.solve(equations, bvector)\n",
        "\n",
        "probs = solve_states(transition_rate_matrix)\n",
        "\n",
        "for i in range(len(transitions)):\n",
        "    print(f'{i}\\t{tuple(list(state_idx[i][0])+[state_idx[i][1]])}\\t{probs[i]:.4}')"
      ]
    },
    {
      "cell_type": "code",
      "execution_count": 10,
      "id": "mGaWzrcU5OQS",
      "metadata": {
        "colab": {
          "base_uri": "https://localhost:8080/"
        },
        "id": "mGaWzrcU5OQS",
        "outputId": "f777a4b8-f1a2-498f-d7c2-71dbee8c545f"
      },
      "outputs": [
        {
          "data": {
            "text/plain": [
              "np.float64(1.0)"
            ]
          },
          "execution_count": 10,
          "metadata": {},
          "output_type": "execute_result"
        }
      ],
      "source": [
        "sum(probs)"
      ]
    },
    {
      "cell_type": "code",
      "execution_count": 11,
      "id": "AmyxKM8o9oqS",
      "metadata": {
        "colab": {
          "base_uri": "https://localhost:8080/"
        },
        "id": "AmyxKM8o9oqS",
        "outputId": "883df965-dec8-4603-b964-30c96b95db74"
      },
      "outputs": [
        {
          "name": "stdout",
          "output_type": "stream",
          "text": [
            "Нагрузка      y = array([1.2, 0.5, 0.3]) Σ 2.0\n",
            "Загрузка      pbusy = array([0.71365639, 0.58002937, 0.5154185 ]) Σ 1.8091042584434665\n",
            "Длина очереди [0.89867841 0.89867841 0.89867841], Σ 0.8986784140969176\n",
            "Число заявок  [1.6123348  1.47870778 1.41409692], Σ 4.505139500734219\n",
            "Время ожидания       [1.89944134 4.55865922 7.59776536], Σ 3.418994413407828\n",
            "Время пребывания     [ 3.40782123  7.5009311  11.95530726], Σ 5.713221601489767\n",
            "Вероятность потери   [0.21145374 0.21145374 0.21145374], Σ 0.21145374449339238\n",
            "Производительность   [0.47312775 0.19713656 0.11828194], Σ 0.7885462555066075\n"
          ]
        }
      ],
      "source": [
        "y = np.array(P) * (LAM / MU) # Нагрузка\n",
        "pbusy = np.zeros(len(P)) # Загрузка\n",
        "L = np.zeros(len(P)) # Длина очереди\n",
        "m = np.zeros(len(P)) # Число заявок\n",
        "prod = np.zeros(len(P)) # Производительность\n",
        "loss = np.zeros(len(P)) # Вероятность потери\n",
        "wtime = np.zeros(len(P)) # Время ожидания\n",
        "ttime = np.zeros(len(P)) # Время пребывания\n",
        "\n",
        "for si, prob in enumerate(probs):\n",
        "  state = state_idx[si]\n",
        "  for did in range(N):\n",
        "    if state[0][did] != 0:\n",
        "      pbusy[did] += prob\n",
        "    L[did] += prob * state[1]\n",
        "    if state[0][did] > 0:\n",
        "      m[did] += prob * (1 + state[1])\n",
        "    if state[1] == MAX_QUEUE_SIZE and state[0][did] > 0:\n",
        "      loss[did] += prob\n",
        "\n",
        "prod = LAM * np.array(P) * (1 - loss)\n",
        "wtime = L / prod\n",
        "ttime = m / prod\n",
        "\n",
        "print(f'Нагрузка      {y = } Σ {sum(y)}')\n",
        "print(f'Загрузка      {pbusy = } Σ {sum(pbusy)}')\n",
        "print(f'Длина очереди {L}, Σ {L[0]}') # у нас единая очередь — любое из значений\n",
        "print(f'Число заявок  {m}, Σ {sum(m)}')\n",
        "print(f'Время ожидания       {wtime}, Σ {sum(L) / sum(prod)}')\n",
        "print(f'Время пребывания     {ttime}, Σ {sum(m) / sum(prod)}')\n",
        "print(f'Вероятность потери   {loss}, Σ {sum(loss * P)}')\n",
        "print(f'Производительность   {prod}, Σ {sum(prod)}')"
      ]
    }
  ],
  "metadata": {
    "colab": {
      "provenance": []
    },
    "kernelspec": {
      "display_name": ".venv",
      "language": "python",
      "name": "python3"
    },
    "language_info": {
      "codemirror_mode": {
        "name": "ipython",
        "version": 3
      },
      "file_extension": ".py",
      "mimetype": "text/x-python",
      "name": "python",
      "nbconvert_exporter": "python",
      "pygments_lexer": "ipython3",
      "version": "3.12.6"
    }
  },
  "nbformat": 4,
  "nbformat_minor": 5
}
