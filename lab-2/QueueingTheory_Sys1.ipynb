{
  "cells": [
    {
      "cell_type": "code",
      "execution_count": null,
      "id": "85107e3a-f1e9-4704-8c9d-8e41d56c8fd6",
      "metadata": {
        "id": "85107e3a-f1e9-4704-8c9d-8e41d56c8fd6"
      },
      "outputs": [],
      "source": [
        "%reset -f\n",
        "import plotly.express as px\n",
        "from graphviz import Digraph\n",
        "from collections import defaultdict\n",
        "from itertools import product\n",
        "import numpy as np\n",
        "\n"
      ]
    },
    {
      "cell_type": "code",
      "execution_count": null,
      "id": "30944866-8d36-43f2-8ab0-485cbd015b7a",
      "metadata": {
        "colab": {
          "base_uri": "https://localhost:8080/"
        },
        "id": "30944866-8d36-43f2-8ab0-485cbd015b7a",
        "outputId": "fcfe9f35-af7a-4316-bd51-1188e5bc56f3"
      },
      "outputs": [
        {
          "output_type": "stream",
          "name": "stdout",
          "text": [
            "λ = 1\n",
            "b = 2\n",
            "μ = 0.5\n",
            "p1 = 0.6\n",
            "p2 = 0.25\n",
            "p3 = 0.15\n"
          ]
        }
      ],
      "source": [
        "LAM = 1\n",
        "b = 2\n",
        "P = [0.6, 0.25, 0.15]\n",
        "NUM_SERVERS = 3\n",
        "MAX_QUEUE_SIZE = 3\n",
        "TOTAL_CLIENTS = 6\n",
        "N = len(P)\n",
        "\n",
        "# Print\n",
        "MU = 1/b\n",
        "assert sum(P) == 1\n",
        "print(f\"λ = {LAM}\\n{b = }\\nμ = {MU}\")\n",
        "for i in range(len(P)):\n",
        "    print(f'p{i+1} = {P[i]}')"
      ]
    },
    {
      "cell_type": "code",
      "source": [
        "server_states = [0, 1]\n",
        "\n",
        "server_combinations = list(product(server_states, repeat=NUM_SERVERS))\n",
        "queue_states = range(MAX_QUEUE_SIZE + 1)\n",
        "\n",
        "combined_states = list(product(server_combinations, queue_states))\n",
        "\n",
        "transitions = {}"
      ],
      "metadata": {
        "id": "0Y9tDZlyTdkX"
      },
      "id": "0Y9tDZlyTdkX",
      "execution_count": null,
      "outputs": []
    },
    {
      "cell_type": "code",
      "execution_count": null,
      "id": "8df44b1d-63c1-451d-a0a6-3422ee60a5b8",
      "metadata": {
        "id": "8df44b1d-63c1-451d-a0a6-3422ee60a5b8"
      },
      "outputs": [],
      "source": [
        "\n",
        "for in_state in combined_states:\n",
        "    server_state, queue_size = in_state\n",
        "\n",
        "    transitions[in_state] = {}\n",
        "\n",
        "    if sum(server_state) + queue_size < TOTAL_CLIENTS:\n",
        "        if sum(server_state) == NUM_SERVERS and queue_size < MAX_QUEUE_SIZE:\n",
        "            out_queue_size = queue_size + 1\n",
        "            new_state = (tuple(server_state), out_queue_size)\n",
        "            transitions[in_state][new_state] = LAM\n",
        "        if queue_size == 0:\n",
        "          for idx in range(NUM_SERVERS):\n",
        "              if server_state[idx] == 0:\n",
        "                  out_state = list(server_state)\n",
        "                  out_state[idx] = 1\n",
        "\n",
        "                  new_state = (tuple(out_state), queue_size)\n",
        "                  transitions[in_state][new_state] = LAM * P[idx]\n",
        "\n",
        "    if queue_size > 0 and sum(server_state) == NUM_SERVERS:\n",
        "        new_state = (server_state, queue_size - 1)\n",
        "        transitions[in_state][new_state] = MU\n",
        "    elif queue_size == 0:\n",
        "        for idx in range(NUM_SERVERS):\n",
        "          if server_state[idx] == 1:\n",
        "              out_state = list(server_state)\n",
        "              out_state[idx] = 0\n",
        "              new_state = (tuple(out_state), queue_size)\n",
        "              transitions[in_state][new_state] = MU\n",
        "\n",
        "\n"
      ]
    },
    {
      "cell_type": "code",
      "source": [
        "transitions = {state: out_states for state, out_states in transitions.items() if out_states}"
      ],
      "metadata": {
        "id": "Tcyae_4B4Gln"
      },
      "id": "Tcyae_4B4Gln",
      "execution_count": null,
      "outputs": []
    },
    {
      "cell_type": "code",
      "source": [
        "# Output the states and their transitions\n",
        "for state, transition in transitions.items():\n",
        "    print(f\"State: {state}\")\n",
        "    for next_state, prob in transition.items():\n",
        "        print(f\"  -> Next State: {next_state} with Probability: {prob:.4f}\")"
      ],
      "metadata": {
        "colab": {
          "base_uri": "https://localhost:8080/"
        },
        "id": "Kc6OZIhJTtOH",
        "outputId": "4aaf3f9d-3131-4c23-b9fa-ad6f0da422d3"
      },
      "id": "Kc6OZIhJTtOH",
      "execution_count": null,
      "outputs": [
        {
          "output_type": "stream",
          "name": "stdout",
          "text": [
            "State: ((0, 0, 0), 0)\n",
            "  -> Next State: ((1, 0, 0), 0) with Probability: 0.6000\n",
            "  -> Next State: ((0, 1, 0), 0) with Probability: 0.2500\n",
            "  -> Next State: ((0, 0, 1), 0) with Probability: 0.1500\n",
            "State: ((0, 0, 1), 0)\n",
            "  -> Next State: ((1, 0, 1), 0) with Probability: 0.6000\n",
            "  -> Next State: ((0, 1, 1), 0) with Probability: 0.2500\n",
            "  -> Next State: ((0, 0, 0), 0) with Probability: 0.5000\n",
            "State: ((0, 1, 0), 0)\n",
            "  -> Next State: ((1, 1, 0), 0) with Probability: 0.6000\n",
            "  -> Next State: ((0, 1, 1), 0) with Probability: 0.1500\n",
            "  -> Next State: ((0, 0, 0), 0) with Probability: 0.5000\n",
            "State: ((0, 1, 1), 0)\n",
            "  -> Next State: ((1, 1, 1), 0) with Probability: 0.6000\n",
            "  -> Next State: ((0, 0, 1), 0) with Probability: 0.5000\n",
            "  -> Next State: ((0, 1, 0), 0) with Probability: 0.5000\n",
            "State: ((1, 0, 0), 0)\n",
            "  -> Next State: ((1, 1, 0), 0) with Probability: 0.2500\n",
            "  -> Next State: ((1, 0, 1), 0) with Probability: 0.1500\n",
            "  -> Next State: ((0, 0, 0), 0) with Probability: 0.5000\n",
            "State: ((1, 0, 1), 0)\n",
            "  -> Next State: ((1, 1, 1), 0) with Probability: 0.2500\n",
            "  -> Next State: ((0, 0, 1), 0) with Probability: 0.5000\n",
            "  -> Next State: ((1, 0, 0), 0) with Probability: 0.5000\n",
            "State: ((1, 1, 0), 0)\n",
            "  -> Next State: ((1, 1, 1), 0) with Probability: 0.1500\n",
            "  -> Next State: ((0, 1, 0), 0) with Probability: 0.5000\n",
            "  -> Next State: ((1, 0, 0), 0) with Probability: 0.5000\n",
            "State: ((1, 1, 1), 0)\n",
            "  -> Next State: ((1, 1, 1), 1) with Probability: 1.0000\n",
            "  -> Next State: ((0, 1, 1), 0) with Probability: 0.5000\n",
            "  -> Next State: ((1, 0, 1), 0) with Probability: 0.5000\n",
            "  -> Next State: ((1, 1, 0), 0) with Probability: 0.5000\n",
            "State: ((1, 1, 1), 1)\n",
            "  -> Next State: ((1, 1, 1), 2) with Probability: 1.0000\n",
            "  -> Next State: ((1, 1, 1), 0) with Probability: 0.5000\n",
            "State: ((1, 1, 1), 2)\n",
            "  -> Next State: ((1, 1, 1), 3) with Probability: 1.0000\n",
            "  -> Next State: ((1, 1, 1), 1) with Probability: 0.5000\n",
            "State: ((1, 1, 1), 3)\n",
            "  -> Next State: ((1, 1, 1), 2) with Probability: 0.5000\n"
          ]
        }
      ]
    },
    {
      "cell_type": "code",
      "execution_count": null,
      "id": "1917eb13-8701-4087-ba1c-849d392086ff",
      "metadata": {
        "colab": {
          "base_uri": "https://localhost:8080/",
          "height": 563
        },
        "id": "1917eb13-8701-4087-ba1c-849d392086ff",
        "outputId": "3ced94b5-4171-43ad-f94a-752767431ee8"
      },
      "outputs": [
        {
          "output_type": "display_data",
          "data": {
            "image/svg+xml": "<?xml version=\"1.0\" encoding=\"UTF-8\" standalone=\"no\"?>\n<!DOCTYPE svg PUBLIC \"-//W3C//DTD SVG 1.1//EN\"\n \"http://www.w3.org/Graphics/SVG/1.1/DTD/svg11.dtd\">\n<!-- Generated by graphviz version 2.43.0 (0)\n -->\n<!-- Title: %3 Pages: 1 -->\n<svg width=\"1312pt\" height=\"392pt\"\n viewBox=\"0.00 0.00 1312.15 391.66\" xmlns=\"http://www.w3.org/2000/svg\" xmlns:xlink=\"http://www.w3.org/1999/xlink\">\n<g id=\"graph0\" class=\"graph\" transform=\"scale(1 1) rotate(0) translate(4 387.66)\">\n<title>%3</title>\n<polygon fill=\"white\" stroke=\"transparent\" points=\"-4,4 -4,-387.66 1308.15,-387.66 1308.15,4 -4,4\"/>\n<!-- ((0, 0, 0), 0) -->\n<g id=\"node1\" class=\"node\">\n<title>((0, 0, 0), 0)</title>\n<ellipse fill=\"none\" stroke=\"black\" cx=\"1249.55\" cy=\"-192.12\" rx=\"54.69\" ry=\"54.69\"/>\n<text text-anchor=\"middle\" x=\"1249.55\" y=\"-188.42\" font-family=\"Times,serif\" font-size=\"14.00\">((0, 0, 0), 0)</text>\n</g>\n<!-- ((1, 0, 0), 0) -->\n<g id=\"node2\" class=\"node\">\n<title>((1, 0, 0), 0)</title>\n<ellipse fill=\"none\" stroke=\"black\" cx=\"1127.74\" cy=\"-54.6\" rx=\"54.69\" ry=\"54.69\"/>\n<text text-anchor=\"middle\" x=\"1127.74\" y=\"-50.9\" font-family=\"Times,serif\" font-size=\"14.00\">((1, 0, 0), 0)</text>\n</g>\n<!-- ((0, 0, 0), 0)&#45;&gt;((1, 0, 0), 0) -->\n<g id=\"edge1\" class=\"edge\">\n<title>((0, 0, 0), 0)&#45;&gt;((1, 0, 0), 0)</title>\n<path fill=\"none\" stroke=\"black\" d=\"M1218,-147.1C1205.06,-131.6 1189.83,-114.28 1175.59,-98.84\"/>\n<polygon fill=\"black\" stroke=\"black\" points=\"1178.07,-96.37 1168.69,-91.43 1172.95,-101.13 1178.07,-96.37\"/>\n<text text-anchor=\"middle\" x=\"1205.8\" y=\"-126.77\" font-family=\"Times,serif\" font-size=\"14.00\">0.6</text>\n</g>\n<!-- ((0, 1, 0), 0) -->\n<g id=\"node3\" class=\"node\">\n<title>((0, 1, 0), 0)</title>\n<ellipse fill=\"none\" stroke=\"black\" cx=\"1127.07\" cy=\"-329.07\" rx=\"54.69\" ry=\"54.69\"/>\n<text text-anchor=\"middle\" x=\"1127.07\" y=\"-325.37\" font-family=\"Times,serif\" font-size=\"14.00\">((0, 1, 0), 0)</text>\n</g>\n<!-- ((0, 0, 0), 0)&#45;&gt;((0, 1, 0), 0) -->\n<g id=\"edge2\" class=\"edge\">\n<title>((0, 0, 0), 0)&#45;&gt;((0, 1, 0), 0)</title>\n<path fill=\"none\" stroke=\"black\" d=\"M1208.49,-228.68C1194.6,-243.33 1179.15,-260.47 1165.47,-276.4\"/>\n<polygon fill=\"black\" stroke=\"black\" points=\"1162.73,-274.23 1158.91,-284.11 1168.06,-278.77 1162.73,-274.23\"/>\n<text text-anchor=\"middle\" x=\"1174.48\" y=\"-256.34\" font-family=\"Times,serif\" font-size=\"14.00\">0.25</text>\n</g>\n<!-- ((0, 0, 1), 0) -->\n<g id=\"node4\" class=\"node\">\n<title>((0, 0, 1), 0)</title>\n<ellipse fill=\"none\" stroke=\"black\" cx=\"1098.73\" cy=\"-191.71\" rx=\"54.69\" ry=\"54.69\"/>\n<text text-anchor=\"middle\" x=\"1098.73\" y=\"-188.01\" font-family=\"Times,serif\" font-size=\"14.00\">((0, 0, 1), 0)</text>\n</g>\n<!-- ((0, 0, 0), 0)&#45;&gt;((0, 0, 1), 0) -->\n<g id=\"edge3\" class=\"edge\">\n<title>((0, 0, 0), 0)&#45;&gt;((0, 0, 1), 0)</title>\n<path fill=\"none\" stroke=\"black\" d=\"M1195.12,-185.46C1184.77,-185.19 1173.83,-185.1 1163.2,-185.2\"/>\n<polygon fill=\"black\" stroke=\"black\" points=\"1163.07,-181.7 1153.12,-185.34 1163.17,-188.7 1163.07,-181.7\"/>\n<text text-anchor=\"middle\" x=\"1166.66\" y=\"-174.13\" font-family=\"Times,serif\" font-size=\"14.00\">0.15</text>\n</g>\n<!-- ((1, 0, 0), 0)&#45;&gt;((0, 0, 0), 0) -->\n<g id=\"edge15\" class=\"edge\">\n<title>((1, 0, 0), 0)&#45;&gt;((0, 0, 0), 0)</title>\n<path fill=\"none\" stroke=\"black\" d=\"M1159.29,-99.62C1172.23,-115.11 1187.46,-132.44 1201.7,-147.87\"/>\n<polygon fill=\"black\" stroke=\"black\" points=\"1199.22,-150.35 1208.6,-155.28 1204.35,-145.58 1199.22,-150.35\"/>\n<text text-anchor=\"middle\" x=\"1171.5\" y=\"-127.54\" font-family=\"Times,serif\" font-size=\"14.00\">0.5</text>\n</g>\n<!-- ((1, 0, 1), 0) -->\n<g id=\"node5\" class=\"node\">\n<title>((1, 0, 1), 0)</title>\n<ellipse fill=\"none\" stroke=\"black\" cx=\"956.12\" cy=\"-61.42\" rx=\"54.69\" ry=\"54.69\"/>\n<text text-anchor=\"middle\" x=\"956.12\" y=\"-57.72\" font-family=\"Times,serif\" font-size=\"14.00\">((1, 0, 1), 0)</text>\n</g>\n<!-- ((1, 0, 0), 0)&#45;&gt;((1, 0, 1), 0) -->\n<g id=\"edge14\" class=\"edge\">\n<title>((1, 0, 0), 0)&#45;&gt;((1, 0, 1), 0)</title>\n<path fill=\"none\" stroke=\"black\" d=\"M1073.19,-50.43C1056.34,-50.63 1037.63,-51.3 1020.2,-52.31\"/>\n<polygon fill=\"black\" stroke=\"black\" points=\"1019.87,-48.82 1010.11,-52.94 1020.31,-55.81 1019.87,-48.82\"/>\n<text text-anchor=\"middle\" x=\"1034.19\" y=\"-40.17\" font-family=\"Times,serif\" font-size=\"14.00\">0.15</text>\n</g>\n<!-- ((1, 1, 0), 0) -->\n<g id=\"node7\" class=\"node\">\n<title>((1, 1, 0), 0)</title>\n<ellipse fill=\"none\" stroke=\"black\" cx=\"981.54\" cy=\"-191.57\" rx=\"54.69\" ry=\"54.69\"/>\n<text text-anchor=\"middle\" x=\"981.54\" y=\"-187.87\" font-family=\"Times,serif\" font-size=\"14.00\">((1, 1, 0), 0)</text>\n</g>\n<!-- ((1, 0, 0), 0)&#45;&gt;((1, 1, 0), 0) -->\n<g id=\"edge13\" class=\"edge\">\n<title>((1, 0, 0), 0)&#45;&gt;((1, 1, 0), 0)</title>\n<path fill=\"none\" stroke=\"black\" d=\"M1083.63,-87.58C1064.88,-104.08 1043.13,-124.34 1024.51,-142.59\"/>\n<polygon fill=\"black\" stroke=\"black\" points=\"1021.93,-140.23 1017.28,-149.75 1026.85,-145.2 1021.93,-140.23\"/>\n<text text-anchor=\"middle\" x=\"1041.57\" y=\"-103.89\" font-family=\"Times,serif\" font-size=\"14.00\">0.25</text>\n</g>\n<!-- ((0, 1, 0), 0)&#45;&gt;((0, 0, 0), 0) -->\n<g id=\"edge9\" class=\"edge\">\n<title>((0, 1, 0), 0)&#45;&gt;((0, 0, 0), 0)</title>\n<path fill=\"none\" stroke=\"black\" d=\"M1168.13,-292.5C1182.03,-277.86 1197.47,-260.72 1211.15,-244.78\"/>\n<polygon fill=\"black\" stroke=\"black\" points=\"1213.9,-246.96 1217.71,-237.07 1208.57,-242.42 1213.9,-246.96\"/>\n<text text-anchor=\"middle\" x=\"1198.64\" y=\"-272.44\" font-family=\"Times,serif\" font-size=\"14.00\">0.5</text>\n</g>\n<!-- ((0, 1, 1), 0) -->\n<g id=\"node6\" class=\"node\">\n<title>((0, 1, 1), 0)</title>\n<ellipse fill=\"none\" stroke=\"black\" cx=\"955.75\" cy=\"-321.75\" rx=\"54.69\" ry=\"54.69\"/>\n<text text-anchor=\"middle\" x=\"955.75\" y=\"-318.05\" font-family=\"Times,serif\" font-size=\"14.00\">((0, 1, 1), 0)</text>\n</g>\n<!-- ((0, 1, 0), 0)&#45;&gt;((0, 1, 1), 0) -->\n<g id=\"edge8\" class=\"edge\">\n<title>((0, 1, 0), 0)&#45;&gt;((0, 1, 1), 0)</title>\n<path fill=\"none\" stroke=\"black\" d=\"M1073.13,-320.43C1056.44,-319.25 1037.87,-318.38 1020.52,-317.95\"/>\n<polygon fill=\"black\" stroke=\"black\" points=\"1020.53,-314.45 1010.46,-317.75 1020.39,-321.45 1020.53,-314.45\"/>\n<text text-anchor=\"middle\" x=\"1034.32\" y=\"-307.99\" font-family=\"Times,serif\" font-size=\"14.00\">0.15</text>\n</g>\n<!-- ((0, 1, 0), 0)&#45;&gt;((1, 1, 0), 0) -->\n<g id=\"edge7\" class=\"edge\">\n<title>((0, 1, 0), 0)&#45;&gt;((1, 1, 0), 0)</title>\n<path fill=\"none\" stroke=\"black\" d=\"M1091.49,-287.07C1073.82,-269.31 1052.18,-248.74 1032.78,-231.24\"/>\n<polygon fill=\"black\" stroke=\"black\" points=\"1034.97,-228.5 1025.18,-224.44 1030.3,-233.72 1034.97,-228.5\"/>\n<text text-anchor=\"middle\" x=\"1071.13\" y=\"-262.95\" font-family=\"Times,serif\" font-size=\"14.00\">0.6</text>\n</g>\n<!-- ((0, 0, 1), 0)&#45;&gt;((0, 0, 0), 0) -->\n<g id=\"edge6\" class=\"edge\">\n<title>((0, 0, 1), 0)&#45;&gt;((0, 0, 0), 0)</title>\n<path fill=\"none\" stroke=\"black\" d=\"M1153.17,-198.37C1163.52,-198.64 1174.46,-198.72 1185.09,-198.63\"/>\n<polygon fill=\"black\" stroke=\"black\" points=\"1185.22,-202.13 1195.17,-198.48 1185.12,-195.13 1185.22,-202.13\"/>\n<text text-anchor=\"middle\" x=\"1178.13\" y=\"-202.3\" font-family=\"Times,serif\" font-size=\"14.00\">0.5</text>\n</g>\n<!-- ((0, 0, 1), 0)&#45;&gt;((1, 0, 1), 0) -->\n<g id=\"edge4\" class=\"edge\">\n<title>((0, 0, 1), 0)&#45;&gt;((1, 0, 1), 0)</title>\n<path fill=\"none\" stroke=\"black\" d=\"M1062.77,-150.53C1046.17,-134.4 1026.16,-116.01 1007.98,-100.12\"/>\n<polygon fill=\"black\" stroke=\"black\" points=\"1010.16,-97.38 1000.31,-93.48 1005.58,-102.67 1010.16,-97.38\"/>\n<text text-anchor=\"middle\" x=\"1026.37\" y=\"-114.13\" font-family=\"Times,serif\" font-size=\"14.00\">0.6</text>\n</g>\n<!-- ((0, 0, 1), 0)&#45;&gt;((0, 1, 1), 0) -->\n<g id=\"edge5\" class=\"edge\">\n<title>((0, 0, 1), 0)&#45;&gt;((0, 1, 1), 0)</title>\n<path fill=\"none\" stroke=\"black\" d=\"M1054.39,-223.74C1036.86,-238.72 1016.78,-256.86 999.33,-273.45\"/>\n<polygon fill=\"black\" stroke=\"black\" points=\"996.82,-271.01 992.02,-280.46 1001.66,-276.06 996.82,-271.01\"/>\n<text text-anchor=\"middle\" x=\"1014.36\" y=\"-252.39\" font-family=\"Times,serif\" font-size=\"14.00\">0.25</text>\n</g>\n<!-- ((1, 0, 1), 0)&#45;&gt;((1, 0, 0), 0) -->\n<g id=\"edge18\" class=\"edge\">\n<title>((1, 0, 1), 0)&#45;&gt;((1, 0, 0), 0)</title>\n<path fill=\"none\" stroke=\"black\" d=\"M1010.67,-65.58C1027.52,-65.38 1046.23,-64.72 1063.66,-63.71\"/>\n<polygon fill=\"black\" stroke=\"black\" points=\"1063.99,-67.19 1073.75,-63.07 1063.55,-60.21 1063.99,-67.19\"/>\n<text text-anchor=\"middle\" x=\"1028.16\" y=\"-68.44\" font-family=\"Times,serif\" font-size=\"14.00\">0.5</text>\n</g>\n<!-- ((1, 0, 1), 0)&#45;&gt;((0, 0, 1), 0) -->\n<g id=\"edge17\" class=\"edge\">\n<title>((1, 0, 1), 0)&#45;&gt;((0, 0, 1), 0)</title>\n<path fill=\"none\" stroke=\"black\" d=\"M992.08,-102.59C1008.69,-118.72 1028.69,-137.12 1046.88,-153.01\"/>\n<polygon fill=\"black\" stroke=\"black\" points=\"1044.69,-155.75 1054.54,-159.65 1049.28,-150.45 1044.69,-155.75\"/>\n<text text-anchor=\"middle\" x=\"1010.48\" y=\"-116.6\" font-family=\"Times,serif\" font-size=\"14.00\">0.5</text>\n</g>\n<!-- ((1, 1, 1), 0) -->\n<g id=\"node8\" class=\"node\">\n<title>((1, 1, 1), 0)</title>\n<ellipse fill=\"none\" stroke=\"black\" cx=\"778.56\" cy=\"-191.49\" rx=\"54.69\" ry=\"54.69\"/>\n<text text-anchor=\"middle\" x=\"778.56\" y=\"-187.79\" font-family=\"Times,serif\" font-size=\"14.00\">((1, 1, 1), 0)</text>\n</g>\n<!-- ((1, 0, 1), 0)&#45;&gt;((1, 1, 1), 0) -->\n<g id=\"edge16\" class=\"edge\">\n<title>((1, 0, 1), 0)&#45;&gt;((1, 1, 1), 0)</title>\n<path fill=\"none\" stroke=\"black\" d=\"M908.73,-88.8C883.49,-106.05 852.52,-128.61 827.1,-148.23\"/>\n<polygon fill=\"black\" stroke=\"black\" points=\"824.81,-145.58 819.06,-154.48 829.11,-151.11 824.81,-145.58\"/>\n<text text-anchor=\"middle\" x=\"855.42\" y=\"-122.31\" font-family=\"Times,serif\" font-size=\"14.00\">0.25</text>\n</g>\n<!-- ((0, 1, 1), 0)&#45;&gt;((0, 1, 0), 0) -->\n<g id=\"edge12\" class=\"edge\">\n<title>((0, 1, 1), 0)&#45;&gt;((0, 1, 0), 0)</title>\n<path fill=\"none\" stroke=\"black\" d=\"M1009.69,-330.39C1026.38,-331.57 1044.95,-332.44 1062.3,-332.87\"/>\n<polygon fill=\"black\" stroke=\"black\" points=\"1062.29,-336.37 1072.36,-333.07 1062.43,-329.37 1062.29,-336.37\"/>\n<text text-anchor=\"middle\" x=\"1027\" y=\"-335.43\" font-family=\"Times,serif\" font-size=\"14.00\">0.5</text>\n</g>\n<!-- ((0, 1, 1), 0)&#45;&gt;((0, 0, 1), 0) -->\n<g id=\"edge11\" class=\"edge\">\n<title>((0, 1, 1), 0)&#45;&gt;((0, 0, 1), 0)</title>\n<path fill=\"none\" stroke=\"black\" d=\"M1000.09,-289.72C1017.63,-274.73 1037.7,-256.6 1055.16,-240\"/>\n<polygon fill=\"black\" stroke=\"black\" points=\"1057.67,-242.45 1062.47,-233 1052.83,-237.39 1057.67,-242.45\"/>\n<text text-anchor=\"middle\" x=\"1036.63\" y=\"-268.66\" font-family=\"Times,serif\" font-size=\"14.00\">0.5</text>\n</g>\n<!-- ((0, 1, 1), 0)&#45;&gt;((1, 1, 1), 0) -->\n<g id=\"edge10\" class=\"edge\">\n<title>((0, 1, 1), 0)&#45;&gt;((1, 1, 1), 0)</title>\n<path fill=\"none\" stroke=\"black\" d=\"M915.46,-284.79C891.45,-265.89 860.66,-243.14 834.35,-224.79\"/>\n<polygon fill=\"black\" stroke=\"black\" points=\"836.19,-221.81 825.98,-219 832.21,-227.57 836.19,-221.81\"/>\n<text text-anchor=\"middle\" x=\"865.9\" y=\"-243.59\" font-family=\"Times,serif\" font-size=\"14.00\">0.6</text>\n</g>\n<!-- ((1, 1, 0), 0)&#45;&gt;((1, 0, 0), 0) -->\n<g id=\"edge21\" class=\"edge\">\n<title>((1, 1, 0), 0)&#45;&gt;((1, 0, 0), 0)</title>\n<path fill=\"none\" stroke=\"black\" d=\"M1025.66,-158.59C1044.4,-142.09 1066.15,-121.83 1084.77,-103.57\"/>\n<polygon fill=\"black\" stroke=\"black\" points=\"1087.35,-105.94 1092,-96.42 1082.43,-100.97 1087.35,-105.94\"/>\n<text text-anchor=\"middle\" x=\"1046.21\" y=\"-119.88\" font-family=\"Times,serif\" font-size=\"14.00\">0.5</text>\n</g>\n<!-- ((1, 1, 0), 0)&#45;&gt;((0, 1, 0), 0) -->\n<g id=\"edge20\" class=\"edge\">\n<title>((1, 1, 0), 0)&#45;&gt;((0, 1, 0), 0)</title>\n<path fill=\"none\" stroke=\"black\" d=\"M1017.13,-233.57C1034.79,-251.34 1056.43,-271.9 1075.83,-289.4\"/>\n<polygon fill=\"black\" stroke=\"black\" points=\"1073.64,-292.14 1083.43,-296.2 1078.31,-286.92 1073.64,-292.14\"/>\n<text text-anchor=\"middle\" x=\"1037.48\" y=\"-250.29\" font-family=\"Times,serif\" font-size=\"14.00\">0.5</text>\n</g>\n<!-- ((1, 1, 0), 0)&#45;&gt;((1, 1, 1), 0) -->\n<g id=\"edge19\" class=\"edge\">\n<title>((1, 1, 0), 0)&#45;&gt;((1, 1, 1), 0)</title>\n<path fill=\"none\" stroke=\"black\" d=\"M927.15,-185.49C901.33,-184.67 870.27,-184.56 843.25,-185.18\"/>\n<polygon fill=\"black\" stroke=\"black\" points=\"843.01,-181.68 833.11,-185.45 843.2,-188.68 843.01,-181.68\"/>\n<text text-anchor=\"middle\" x=\"872.7\" y=\"-174.14\" font-family=\"Times,serif\" font-size=\"14.00\">0.15</text>\n</g>\n<!-- ((1, 1, 1), 0)&#45;&gt;((1, 0, 1), 0) -->\n<g id=\"edge24\" class=\"edge\">\n<title>((1, 1, 1), 0)&#45;&gt;((1, 0, 1), 0)</title>\n<path fill=\"none\" stroke=\"black\" d=\"M825.95,-164.11C851.19,-146.86 882.16,-124.29 907.57,-104.68\"/>\n<polygon fill=\"black\" stroke=\"black\" points=\"909.87,-107.33 915.62,-98.43 905.57,-101.8 909.87,-107.33\"/>\n<text text-anchor=\"middle\" x=\"857.76\" y=\"-138.2\" font-family=\"Times,serif\" font-size=\"14.00\">0.5</text>\n</g>\n<!-- ((1, 1, 1), 0)&#45;&gt;((0, 1, 1), 0) -->\n<g id=\"edge23\" class=\"edge\">\n<title>((1, 1, 1), 0)&#45;&gt;((0, 1, 1), 0)</title>\n<path fill=\"none\" stroke=\"black\" d=\"M818.86,-228.46C842.86,-247.35 873.65,-270.11 899.96,-288.45\"/>\n<polygon fill=\"black\" stroke=\"black\" points=\"898.12,-291.43 908.33,-294.24 902.1,-285.67 898.12,-291.43\"/>\n<text text-anchor=\"middle\" x=\"850.41\" y=\"-262.25\" font-family=\"Times,serif\" font-size=\"14.00\">0.5</text>\n</g>\n<!-- ((1, 1, 1), 0)&#45;&gt;((1, 1, 0), 0) -->\n<g id=\"edge25\" class=\"edge\">\n<title>((1, 1, 1), 0)&#45;&gt;((1, 1, 0), 0)</title>\n<path fill=\"none\" stroke=\"black\" d=\"M832.95,-197.57C858.78,-198.4 889.83,-198.51 916.85,-197.89\"/>\n<polygon fill=\"black\" stroke=\"black\" points=\"917.09,-201.38 927,-197.61 916.91,-194.38 917.09,-201.38\"/>\n<text text-anchor=\"middle\" x=\"865.9\" y=\"-201.53\" font-family=\"Times,serif\" font-size=\"14.00\">0.5</text>\n</g>\n<!-- ((1, 1, 1), 1) -->\n<g id=\"node9\" class=\"node\">\n<title>((1, 1, 1), 1)</title>\n<ellipse fill=\"none\" stroke=\"black\" cx=\"492.76\" cy=\"-191.58\" rx=\"54.69\" ry=\"54.69\"/>\n<text text-anchor=\"middle\" x=\"492.76\" y=\"-187.88\" font-family=\"Times,serif\" font-size=\"14.00\">((1, 1, 1), 1)</text>\n</g>\n<!-- ((1, 1, 1), 0)&#45;&gt;((1, 1, 1), 1) -->\n<g id=\"edge22\" class=\"edge\">\n<title>((1, 1, 1), 0)&#45;&gt;((1, 1, 1), 1)</title>\n<path fill=\"none\" stroke=\"black\" d=\"M724.13,-186.07C676.7,-184.45 607.85,-184.36 557.58,-185.8\"/>\n<polygon fill=\"black\" stroke=\"black\" points=\"557.36,-182.31 547.47,-186.12 557.58,-189.3 557.36,-182.31\"/>\n<text text-anchor=\"middle\" x=\"631.86\" y=\"-174.74\" font-family=\"Times,serif\" font-size=\"14.00\">1.0</text>\n</g>\n<!-- ((1, 1, 1), 1)&#45;&gt;((1, 1, 1), 0) -->\n<g id=\"edge27\" class=\"edge\">\n<title>((1, 1, 1), 1)&#45;&gt;((1, 1, 1), 0)</title>\n<path fill=\"none\" stroke=\"black\" d=\"M547.19,-197C594.62,-198.62 663.48,-198.71 713.74,-197.27\"/>\n<polygon fill=\"black\" stroke=\"black\" points=\"713.96,-200.77 723.85,-196.95 713.74,-193.77 713.96,-200.77\"/>\n<text text-anchor=\"middle\" x=\"621.47\" y=\"-200.94\" font-family=\"Times,serif\" font-size=\"14.00\">0.5</text>\n</g>\n<!-- ((1, 1, 1), 2) -->\n<g id=\"node10\" class=\"node\">\n<title>((1, 1, 1), 2)</title>\n<ellipse fill=\"none\" stroke=\"black\" cx=\"248.25\" cy=\"-191.71\" rx=\"54.69\" ry=\"54.69\"/>\n<text text-anchor=\"middle\" x=\"248.25\" y=\"-188.01\" font-family=\"Times,serif\" font-size=\"14.00\">((1, 1, 1), 2)</text>\n</g>\n<!-- ((1, 1, 1), 1)&#45;&gt;((1, 1, 1), 2) -->\n<g id=\"edge26\" class=\"edge\">\n<title>((1, 1, 1), 1)&#45;&gt;((1, 1, 1), 2)</title>\n<path fill=\"none\" stroke=\"black\" d=\"M438.19,-185.88C401.11,-184.65 351.9,-184.58 312.86,-185.64\"/>\n<polygon fill=\"black\" stroke=\"black\" points=\"312.54,-182.15 302.65,-185.96 312.75,-189.15 312.54,-182.15\"/>\n<text text-anchor=\"middle\" x=\"366.52\" y=\"-174.56\" font-family=\"Times,serif\" font-size=\"14.00\">1.0</text>\n</g>\n<!-- ((1, 1, 1), 2)&#45;&gt;((1, 1, 1), 1) -->\n<g id=\"edge29\" class=\"edge\">\n<title>((1, 1, 1), 2)&#45;&gt;((1, 1, 1), 1)</title>\n<path fill=\"none\" stroke=\"black\" d=\"M302.82,-197.41C339.91,-198.64 389.12,-198.72 428.16,-197.65\"/>\n<polygon fill=\"black\" stroke=\"black\" points=\"428.48,-201.14 438.36,-197.33 428.26,-194.14 428.48,-201.14\"/>\n<text text-anchor=\"middle\" x=\"356.49\" y=\"-201.33\" font-family=\"Times,serif\" font-size=\"14.00\">0.5</text>\n</g>\n<!-- ((1, 1, 1), 3) -->\n<g id=\"node11\" class=\"node\">\n<title>((1, 1, 1), 3)</title>\n<ellipse fill=\"none\" stroke=\"black\" cx=\"54.6\" cy=\"-191.84\" rx=\"54.69\" ry=\"54.69\"/>\n<text text-anchor=\"middle\" x=\"54.6\" y=\"-188.14\" font-family=\"Times,serif\" font-size=\"14.00\">((1, 1, 1), 3)</text>\n</g>\n<!-- ((1, 1, 1), 2)&#45;&gt;((1, 1, 1), 3) -->\n<g id=\"edge28\" class=\"edge\">\n<title>((1, 1, 1), 2)&#45;&gt;((1, 1, 1), 3)</title>\n<path fill=\"none\" stroke=\"black\" d=\"M193.79,-185.61C170.59,-184.91 143.35,-184.84 119.14,-185.4\"/>\n<polygon fill=\"black\" stroke=\"black\" points=\"118.88,-181.9 108.98,-185.67 119.07,-188.9 118.88,-181.9\"/>\n<text text-anchor=\"middle\" x=\"147.47\" y=\"-174.3\" font-family=\"Times,serif\" font-size=\"14.00\">1.0</text>\n</g>\n<!-- ((1, 1, 1), 3)&#45;&gt;((1, 1, 1), 2) -->\n<g id=\"edge30\" class=\"edge\">\n<title>((1, 1, 1), 3)&#45;&gt;((1, 1, 1), 2)</title>\n<path fill=\"none\" stroke=\"black\" d=\"M109.06,-197.95C132.26,-198.64 159.5,-198.71 183.7,-198.16\"/>\n<polygon fill=\"black\" stroke=\"black\" points=\"183.97,-201.66 193.87,-197.89 183.78,-194.66 183.97,-201.66\"/>\n<text text-anchor=\"middle\" x=\"137.38\" y=\"-201.85\" font-family=\"Times,serif\" font-size=\"14.00\">0.5</text>\n</g>\n</g>\n</svg>\n",
            "text/plain": [
              "<graphviz.graphs.Digraph at 0x7c71c8af9840>"
            ]
          },
          "metadata": {}
        }
      ],
      "source": [
        "def make_state_graph(states):\n",
        "    g = Digraph(engine='sfdp')\n",
        "    g.attr(overlap='scalexy')\n",
        "\n",
        "    for in_state, out_states in states.items():\n",
        "        for out_state, prob in out_states.items():\n",
        "            in_id = str(in_state)\n",
        "            out_id = str(out_state)\n",
        "\n",
        "            if prob - 0.001 > 0:\n",
        "              id = str(in_state)\n",
        "              g.node(id, id, shape='circle')\n",
        "              g.edge(in_id, out_id, f'{1.*prob:.3}')\n",
        "    return g\n",
        "\n",
        "display(make_state_graph(transitions))"
      ]
    },
    {
      "cell_type": "code",
      "execution_count": null,
      "id": "19260a92-43cf-4575-9f7c-fcea3ec582ca",
      "metadata": {
        "id": "19260a92-43cf-4575-9f7c-fcea3ec582ca",
        "colab": {
          "base_uri": "https://localhost:8080/",
          "height": 817
        },
        "outputId": "912a5e9a-2114-4dc9-9341-369d9f104a3f"
      },
      "outputs": [
        {
          "output_type": "display_data",
          "data": {
            "text/html": [
              "<html>\n",
              "<head><meta charset=\"utf-8\" /></head>\n",
              "<body>\n",
              "    <div>            <script src=\"https://cdnjs.cloudflare.com/ajax/libs/mathjax/2.7.5/MathJax.js?config=TeX-AMS-MML_SVG\"></script><script type=\"text/javascript\">if (window.MathJax && window.MathJax.Hub && window.MathJax.Hub.Config) {window.MathJax.Hub.Config({SVG: {font: \"STIX-Web\"}});}</script>                <script type=\"text/javascript\">window.PlotlyConfig = {MathJaxConfig: 'local'};</script>\n",
              "        <script charset=\"utf-8\" src=\"https://cdn.plot.ly/plotly-2.35.2.min.js\"></script>                <div id=\"5a9bde92-2d92-4ded-9e0f-71b31022bed5\" class=\"plotly-graph-div\" style=\"height:800px; width:100%;\"></div>            <script type=\"text/javascript\">                                    window.PLOTLYENV=window.PLOTLYENV || {};                                    if (document.getElementById(\"5a9bde92-2d92-4ded-9e0f-71b31022bed5\")) {                    Plotly.newPlot(                        \"5a9bde92-2d92-4ded-9e0f-71b31022bed5\",                        [{\"coloraxis\":\"coloraxis\",\"name\":\"0\",\"texttemplate\":\"%{z}\",\"z\":[[-1.0,0.15,0.25,0.0,0.6,0.0,0.0,0.0,0.0,0.0,0.0],[0.5,-1.35,0.0,0.25,0.0,0.6,0.0,0.0,0.0,0.0,0.0],[0.5,0.0,-1.25,0.15,0.0,0.0,0.6,0.0,0.0,0.0,0.0],[0.0,0.5,0.5,-1.6,0.0,0.0,0.0,0.6,0.0,0.0,0.0],[0.5,0.0,0.0,0.0,-0.9,0.15,0.25,0.0,0.0,0.0,0.0],[0.0,0.5,0.0,0.0,0.5,-1.25,0.0,0.25,0.0,0.0,0.0],[0.0,0.0,0.5,0.0,0.5,0.0,-1.15,0.15,0.0,0.0,0.0],[0.0,0.0,0.0,0.5,0.0,0.5,0.5,-2.5,1.0,0.0,0.0],[0.0,0.0,0.0,0.0,0.0,0.0,0.0,0.5,-1.5,1.0,0.0],[0.0,0.0,0.0,0.0,0.0,0.0,0.0,0.0,0.5,-1.5,1.0],[0.0,0.0,0.0,0.0,0.0,0.0,0.0,0.0,0.0,0.5,-0.5]],\"type\":\"heatmap\",\"xaxis\":\"x\",\"yaxis\":\"y\",\"hovertemplate\":\"x: %{x}\\u003cbr\\u003ey: %{y}\\u003cbr\\u003ecolor: %{z}\\u003cextra\\u003e\\u003c\\u002fextra\\u003e\"}],                        {\"template\":{\"data\":{\"histogram2dcontour\":[{\"type\":\"histogram2dcontour\",\"colorbar\":{\"outlinewidth\":0,\"ticks\":\"\"},\"colorscale\":[[0.0,\"#0d0887\"],[0.1111111111111111,\"#46039f\"],[0.2222222222222222,\"#7201a8\"],[0.3333333333333333,\"#9c179e\"],[0.4444444444444444,\"#bd3786\"],[0.5555555555555556,\"#d8576b\"],[0.6666666666666666,\"#ed7953\"],[0.7777777777777778,\"#fb9f3a\"],[0.8888888888888888,\"#fdca26\"],[1.0,\"#f0f921\"]]}],\"choropleth\":[{\"type\":\"choropleth\",\"colorbar\":{\"outlinewidth\":0,\"ticks\":\"\"}}],\"histogram2d\":[{\"type\":\"histogram2d\",\"colorbar\":{\"outlinewidth\":0,\"ticks\":\"\"},\"colorscale\":[[0.0,\"#0d0887\"],[0.1111111111111111,\"#46039f\"],[0.2222222222222222,\"#7201a8\"],[0.3333333333333333,\"#9c179e\"],[0.4444444444444444,\"#bd3786\"],[0.5555555555555556,\"#d8576b\"],[0.6666666666666666,\"#ed7953\"],[0.7777777777777778,\"#fb9f3a\"],[0.8888888888888888,\"#fdca26\"],[1.0,\"#f0f921\"]]}],\"heatmap\":[{\"type\":\"heatmap\",\"colorbar\":{\"outlinewidth\":0,\"ticks\":\"\"},\"colorscale\":[[0.0,\"#0d0887\"],[0.1111111111111111,\"#46039f\"],[0.2222222222222222,\"#7201a8\"],[0.3333333333333333,\"#9c179e\"],[0.4444444444444444,\"#bd3786\"],[0.5555555555555556,\"#d8576b\"],[0.6666666666666666,\"#ed7953\"],[0.7777777777777778,\"#fb9f3a\"],[0.8888888888888888,\"#fdca26\"],[1.0,\"#f0f921\"]]}],\"heatmapgl\":[{\"type\":\"heatmapgl\",\"colorbar\":{\"outlinewidth\":0,\"ticks\":\"\"},\"colorscale\":[[0.0,\"#0d0887\"],[0.1111111111111111,\"#46039f\"],[0.2222222222222222,\"#7201a8\"],[0.3333333333333333,\"#9c179e\"],[0.4444444444444444,\"#bd3786\"],[0.5555555555555556,\"#d8576b\"],[0.6666666666666666,\"#ed7953\"],[0.7777777777777778,\"#fb9f3a\"],[0.8888888888888888,\"#fdca26\"],[1.0,\"#f0f921\"]]}],\"contourcarpet\":[{\"type\":\"contourcarpet\",\"colorbar\":{\"outlinewidth\":0,\"ticks\":\"\"}}],\"contour\":[{\"type\":\"contour\",\"colorbar\":{\"outlinewidth\":0,\"ticks\":\"\"},\"colorscale\":[[0.0,\"#0d0887\"],[0.1111111111111111,\"#46039f\"],[0.2222222222222222,\"#7201a8\"],[0.3333333333333333,\"#9c179e\"],[0.4444444444444444,\"#bd3786\"],[0.5555555555555556,\"#d8576b\"],[0.6666666666666666,\"#ed7953\"],[0.7777777777777778,\"#fb9f3a\"],[0.8888888888888888,\"#fdca26\"],[1.0,\"#f0f921\"]]}],\"surface\":[{\"type\":\"surface\",\"colorbar\":{\"outlinewidth\":0,\"ticks\":\"\"},\"colorscale\":[[0.0,\"#0d0887\"],[0.1111111111111111,\"#46039f\"],[0.2222222222222222,\"#7201a8\"],[0.3333333333333333,\"#9c179e\"],[0.4444444444444444,\"#bd3786\"],[0.5555555555555556,\"#d8576b\"],[0.6666666666666666,\"#ed7953\"],[0.7777777777777778,\"#fb9f3a\"],[0.8888888888888888,\"#fdca26\"],[1.0,\"#f0f921\"]]}],\"mesh3d\":[{\"type\":\"mesh3d\",\"colorbar\":{\"outlinewidth\":0,\"ticks\":\"\"}}],\"scatter\":[{\"fillpattern\":{\"fillmode\":\"overlay\",\"size\":10,\"solidity\":0.2},\"type\":\"scatter\"}],\"parcoords\":[{\"type\":\"parcoords\",\"line\":{\"colorbar\":{\"outlinewidth\":0,\"ticks\":\"\"}}}],\"scatterpolargl\":[{\"type\":\"scatterpolargl\",\"marker\":{\"colorbar\":{\"outlinewidth\":0,\"ticks\":\"\"}}}],\"bar\":[{\"error_x\":{\"color\":\"#2a3f5f\"},\"error_y\":{\"color\":\"#2a3f5f\"},\"marker\":{\"line\":{\"color\":\"#E5ECF6\",\"width\":0.5},\"pattern\":{\"fillmode\":\"overlay\",\"size\":10,\"solidity\":0.2}},\"type\":\"bar\"}],\"scattergeo\":[{\"type\":\"scattergeo\",\"marker\":{\"colorbar\":{\"outlinewidth\":0,\"ticks\":\"\"}}}],\"scatterpolar\":[{\"type\":\"scatterpolar\",\"marker\":{\"colorbar\":{\"outlinewidth\":0,\"ticks\":\"\"}}}],\"histogram\":[{\"marker\":{\"pattern\":{\"fillmode\":\"overlay\",\"size\":10,\"solidity\":0.2}},\"type\":\"histogram\"}],\"scattergl\":[{\"type\":\"scattergl\",\"marker\":{\"colorbar\":{\"outlinewidth\":0,\"ticks\":\"\"}}}],\"scatter3d\":[{\"type\":\"scatter3d\",\"line\":{\"colorbar\":{\"outlinewidth\":0,\"ticks\":\"\"}},\"marker\":{\"colorbar\":{\"outlinewidth\":0,\"ticks\":\"\"}}}],\"scattermapbox\":[{\"type\":\"scattermapbox\",\"marker\":{\"colorbar\":{\"outlinewidth\":0,\"ticks\":\"\"}}}],\"scatterternary\":[{\"type\":\"scatterternary\",\"marker\":{\"colorbar\":{\"outlinewidth\":0,\"ticks\":\"\"}}}],\"scattercarpet\":[{\"type\":\"scattercarpet\",\"marker\":{\"colorbar\":{\"outlinewidth\":0,\"ticks\":\"\"}}}],\"carpet\":[{\"aaxis\":{\"endlinecolor\":\"#2a3f5f\",\"gridcolor\":\"white\",\"linecolor\":\"white\",\"minorgridcolor\":\"white\",\"startlinecolor\":\"#2a3f5f\"},\"baxis\":{\"endlinecolor\":\"#2a3f5f\",\"gridcolor\":\"white\",\"linecolor\":\"white\",\"minorgridcolor\":\"white\",\"startlinecolor\":\"#2a3f5f\"},\"type\":\"carpet\"}],\"table\":[{\"cells\":{\"fill\":{\"color\":\"#EBF0F8\"},\"line\":{\"color\":\"white\"}},\"header\":{\"fill\":{\"color\":\"#C8D4E3\"},\"line\":{\"color\":\"white\"}},\"type\":\"table\"}],\"barpolar\":[{\"marker\":{\"line\":{\"color\":\"#E5ECF6\",\"width\":0.5},\"pattern\":{\"fillmode\":\"overlay\",\"size\":10,\"solidity\":0.2}},\"type\":\"barpolar\"}],\"pie\":[{\"automargin\":true,\"type\":\"pie\"}]},\"layout\":{\"autotypenumbers\":\"strict\",\"colorway\":[\"#636efa\",\"#EF553B\",\"#00cc96\",\"#ab63fa\",\"#FFA15A\",\"#19d3f3\",\"#FF6692\",\"#B6E880\",\"#FF97FF\",\"#FECB52\"],\"font\":{\"color\":\"#2a3f5f\"},\"hovermode\":\"closest\",\"hoverlabel\":{\"align\":\"left\"},\"paper_bgcolor\":\"white\",\"plot_bgcolor\":\"#E5ECF6\",\"polar\":{\"bgcolor\":\"#E5ECF6\",\"angularaxis\":{\"gridcolor\":\"white\",\"linecolor\":\"white\",\"ticks\":\"\"},\"radialaxis\":{\"gridcolor\":\"white\",\"linecolor\":\"white\",\"ticks\":\"\"}},\"ternary\":{\"bgcolor\":\"#E5ECF6\",\"aaxis\":{\"gridcolor\":\"white\",\"linecolor\":\"white\",\"ticks\":\"\"},\"baxis\":{\"gridcolor\":\"white\",\"linecolor\":\"white\",\"ticks\":\"\"},\"caxis\":{\"gridcolor\":\"white\",\"linecolor\":\"white\",\"ticks\":\"\"}},\"coloraxis\":{\"colorbar\":{\"outlinewidth\":0,\"ticks\":\"\"}},\"colorscale\":{\"sequential\":[[0.0,\"#0d0887\"],[0.1111111111111111,\"#46039f\"],[0.2222222222222222,\"#7201a8\"],[0.3333333333333333,\"#9c179e\"],[0.4444444444444444,\"#bd3786\"],[0.5555555555555556,\"#d8576b\"],[0.6666666666666666,\"#ed7953\"],[0.7777777777777778,\"#fb9f3a\"],[0.8888888888888888,\"#fdca26\"],[1.0,\"#f0f921\"]],\"sequentialminus\":[[0.0,\"#0d0887\"],[0.1111111111111111,\"#46039f\"],[0.2222222222222222,\"#7201a8\"],[0.3333333333333333,\"#9c179e\"],[0.4444444444444444,\"#bd3786\"],[0.5555555555555556,\"#d8576b\"],[0.6666666666666666,\"#ed7953\"],[0.7777777777777778,\"#fb9f3a\"],[0.8888888888888888,\"#fdca26\"],[1.0,\"#f0f921\"]],\"diverging\":[[0,\"#8e0152\"],[0.1,\"#c51b7d\"],[0.2,\"#de77ae\"],[0.3,\"#f1b6da\"],[0.4,\"#fde0ef\"],[0.5,\"#f7f7f7\"],[0.6,\"#e6f5d0\"],[0.7,\"#b8e186\"],[0.8,\"#7fbc41\"],[0.9,\"#4d9221\"],[1,\"#276419\"]]},\"xaxis\":{\"gridcolor\":\"white\",\"linecolor\":\"white\",\"ticks\":\"\",\"title\":{\"standoff\":15},\"zerolinecolor\":\"white\",\"automargin\":true,\"zerolinewidth\":2},\"yaxis\":{\"gridcolor\":\"white\",\"linecolor\":\"white\",\"ticks\":\"\",\"title\":{\"standoff\":15},\"zerolinecolor\":\"white\",\"automargin\":true,\"zerolinewidth\":2},\"scene\":{\"xaxis\":{\"backgroundcolor\":\"#E5ECF6\",\"gridcolor\":\"white\",\"linecolor\":\"white\",\"showbackground\":true,\"ticks\":\"\",\"zerolinecolor\":\"white\",\"gridwidth\":2},\"yaxis\":{\"backgroundcolor\":\"#E5ECF6\",\"gridcolor\":\"white\",\"linecolor\":\"white\",\"showbackground\":true,\"ticks\":\"\",\"zerolinecolor\":\"white\",\"gridwidth\":2},\"zaxis\":{\"backgroundcolor\":\"#E5ECF6\",\"gridcolor\":\"white\",\"linecolor\":\"white\",\"showbackground\":true,\"ticks\":\"\",\"zerolinecolor\":\"white\",\"gridwidth\":2}},\"shapedefaults\":{\"line\":{\"color\":\"#2a3f5f\"}},\"annotationdefaults\":{\"arrowcolor\":\"#2a3f5f\",\"arrowhead\":0,\"arrowwidth\":1},\"geo\":{\"bgcolor\":\"white\",\"landcolor\":\"#E5ECF6\",\"subunitcolor\":\"white\",\"showland\":true,\"showlakes\":true,\"lakecolor\":\"white\"},\"title\":{\"x\":0.05},\"mapbox\":{\"style\":\"light\"}}},\"xaxis\":{\"anchor\":\"y\",\"domain\":[0.0,1.0],\"scaleanchor\":\"y\",\"constrain\":\"domain\",\"title\":{\"text\":\"Next State\"}},\"yaxis\":{\"anchor\":\"x\",\"domain\":[0.0,1.0],\"autorange\":\"reversed\",\"constrain\":\"domain\",\"title\":{\"text\":\"Current State\"}},\"coloraxis\":{\"colorscale\":[[0,\"red\"],[0.5,\"#f8f8f8\"],[1,\"green\"]],\"cmid\":0.0},\"margin\":{\"t\":60},\"height\":800,\"title\":{\"text\":\"Filtered Transition Rate Matrix\"}},                        {\"responsive\": true}                    ).then(function(){\n",
              "                            \n",
              "var gd = document.getElementById('5a9bde92-2d92-4ded-9e0f-71b31022bed5');\n",
              "var x = new MutationObserver(function (mutations, observer) {{\n",
              "        var display = window.getComputedStyle(gd).display;\n",
              "        if (!display || display === 'none') {{\n",
              "            console.log([gd, 'removed!']);\n",
              "            Plotly.purge(gd);\n",
              "            observer.disconnect();\n",
              "        }}\n",
              "}});\n",
              "\n",
              "// Listen for the removal of the full notebook cells\n",
              "var notebookContainer = gd.closest('#notebook-container');\n",
              "if (notebookContainer) {{\n",
              "    x.observe(notebookContainer, {childList: true});\n",
              "}}\n",
              "\n",
              "// Listen for the clearing of the current output cell\n",
              "var outputEl = gd.closest('.output');\n",
              "if (outputEl) {{\n",
              "    x.observe(outputEl, {childList: true});\n",
              "}}\n",
              "\n",
              "                        })                };                            </script>        </div>\n",
              "</body>\n",
              "</html>"
            ]
          },
          "metadata": {}
        }
      ],
      "source": [
        "def make_state_indices(states):\n",
        "    idx = {}\n",
        "    for i, state in enumerate(states):\n",
        "        idx[state] = i\n",
        "        idx[i] = state\n",
        "    return idx\n",
        "\n",
        "def make_transition_rate_matrix(states, state_idx):\n",
        "    N = len(states)\n",
        "    m = np.zeros((N, N))\n",
        "    for in_state, out_states in states.items():\n",
        "        in_idx = state_idx[in_state]\n",
        "        for out_state, rate in out_states.items():\n",
        "            out_idx = state_idx[out_state]\n",
        "            m[in_idx, out_idx] = rate\n",
        "    for i in range(N):\n",
        "        m[i, i] = -sum(m[i, :])\n",
        "    return m\n",
        "\n",
        "state_idx = make_state_indices(transitions)\n",
        "transition_rate_matrix = make_transition_rate_matrix(transitions, state_idx)\n",
        "\n",
        "fig = px.imshow(\n",
        "    transition_rate_matrix,\n",
        "    text_auto = True,\n",
        "    height = 800,\n",
        "    color_continuous_scale = [[0, 'red'], [0.5, '#f8f8f8'], [1, 'green']],\n",
        "    color_continuous_midpoint = 0.0,\n",
        ")\n",
        "fig.update_layout(\n",
        "    title='Filtered Transition Rate Matrix',\n",
        "    xaxis_title='Next State',\n",
        "    yaxis_title='Current State',\n",
        ")\n",
        "fig.show()"
      ]
    },
    {
      "cell_type": "code",
      "execution_count": null,
      "id": "6890ab04-0c83-47f2-ba18-753a07285163",
      "metadata": {
        "id": "6890ab04-0c83-47f2-ba18-753a07285163",
        "colab": {
          "base_uri": "https://localhost:8080/"
        },
        "outputId": "9c915e9a-faef-4570-8d49-0b2eb19a4a7d"
      },
      "outputs": [
        {
          "output_type": "stream",
          "name": "stdout",
          "text": [
            "0\t(0, 0, 0, 0)\t0.1468\n",
            "1\t(0, 0, 1, 0)\t0.04405\n",
            "2\t(0, 1, 0, 0)\t0.07342\n",
            "3\t(0, 1, 1, 0)\t0.02203\n",
            "4\t(1, 0, 0, 0)\t0.1762\n",
            "5\t(1, 0, 1, 0)\t0.05286\n",
            "6\t(1, 1, 0, 0)\t0.08811\n",
            "7\t(1, 1, 1, 0)\t0.02643\n",
            "8\t(1, 1, 1, 1)\t0.05286\n",
            "9\t(1, 1, 1, 2)\t0.1057\n",
            "10\t(1, 1, 1, 3)\t0.2115\n"
          ]
        }
      ],
      "source": [
        "def solve_states(transition_rate_matrix):\n",
        "    shape = transition_rate_matrix.shape\n",
        "    assert len(shape) == 2\n",
        "    assert shape[0] == shape[1]\n",
        "    N = shape[0]\n",
        "\n",
        "    equations = transition_rate_matrix.copy().transpose()\n",
        "    equations[0, :] = np.ones(N)\n",
        "    bvector = np.zeros(N)\n",
        "    bvector[0] = 1\n",
        "    return np.linalg.solve(equations, bvector)\n",
        "\n",
        "probs = solve_states(transition_rate_matrix)\n",
        "\n",
        "for i in range(len(transitions)):\n",
        "    print(f'{i}\\t{tuple(list(state_idx[i][0])+[state_idx[i][1]])}\\t{probs[i]:.4}')"
      ]
    },
    {
      "cell_type": "code",
      "source": [
        "sum(probs)"
      ],
      "metadata": {
        "colab": {
          "base_uri": "https://localhost:8080/"
        },
        "id": "mGaWzrcU5OQS",
        "outputId": "f777a4b8-f1a2-498f-d7c2-71dbee8c545f"
      },
      "id": "mGaWzrcU5OQS",
      "execution_count": null,
      "outputs": [
        {
          "output_type": "execute_result",
          "data": {
            "text/plain": [
              "1.0"
            ]
          },
          "metadata": {},
          "execution_count": 37
        }
      ]
    },
    {
      "cell_type": "code",
      "source": [
        "y = np.array(P) * (LAM / MU) # Нагрузка\n",
        "pbusy = np.zeros(len(P)) # Загрузка\n",
        "L = np.zeros(len(P)) # Длина очереди\n",
        "m = np.zeros(len(P)) # Число заявок\n",
        "prod = np.zeros(len(P)) # Производительность\n",
        "loss = np.zeros(len(P)) # Вероятность потери\n",
        "wtime = np.zeros(len(P)) # Время ожидания\n",
        "ttime = np.zeros(len(P)) # Время пребывания\n",
        "\n",
        "for si, prob in enumerate(probs):\n",
        "  state = state_idx[si]\n",
        "  for did in range(N):\n",
        "    if state[0][did] != 0:\n",
        "      pbusy[did] += prob\n",
        "    L[did] += prob * state[1]\n",
        "    if state[0][did] > 0:\n",
        "      m[did] += prob * (1 + state[1])\n",
        "    if state[1] == MAX_QUEUE_SIZE and state[0][did] > 0:\n",
        "      loss[did] += prob\n",
        "\n",
        "prod = LAM * np.array(P) * (1 - loss)\n",
        "wtime = L / prod\n",
        "ttime = m / prod\n",
        "\n",
        "print(f'Нагрузка      {y = } Σ {sum(y)}')\n",
        "print(f'Загрузка      {pbusy = } Σ {sum(pbusy)}')\n",
        "print(f'Длина очереди {L}, Σ {L[0]}') # у нас единая очередь — любое из значений\n",
        "print(f'Число заявок  {m}, Σ {sum(m)}')\n",
        "print(f'Время ожидания       {wtime}, Σ {sum(L) / sum(prod)}')\n",
        "print(f'Время пребывания     {ttime}, Σ {sum(m) / sum(prod)}')\n",
        "print(f'Вероятность потери   {loss}, Σ {sum(loss * P)}')\n",
        "print(f'Производительность   {prod}, Σ {sum(prod)}')"
      ],
      "metadata": {
        "id": "AmyxKM8o9oqS",
        "colab": {
          "base_uri": "https://localhost:8080/"
        },
        "outputId": "883df965-dec8-4603-b964-30c96b95db74"
      },
      "id": "AmyxKM8o9oqS",
      "execution_count": null,
      "outputs": [
        {
          "output_type": "stream",
          "name": "stdout",
          "text": [
            "Нагрузка      y = array([1.2, 0.5, 0.3]) Σ 2.0\n",
            "Загрузка      pbusy = array([0.71365639, 0.58002937, 0.5154185 ]) Σ 1.8091042584434665\n",
            "Длина очереди [0.89867841 0.89867841 0.89867841], Σ 0.8986784140969176\n",
            "Число заявок  [1.6123348  1.47870778 1.41409692], Σ 4.505139500734219\n",
            "Время ожидания       [1.89944134 4.55865922 7.59776536], Σ 3.418994413407828\n",
            "Время пребывания     [ 3.40782123  7.5009311  11.95530726], Σ 5.713221601489767\n",
            "Вероятность потери   [0.21145374 0.21145374 0.21145374], Σ 0.21145374449339238\n",
            "Производительность   [0.47312775 0.19713656 0.11828194], Σ 0.7885462555066075\n"
          ]
        }
      ]
    }
  ],
  "metadata": {
    "kernelspec": {
      "display_name": "Python 3 (ipykernel)",
      "language": "python",
      "name": "python3"
    },
    "language_info": {
      "codemirror_mode": {
        "name": "ipython",
        "version": 3
      },
      "file_extension": ".py",
      "mimetype": "text/x-python",
      "name": "python",
      "nbconvert_exporter": "python",
      "pygments_lexer": "ipython3",
      "version": "3.11.10"
    },
    "colab": {
      "provenance": []
    }
  },
  "nbformat": 4,
  "nbformat_minor": 5
}