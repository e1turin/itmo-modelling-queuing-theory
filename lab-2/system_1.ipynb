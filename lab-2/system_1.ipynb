{
  "cells": [
    {
      "cell_type": "code",
      "execution_count": 1,
      "id": "85107e3a-f1e9-4704-8c9d-8e41d56c8fd6",
      "metadata": {
        "id": "85107e3a-f1e9-4704-8c9d-8e41d56c8fd6"
      },
      "outputs": [],
      "source": [
        "%reset -f\n",
        "import plotly.express as px\n",
        "from graphviz import Digraph\n",
        "from itertools import product, combinations\n",
        "import numpy as np"
      ]
    },
    {
      "cell_type": "markdown",
      "id": "8bfd0d06",
      "metadata": {},
      "source": [
        "![](./res/lab-1_system-1.png)"
      ]
    },
    {
      "cell_type": "code",
      "execution_count": 2,
      "id": "30944866-8d36-43f2-8ab0-485cbd015b7a",
      "metadata": {
        "colab": {
          "base_uri": "https://localhost:8080/"
        },
        "id": "30944866-8d36-43f2-8ab0-485cbd015b7a",
        "outputId": "fcfe9f35-af7a-4316-bd51-1188e5bc56f3"
      },
      "outputs": [
        {
          "name": "stdout",
          "output_type": "stream",
          "text": [
            "λ = 1\n",
            "b = 2 ⇒ μ = 0.5\n",
            "\n",
            "Probability pi of selecting server i:\n",
            "p1 = 0.6\n",
            "p2 = 0.25\n",
            "p3 = 0.15\n"
          ]
        }
      ],
      "source": [
        "ARRIVAL_RATE = LAMBDA = 1 # λ\n",
        "SERVICE_TIME = B = 2\n",
        "DEPARTURE_RATE = MU = 1 / B # μ\n",
        "QUEUE_MAX_SIZE = 3\n",
        "print(f\"λ = {LAMBDA}\")\n",
        "print(f\"b = {B} ⇒ μ = {MU}\")\n",
        "\n",
        "NUM_SERVERS = N = 3\n",
        "P_SERVER = [0.6, 0.25, 0.15]\n",
        "assert len(P_SERVER) == N\n",
        "assert sum(P_SERVER) == 1\n",
        "\n",
        "print(\"\\nProbability pi of selecting server i:\")\n",
        "for i, p in enumerate(P_SERVER):\n",
        "    print(f\"p{i + 1} = {p}\")"
      ]
    },
    {
      "cell_type": "code",
      "execution_count": 3,
      "id": "0Y9tDZlyTdkX",
      "metadata": {
        "id": "0Y9tDZlyTdkX"
      },
      "outputs": [],
      "source": [
        "SERVER_STATES = [IDLE, BUSY] = [0, 1]  # idle / busy\n",
        "QUEUE_STATES = list(range(0, QUEUE_MAX_SIZE + 1))  # has jobs or empty\n",
        "\n",
        "SERVERS_STATES_COMBINED = list(product(SERVER_STATES, repeat=N))\n",
        "ALL_STATES_COMBINED = S = list(product(SERVERS_STATES_COMBINED, QUEUE_STATES))\n",
        "STATES_INDEX = SI = {s: i for i, s in enumerate(ALL_STATES_COMBINED)}"
      ]
    },
    {
      "cell_type": "code",
      "execution_count": 31,
      "id": "8df44b1d-63c1-451d-a0a6-3422ee60a5b8",
      "metadata": {
        "id": "8df44b1d-63c1-451d-a0a6-3422ee60a5b8"
      },
      "outputs": [],
      "source": [
        "def make_state_graph(\n",
        "    allow_simultaneous_job_completion=True,\n",
        "    allow_simultaneous_queue_departure=True,\n",
        "    allow_selecting_server_with_probability=True,\n",
        "):\n",
        "    \"\"\"\n",
        "    servers |queue |\n",
        "    ========+======+\n",
        "            |#|*|0 |\n",
        "    --------+-+-+--+\n",
        "    |(1,1,1)|s|s|sq|\n",
        "    |   *   |x|x| q|\n",
        "    |(0,0,0)|x|x| q|\n",
        "\n",
        "    # = full queue\n",
        "    * = any middle values\n",
        "    x = impossible (1)\n",
        "    s = solved with condition on servers (2), (3)\n",
        "    q = solved with condition on queue (4)\n",
        "    \"\"\"\n",
        "    transitions_rates = {}  # weighted digraph of transitions between states with rate\n",
        "\n",
        "    for i, current_state in enumerate(ALL_STATES_COMBINED):\n",
        "        servers, queue_size = current_state\n",
        "\n",
        "        transitions_rates[i] = {}\n",
        "\n",
        "        _all_servers_busy = all(map(lambda s: s == BUSY, servers))\n",
        "        _all_servers_idle = all(map(lambda s: s == IDLE, servers))\n",
        "        _full_queue = queue_size == QUEUE_MAX_SIZE\n",
        "        _empty_queue = queue_size == 0\n",
        "\n",
        "        if not _empty_queue and not _all_servers_busy:\n",
        "            \"\"\"\n",
        "                (1) Impossible situation in Marcov process: \n",
        "                        if in queue there is at least 1 job \n",
        "                        then no idle server can exist.\n",
        "            \"\"\"\n",
        "            continue\n",
        "\n",
        "        if _all_servers_busy:\n",
        "            \"\"\"\n",
        "                (2) When all servers are busy and queue is full\n",
        "                    we can just drop new jobs or take one job from queue.\n",
        "                (3) When all servers are busy we can\n",
        "                        add job to queue\n",
        "                        or take one job from the queue.\n",
        "                    In Marcov process we can't do job\n",
        "                    and add new one to queue at once.\n",
        "            \"\"\"\n",
        "            if not _empty_queue:\n",
        "                next_state = (servers, queue_size - 1)\n",
        "                # Do we need consider several servers can complete job at once? *N\n",
        "                transitions_rates[i][SI[next_state]] = DEPARTURE_RATE\n",
        "\n",
        "                if allow_simultaneous_queue_departure:\n",
        "                    pass\n",
        "\n",
        "            if not _full_queue:\n",
        "                next_state = (servers, queue_size + 1)\n",
        "                transitions_rates[i][SI[next_state]] = ARRIVAL_RATE\n",
        "\n",
        "        if _empty_queue:\n",
        "            \"\"\"\n",
        "                (4) On empty queue we can \n",
        "                        transit each busy server state to idle\n",
        "                        or load any idle server because of (1).\n",
        "                \n",
        "            \"\"\"\n",
        "            # complete jobs\n",
        "            if not _all_servers_idle:\n",
        "                busy_servers = [j for j, s in enumerate(servers) if s == BUSY]\n",
        "\n",
        "                for j in busy_servers:\n",
        "                    next_servers_states = list(servers)\n",
        "                    next_servers_states[j] = IDLE\n",
        "                    next_state = (tuple(next_servers_states), queue_size)\n",
        "                    transitions_rates[i][SI[next_state]] = DEPARTURE_RATE\n",
        "\n",
        "                if allow_simultaneous_job_completion:\n",
        "                    for j in range(len(busy_servers)):\n",
        "                        for complete_servers in combinations(busy_servers, j + 1):\n",
        "                            next_servers_states = list(servers)\n",
        "                            for k in complete_servers:\n",
        "                                next_servers_states[k] = IDLE\n",
        "                            next_state = (tuple(next_servers_states), queue_size)\n",
        "                            transitions_rates[i][SI[next_state]] = DEPARTURE_RATE * len(complete_servers)\n",
        "\n",
        "            # load idle servers\n",
        "            if not _all_servers_busy:\n",
        "                idle_servers = [j for j, s in enumerate(servers) if s == IDLE]\n",
        "                relative_sum_rate = sum([P_SERVER[j] for j in idle_servers])\n",
        "\n",
        "                for j in idle_servers:\n",
        "                    next_servers_states = list(servers)\n",
        "                    next_servers_states[j] = BUSY\n",
        "                    next_state = (tuple(next_servers_states), queue_size)\n",
        "\n",
        "                    if allow_selecting_server_with_probability:\n",
        "                        relative_rate = P_SERVER[j] / relative_sum_rate\n",
        "                    else:\n",
        "                        relative_rate = 1\n",
        "\n",
        "                    transitions_rates[i][SI[next_state]] = ARRIVAL_RATE * relative_rate\n",
        "\n",
        "    return {k: v for k, v in transitions_rates.items() if v}\n",
        "\n",
        "\n",
        "available_states = make_state_graph(\n",
        "    allow_simultaneous_job_completion=True,\n",
        "    allow_simultaneous_queue_departure=True,\n",
        "    allow_choosing_server_with_probability=True,\n",
        ")"
      ]
    },
    {
      "cell_type": "code",
      "execution_count": 32,
      "id": "Kc6OZIhJTtOH",
      "metadata": {
        "colab": {
          "base_uri": "https://localhost:8080/"
        },
        "id": "Kc6OZIhJTtOH",
        "outputId": "4aaf3f9d-3131-4c23-b9fa-ad6f0da422d3"
      },
      "outputs": [
        {
          "name": "stdout",
          "output_type": "stream",
          "text": [
            "0:  ((0, 0, 0), 0)\n",
            "  [0.6000]-> 16\n",
            "  [0.2500]-> 8\n",
            "  [0.1500]-> 4\n",
            "4:  ((0, 0, 1), 0)\n",
            "  [0.5000]-> 0\n",
            "  [0.7059]-> 20\n",
            "  [0.2941]-> 12\n",
            "8:  ((0, 1, 0), 0)\n",
            "  [0.5000]-> 0\n",
            "  [0.8000]-> 24\n",
            "  [0.2000]-> 12\n",
            "12:  ((0, 1, 1), 0)\n",
            "  [0.5000]-> 4\n",
            "  [0.5000]-> 8\n",
            "  [1.0000]-> 0\n",
            "  [1.0000]-> 28\n",
            "16:  ((1, 0, 0), 0)\n",
            "  [0.5000]-> 0\n",
            "  [0.6250]-> 24\n",
            "  [0.3750]-> 20\n",
            "20:  ((1, 0, 1), 0)\n",
            "  [0.5000]-> 4\n",
            "  [0.5000]-> 16\n",
            "  [1.0000]-> 0\n",
            "  [1.0000]-> 28\n",
            "24:  ((1, 1, 0), 0)\n",
            "  [0.5000]-> 8\n",
            "  [0.5000]-> 16\n",
            "  [1.0000]-> 0\n",
            "  [1.0000]-> 28\n",
            "28:  ((1, 1, 1), 0)\n",
            "  [1.0000]-> 29\n",
            "  [0.5000]-> 12\n",
            "  [0.5000]-> 20\n",
            "  [0.5000]-> 24\n",
            "  [1.0000]-> 4\n",
            "  [1.0000]-> 8\n",
            "  [1.0000]-> 16\n",
            "  [1.5000]-> 0\n",
            "29:  ((1, 1, 1), 1)\n",
            "  [0.5000]-> 28\n",
            "  [1.0000]-> 30\n",
            "30:  ((1, 1, 1), 2)\n",
            "  [0.5000]-> 29\n",
            "  [1.0000]-> 31\n",
            "31:  ((1, 1, 1), 3)\n",
            "  [0.5000]-> 30\n"
          ]
        }
      ],
      "source": [
        "# Output the states and their transitions\n",
        "for state, transitions in available_states.items():\n",
        "    print(f\"{state}:  {S[state]}\")\n",
        "    for next_state, rate in transitions.items():\n",
        "        print(f\"  [{rate:.4f}]-> {next_state}\")"
      ]
    },
    {
      "cell_type": "code",
      "execution_count": 33,
      "id": "1917eb13-8701-4087-ba1c-849d392086ff",
      "metadata": {
        "colab": {
          "base_uri": "https://localhost:8080/",
          "height": 563
        },
        "id": "1917eb13-8701-4087-ba1c-849d392086ff",
        "outputId": "3ced94b5-4171-43ad-f94a-752767431ee8"
      },
      "outputs": [
        {
          "data": {
            "image/svg+xml": [
              "<?xml version=\"1.0\" encoding=\"UTF-8\" standalone=\"no\"?>\n",
              "<!DOCTYPE svg PUBLIC \"-//W3C//DTD SVG 1.1//EN\"\n",
              " \"http://www.w3.org/Graphics/SVG/1.1/DTD/svg11.dtd\">\n",
              "<!-- Generated by graphviz version 12.2.1 (20241206.2353)\n",
              " -->\n",
              "<!-- Pages: 1 -->\n",
              "<svg width=\"939pt\" height=\"496pt\"\n",
              " viewBox=\"0.00 0.00 939.25 495.68\" xmlns=\"http://www.w3.org/2000/svg\" xmlns:xlink=\"http://www.w3.org/1999/xlink\">\n",
              "<g id=\"graph0\" class=\"graph\" transform=\"scale(1 1) rotate(0) translate(4 491.68)\">\n",
              "<polygon fill=\"white\" stroke=\"none\" points=\"-4,4 -4,-491.68 935.25,-491.68 935.25,4 -4,4\"/>\n",
              "<!-- ((0, 0, 0), 0) -->\n",
              "<g id=\"node1\" class=\"node\">\n",
              "<title>((0, 0, 0), 0)</title>\n",
              "<ellipse fill=\"none\" stroke=\"black\" cx=\"98.27\" cy=\"-389.41\" rx=\"37.97\" ry=\"37.97\"/>\n",
              "<text text-anchor=\"middle\" x=\"98.27\" y=\"-384.36\" font-family=\"Times New Roman,serif\" font-size=\"14.00\">((0, 0, 0), 0)</text>\n",
              "</g>\n",
              "<!-- ((1, 0, 0), 0) -->\n",
              "<g id=\"node2\" class=\"node\">\n",
              "<title>((1, 0, 0), 0)</title>\n",
              "<ellipse fill=\"none\" stroke=\"black\" cx=\"243.84\" cy=\"-37.97\" rx=\"37.97\" ry=\"37.97\"/>\n",
              "<text text-anchor=\"middle\" x=\"243.84\" y=\"-32.92\" font-family=\"Times New Roman,serif\" font-size=\"14.00\">((1, 0, 0), 0)</text>\n",
              "</g>\n",
              "<!-- ((0, 0, 0), 0)&#45;&gt;((1, 0, 0), 0) -->\n",
              "<g id=\"edge1\" class=\"edge\">\n",
              "<title>((0, 0, 0), 0)&#45;&gt;((1, 0, 0), 0)</title>\n",
              "<path fill=\"none\" stroke=\"red\" d=\"M116.83,-355.74C146.29,-292.87 202.49,-157.58 229.28,-85.47\"/>\n",
              "<polygon fill=\"red\" stroke=\"red\" points=\"232.48,-86.9 232.64,-76.31 225.91,-84.49 232.48,-86.9\"/>\n",
              "<text text-anchor=\"middle\" x=\"164.43\" y=\"-223.81\" font-family=\"Times New Roman,serif\" font-size=\"14.00\" fill=\"red\">0.6</text>\n",
              "</g>\n",
              "<!-- ((0, 1, 0), 0) -->\n",
              "<g id=\"node3\" class=\"node\">\n",
              "<title>((0, 1, 0), 0)</title>\n",
              "<ellipse fill=\"none\" stroke=\"black\" cx=\"389.41\" cy=\"-389.41\" rx=\"37.97\" ry=\"37.97\"/>\n",
              "<text text-anchor=\"middle\" x=\"389.41\" y=\"-384.36\" font-family=\"Times New Roman,serif\" font-size=\"14.00\">((0, 1, 0), 0)</text>\n",
              "</g>\n",
              "<!-- ((0, 0, 0), 0)&#45;&gt;((0, 1, 0), 0) -->\n",
              "<g id=\"edge2\" class=\"edge\">\n",
              "<title>((0, 0, 0), 0)&#45;&gt;((0, 1, 0), 0)</title>\n",
              "<path fill=\"none\" stroke=\"red\" d=\"M136.33,-394.14C188.53,-396.66 282.41,-396.83 339.98,-394.63\"/>\n",
              "<polygon fill=\"red\" stroke=\"red\" points=\"339.99,-398.14 349.83,-394.21 339.69,-391.14 339.99,-398.14\"/>\n",
              "<text text-anchor=\"middle\" x=\"226.16\" y=\"-397.59\" font-family=\"Times New Roman,serif\" font-size=\"14.00\" fill=\"red\">0.25</text>\n",
              "</g>\n",
              "<!-- ((0, 0, 1), 0) -->\n",
              "<g id=\"node4\" class=\"node\">\n",
              "<title>((0, 0, 1), 0)</title>\n",
              "<ellipse fill=\"none\" stroke=\"black\" cx=\"37.97\" cy=\"-243.84\" rx=\"37.97\" ry=\"37.97\"/>\n",
              "<text text-anchor=\"middle\" x=\"37.97\" y=\"-238.79\" font-family=\"Times New Roman,serif\" font-size=\"14.00\">((0, 0, 1), 0)</text>\n",
              "</g>\n",
              "<!-- ((0, 0, 0), 0)&#45;&gt;((0, 0, 1), 0) -->\n",
              "<g id=\"edge3\" class=\"edge\">\n",
              "<title>((0, 0, 0), 0)&#45;&gt;((0, 0, 1), 0)</title>\n",
              "<path fill=\"none\" stroke=\"red\" d=\"M89.24,-352.3C82.1,-332.43 72.09,-307.86 62.74,-287.13\"/>\n",
              "<polygon fill=\"red\" stroke=\"red\" points=\"65.93,-285.68 58.56,-278.06 59.57,-288.61 65.93,-285.68\"/>\n",
              "<text text-anchor=\"middle\" x=\"63.99\" y=\"-322.92\" font-family=\"Times New Roman,serif\" font-size=\"14.00\" fill=\"red\">0.15</text>\n",
              "</g>\n",
              "<!-- ((1, 0, 0), 0)&#45;&gt;((0, 0, 0), 0) -->\n",
              "<g id=\"edge14\" class=\"edge\">\n",
              "<title>((1, 0, 0), 0)&#45;&gt;((0, 0, 0), 0)</title>\n",
              "<path fill=\"none\" stroke=\"blue\" d=\"M225.28,-71.65C195.82,-134.51 139.62,-269.8 112.84,-341.91\"/>\n",
              "<polygon fill=\"blue\" stroke=\"blue\" points=\"109.63,-340.49 109.47,-351.08 116.2,-342.9 109.63,-340.49\"/>\n",
              "<text text-anchor=\"middle\" x=\"160.43\" y=\"-193.48\" font-family=\"Times New Roman,serif\" font-size=\"14.00\" fill=\"blue\">0.5</text>\n",
              "</g>\n",
              "<!-- ((1, 0, 1), 0) -->\n",
              "<g id=\"node5\" class=\"node\">\n",
              "<title>((1, 0, 1), 0)</title>\n",
              "<ellipse fill=\"none\" stroke=\"black\" cx=\"98.27\" cy=\"-98.27\" rx=\"37.97\" ry=\"37.97\"/>\n",
              "<text text-anchor=\"middle\" x=\"98.27\" y=\"-93.22\" font-family=\"Times New Roman,serif\" font-size=\"14.00\">((1, 0, 1), 0)</text>\n",
              "</g>\n",
              "<!-- ((1, 0, 0), 0)&#45;&gt;((1, 0, 1), 0) -->\n",
              "<g id=\"edge16\" class=\"edge\">\n",
              "<title>((1, 0, 0), 0)&#45;&gt;((1, 0, 1), 0)</title>\n",
              "<path fill=\"none\" stroke=\"red\" d=\"M206.73,-47C186.86,-54.14 162.29,-64.15 141.56,-73.5\"/>\n",
              "<polygon fill=\"red\" stroke=\"red\" points=\"140.11,-70.32 132.49,-77.68 143.03,-76.68 140.11,-70.32\"/>\n",
              "<text text-anchor=\"middle\" x=\"158.77\" y=\"-46.95\" font-family=\"Times New Roman,serif\" font-size=\"14.00\" fill=\"red\">0.375</text>\n",
              "</g>\n",
              "<!-- ((1, 1, 0), 0) -->\n",
              "<g id=\"node7\" class=\"node\">\n",
              "<title>((1, 1, 0), 0)</title>\n",
              "<ellipse fill=\"none\" stroke=\"black\" cx=\"389.41\" cy=\"-98.27\" rx=\"37.97\" ry=\"37.97\"/>\n",
              "<text text-anchor=\"middle\" x=\"389.41\" y=\"-93.22\" font-family=\"Times New Roman,serif\" font-size=\"14.00\">((1, 1, 0), 0)</text>\n",
              "</g>\n",
              "<!-- ((1, 0, 0), 0)&#45;&gt;((1, 1, 0), 0) -->\n",
              "<g id=\"edge15\" class=\"edge\">\n",
              "<title>((1, 0, 0), 0)&#45;&gt;((1, 1, 0), 0)</title>\n",
              "<path fill=\"none\" stroke=\"red\" d=\"M276.47,-57.83C295.56,-66.83 320.02,-77.12 341.29,-85.17\"/>\n",
              "<polygon fill=\"red\" stroke=\"red\" points=\"340.07,-88.45 350.66,-88.64 342.49,-81.89 340.07,-88.45\"/>\n",
              "<text text-anchor=\"middle\" x=\"324.25\" y=\"-74.7\" font-family=\"Times New Roman,serif\" font-size=\"14.00\" fill=\"red\">0.625</text>\n",
              "</g>\n",
              "<!-- ((0, 1, 0), 0)&#45;&gt;((0, 0, 0), 0) -->\n",
              "<g id=\"edge7\" class=\"edge\">\n",
              "<title>((0, 1, 0), 0)&#45;&gt;((0, 0, 0), 0)</title>\n",
              "<path fill=\"none\" stroke=\"blue\" d=\"M351.35,-384.68C299.15,-382.16 205.28,-382 147.7,-384.19\"/>\n",
              "<polygon fill=\"blue\" stroke=\"blue\" points=\"147.7,-380.69 137.85,-384.62 147.99,-387.69 147.7,-380.69\"/>\n",
              "<text text-anchor=\"middle\" x=\"240.9\" y=\"-371.14\" font-family=\"Times New Roman,serif\" font-size=\"14.00\" fill=\"blue\">0.5</text>\n",
              "</g>\n",
              "<!-- ((0, 1, 1), 0) -->\n",
              "<g id=\"node6\" class=\"node\">\n",
              "<title>((0, 1, 1), 0)</title>\n",
              "<ellipse fill=\"none\" stroke=\"black\" cx=\"243.84\" cy=\"-449.71\" rx=\"37.97\" ry=\"37.97\"/>\n",
              "<text text-anchor=\"middle\" x=\"243.84\" y=\"-444.66\" font-family=\"Times New Roman,serif\" font-size=\"14.00\">((0, 1, 1), 0)</text>\n",
              "</g>\n",
              "<!-- ((0, 1, 0), 0)&#45;&gt;((0, 1, 1), 0) -->\n",
              "<g id=\"edge9\" class=\"edge\">\n",
              "<title>((0, 1, 0), 0)&#45;&gt;((0, 1, 1), 0)</title>\n",
              "<path fill=\"none\" stroke=\"red\" d=\"M352.3,-398.44C332.43,-405.58 307.86,-415.59 287.13,-424.94\"/>\n",
              "<polygon fill=\"red\" stroke=\"red\" points=\"285.68,-421.76 278.06,-429.12 288.61,-428.12 285.68,-421.76\"/>\n",
              "<text text-anchor=\"middle\" x=\"311.09\" y=\"-398.39\" font-family=\"Times New Roman,serif\" font-size=\"14.00\" fill=\"red\">0.2</text>\n",
              "</g>\n",
              "<!-- ((0, 1, 0), 0)&#45;&gt;((1, 1, 0), 0) -->\n",
              "<g id=\"edge8\" class=\"edge\">\n",
              "<title>((0, 1, 0), 0)&#45;&gt;((1, 1, 0), 0)</title>\n",
              "<path fill=\"none\" stroke=\"red\" d=\"M394.14,-351.35C396.66,-299.15 396.83,-205.28 394.63,-147.7\"/>\n",
              "<polygon fill=\"red\" stroke=\"red\" points=\"398.14,-147.7 394.21,-137.85 391.14,-147.99 398.14,-147.7\"/>\n",
              "<text text-anchor=\"middle\" x=\"385.76\" y=\"-252.73\" font-family=\"Times New Roman,serif\" font-size=\"14.00\" fill=\"red\">0.8</text>\n",
              "</g>\n",
              "<!-- ((0, 0, 1), 0)&#45;&gt;((0, 0, 0), 0) -->\n",
              "<g id=\"edge4\" class=\"edge\">\n",
              "<title>((0, 0, 1), 0)&#45;&gt;((0, 0, 0), 0)</title>\n",
              "<path fill=\"none\" stroke=\"blue\" d=\"M47,-280.95C54.14,-300.82 64.15,-325.39 73.5,-346.12\"/>\n",
              "<polygon fill=\"blue\" stroke=\"blue\" points=\"70.32,-347.58 77.68,-355.2 76.68,-344.65 70.32,-347.58\"/>\n",
              "<text text-anchor=\"middle\" x=\"51.63\" y=\"-300.24\" font-family=\"Times New Roman,serif\" font-size=\"14.00\" fill=\"blue\">0.5</text>\n",
              "</g>\n",
              "<!-- ((0, 0, 1), 0)&#45;&gt;((1, 0, 1), 0) -->\n",
              "<g id=\"edge5\" class=\"edge\">\n",
              "<title>((0, 0, 1), 0)&#45;&gt;((1, 0, 1), 0)</title>\n",
              "<path fill=\"none\" stroke=\"red\" d=\"M57.83,-211.22C66.83,-192.12 77.12,-167.67 85.17,-146.39\"/>\n",
              "<polygon fill=\"red\" stroke=\"red\" points=\"88.45,-147.62 88.64,-137.03 81.89,-145.19 88.45,-147.62\"/>\n",
              "<text text-anchor=\"middle\" x=\"56.13\" y=\"-182.01\" font-family=\"Times New Roman,serif\" font-size=\"14.00\" fill=\"red\">0.706</text>\n",
              "</g>\n",
              "<!-- ((0, 0, 1), 0)&#45;&gt;((0, 1, 1), 0) -->\n",
              "<g id=\"edge6\" class=\"edge\">\n",
              "<title>((0, 0, 1), 0)&#45;&gt;((0, 1, 1), 0)</title>\n",
              "<path fill=\"none\" stroke=\"red\" d=\"M61.54,-274.1C96.67,-312.79 162.94,-379.29 205.2,-418.45\"/>\n",
              "<polygon fill=\"red\" stroke=\"red\" points=\"202.73,-420.93 212.46,-425.11 207.46,-415.77 202.73,-420.93\"/>\n",
              "<text text-anchor=\"middle\" x=\"118\" y=\"-332.98\" font-family=\"Times New Roman,serif\" font-size=\"14.00\" fill=\"red\">0.294</text>\n",
              "</g>\n",
              "<!-- ((1, 0, 1), 0)&#45;&gt;((0, 0, 0), 0) -->\n",
              "<g id=\"edge19\" class=\"edge\">\n",
              "<title>((1, 0, 1), 0)&#45;&gt;((0, 0, 0), 0)</title>\n",
              "<path fill=\"none\" stroke=\"blue\" d=\"M98.27,-136.63C98.27,-188.78 98.27,-282.12 98.27,-339.62\"/>\n",
              "<polygon fill=\"blue\" stroke=\"blue\" points=\"94.77,-339.45 98.27,-349.45 101.77,-339.45 94.77,-339.45\"/>\n",
              "<text text-anchor=\"middle\" x=\"89.65\" y=\"-241.33\" font-family=\"Times New Roman,serif\" font-size=\"14.00\" fill=\"blue\">1.0</text>\n",
              "</g>\n",
              "<!-- ((1, 0, 1), 0)&#45;&gt;((1, 0, 0), 0) -->\n",
              "<g id=\"edge18\" class=\"edge\">\n",
              "<title>((1, 0, 1), 0)&#45;&gt;((1, 0, 0), 0)</title>\n",
              "<path fill=\"none\" stroke=\"blue\" d=\"M135.38,-89.24C155.25,-82.1 179.82,-72.09 200.55,-62.74\"/>\n",
              "<polygon fill=\"blue\" stroke=\"blue\" points=\"202.01,-65.93 209.63,-58.56 199.08,-59.57 202.01,-65.93\"/>\n",
              "<text text-anchor=\"middle\" x=\"159.34\" y=\"-79.19\" font-family=\"Times New Roman,serif\" font-size=\"14.00\" fill=\"blue\">0.5</text>\n",
              "</g>\n",
              "<!-- ((1, 0, 1), 0)&#45;&gt;((0, 0, 1), 0) -->\n",
              "<g id=\"edge17\" class=\"edge\">\n",
              "<title>((1, 0, 1), 0)&#45;&gt;((0, 0, 1), 0)</title>\n",
              "<path fill=\"none\" stroke=\"blue\" d=\"M78.42,-130.9C69.41,-149.99 59.12,-174.45 51.07,-195.72\"/>\n",
              "<polygon fill=\"blue\" stroke=\"blue\" points=\"47.79,-194.49 47.61,-205.09 54.36,-196.92 47.79,-194.49\"/>\n",
              "<text text-anchor=\"middle\" x=\"56.12\" y=\"-150.01\" font-family=\"Times New Roman,serif\" font-size=\"14.00\" fill=\"blue\">0.5</text>\n",
              "</g>\n",
              "<!-- ((1, 1, 1), 0) -->\n",
              "<g id=\"node8\" class=\"node\">\n",
              "<title>((1, 1, 1), 0)</title>\n",
              "<ellipse fill=\"none\" stroke=\"black\" cx=\"449.71\" cy=\"-243.84\" rx=\"37.97\" ry=\"37.97\"/>\n",
              "<text text-anchor=\"middle\" x=\"449.71\" y=\"-238.79\" font-family=\"Times New Roman,serif\" font-size=\"14.00\">((1, 1, 1), 0)</text>\n",
              "</g>\n",
              "<!-- ((1, 0, 1), 0)&#45;&gt;((1, 1, 1), 0) -->\n",
              "<g id=\"edge20\" class=\"edge\">\n",
              "<title>((1, 0, 1), 0)&#45;&gt;((1, 1, 1), 0)</title>\n",
              "<path fill=\"none\" stroke=\"red\" d=\"M131.95,-116.83C194.81,-146.29 330.1,-202.49 402.21,-229.28\"/>\n",
              "<polygon fill=\"red\" stroke=\"red\" points=\"400.78,-232.48 411.38,-232.64 403.19,-225.91 400.78,-232.48\"/>\n",
              "<text text-anchor=\"middle\" x=\"258.45\" y=\"-176.25\" font-family=\"Times New Roman,serif\" font-size=\"14.00\" fill=\"red\">1.0</text>\n",
              "</g>\n",
              "<!-- ((0, 1, 1), 0)&#45;&gt;((0, 0, 0), 0) -->\n",
              "<g id=\"edge12\" class=\"edge\">\n",
              "<title>((0, 1, 1), 0)&#45;&gt;((0, 0, 0), 0)</title>\n",
              "<path fill=\"none\" stroke=\"blue\" d=\"M208.6,-435.11C189.26,-427.1 165.04,-417.07 144.22,-408.45\"/>\n",
              "<polygon fill=\"blue\" stroke=\"blue\" points=\"145.67,-405.26 135.09,-404.66 142.99,-411.72 145.67,-405.26\"/>\n",
              "<text text-anchor=\"middle\" x=\"167.79\" y=\"-424.98\" font-family=\"Times New Roman,serif\" font-size=\"14.00\" fill=\"blue\">1.0</text>\n",
              "</g>\n",
              "<!-- ((0, 1, 1), 0)&#45;&gt;((0, 1, 0), 0) -->\n",
              "<g id=\"edge11\" class=\"edge\">\n",
              "<title>((0, 1, 1), 0)&#45;&gt;((0, 1, 0), 0)</title>\n",
              "<path fill=\"none\" stroke=\"blue\" d=\"M280.95,-440.68C300.82,-433.54 325.39,-423.53 346.12,-414.18\"/>\n",
              "<polygon fill=\"blue\" stroke=\"blue\" points=\"347.58,-417.37 355.2,-410 344.65,-411.01 347.58,-417.37\"/>\n",
              "<text text-anchor=\"middle\" x=\"304.91\" y=\"-430.63\" font-family=\"Times New Roman,serif\" font-size=\"14.00\" fill=\"blue\">0.5</text>\n",
              "</g>\n",
              "<!-- ((0, 1, 1), 0)&#45;&gt;((0, 0, 1), 0) -->\n",
              "<g id=\"edge10\" class=\"edge\">\n",
              "<title>((0, 1, 1), 0)&#45;&gt;((0, 0, 1), 0)</title>\n",
              "<path fill=\"none\" stroke=\"blue\" d=\"M220.27,-419.45C185.14,-380.76 118.88,-314.27 76.61,-275.1\"/>\n",
              "<polygon fill=\"blue\" stroke=\"blue\" points=\"79.09,-272.62 69.35,-268.44 74.36,-277.78 79.09,-272.62\"/>\n",
              "<text text-anchor=\"middle\" x=\"157.07\" y=\"-350.48\" font-family=\"Times New Roman,serif\" font-size=\"14.00\" fill=\"blue\">0.5</text>\n",
              "</g>\n",
              "<!-- ((0, 1, 1), 0)&#45;&gt;((1, 1, 1), 0) -->\n",
              "<g id=\"edge13\" class=\"edge\">\n",
              "<title>((0, 1, 1), 0)&#45;&gt;((1, 1, 1), 0)</title>\n",
              "<path fill=\"none\" stroke=\"red\" d=\"M274.1,-426.14C312.79,-391.01 379.29,-324.75 418.45,-282.48\"/>\n",
              "<polygon fill=\"red\" stroke=\"red\" points=\"420.93,-284.96 425.11,-275.22 415.77,-280.22 420.93,-284.96\"/>\n",
              "<text text-anchor=\"middle\" x=\"337.65\" y=\"-357.51\" font-family=\"Times New Roman,serif\" font-size=\"14.00\" fill=\"red\">1.0</text>\n",
              "</g>\n",
              "<!-- ((1, 1, 0), 0)&#45;&gt;((0, 0, 0), 0) -->\n",
              "<g id=\"edge23\" class=\"edge\">\n",
              "<title>((1, 1, 0), 0)&#45;&gt;((0, 0, 0), 0)</title>\n",
              "<path fill=\"none\" stroke=\"blue\" d=\"M362.28,-125.4C309.3,-178.38 192.11,-295.57 133.33,-354.35\"/>\n",
              "<polygon fill=\"blue\" stroke=\"blue\" points=\"131.1,-351.63 126.51,-361.18 136.05,-356.58 131.1,-351.63\"/>\n",
              "<text text-anchor=\"middle\" x=\"239.18\" y=\"-243.08\" font-family=\"Times New Roman,serif\" font-size=\"14.00\" fill=\"blue\">1.0</text>\n",
              "</g>\n",
              "<!-- ((1, 1, 0), 0)&#45;&gt;((1, 0, 0), 0) -->\n",
              "<g id=\"edge22\" class=\"edge\">\n",
              "<title>((1, 1, 0), 0)&#45;&gt;((1, 0, 0), 0)</title>\n",
              "<path fill=\"none\" stroke=\"blue\" d=\"M356.79,-78.42C337.69,-69.41 313.24,-59.12 291.97,-51.07\"/>\n",
              "<polygon fill=\"blue\" stroke=\"blue\" points=\"293.19,-47.79 282.6,-47.61 290.76,-54.36 293.19,-47.79\"/>\n",
              "<text text-anchor=\"middle\" x=\"315.75\" y=\"-51.44\" font-family=\"Times New Roman,serif\" font-size=\"14.00\" fill=\"blue\">0.5</text>\n",
              "</g>\n",
              "<!-- ((1, 1, 0), 0)&#45;&gt;((0, 1, 0), 0) -->\n",
              "<g id=\"edge21\" class=\"edge\">\n",
              "<title>((1, 1, 0), 0)&#45;&gt;((0, 1, 0), 0)</title>\n",
              "<path fill=\"none\" stroke=\"blue\" d=\"M384.68,-136.33C382.16,-188.53 382,-282.41 384.19,-339.98\"/>\n",
              "<polygon fill=\"blue\" stroke=\"blue\" points=\"380.69,-339.99 384.62,-349.83 387.69,-339.69 380.69,-339.99\"/>\n",
              "<text text-anchor=\"middle\" x=\"375.81\" y=\"-224.86\" font-family=\"Times New Roman,serif\" font-size=\"14.00\" fill=\"blue\">0.5</text>\n",
              "</g>\n",
              "<!-- ((1, 1, 0), 0)&#45;&gt;((1, 1, 1), 0) -->\n",
              "<g id=\"edge24\" class=\"edge\">\n",
              "<title>((1, 1, 0), 0)&#45;&gt;((1, 1, 1), 0)</title>\n",
              "<path fill=\"none\" stroke=\"red\" d=\"M398.44,-135.38C405.58,-155.25 415.59,-179.82 424.94,-200.55\"/>\n",
              "<polygon fill=\"red\" stroke=\"red\" points=\"421.76,-202.01 429.12,-209.63 428.12,-199.08 421.76,-202.01\"/>\n",
              "<text text-anchor=\"middle\" x=\"403.07\" y=\"-171.17\" font-family=\"Times New Roman,serif\" font-size=\"14.00\" fill=\"red\">1.0</text>\n",
              "</g>\n",
              "<!-- ((1, 1, 1), 0)&#45;&gt;((0, 0, 0), 0) -->\n",
              "<g id=\"edge32\" class=\"edge\">\n",
              "<title>((1, 1, 1), 0)&#45;&gt;((0, 0, 0), 0)</title>\n",
              "<path fill=\"none\" stroke=\"blue\" d=\"M414.4,-258.47C350.41,-284.97 215.33,-340.93 144.24,-370.37\"/>\n",
              "<polygon fill=\"blue\" stroke=\"blue\" points=\"143.11,-367.05 135.21,-374.11 145.79,-373.52 143.11,-367.05\"/>\n",
              "<text text-anchor=\"middle\" x=\"270.7\" y=\"-317.62\" font-family=\"Times New Roman,serif\" font-size=\"14.00\" fill=\"blue\">1.5</text>\n",
              "</g>\n",
              "<!-- ((1, 1, 1), 0)&#45;&gt;((1, 0, 0), 0) -->\n",
              "<g id=\"edge31\" class=\"edge\">\n",
              "<title>((1, 1, 1), 0)&#45;&gt;((1, 0, 0), 0)</title>\n",
              "<path fill=\"none\" stroke=\"blue\" d=\"M422.8,-216.93C385.89,-180.02 319.51,-113.64 278.79,-72.92\"/>\n",
              "<polygon fill=\"blue\" stroke=\"blue\" points=\"281.38,-70.56 271.83,-65.96 276.43,-75.51 281.38,-70.56\"/>\n",
              "<text text-anchor=\"middle\" x=\"342.17\" y=\"-148.13\" font-family=\"Times New Roman,serif\" font-size=\"14.00\" fill=\"blue\">1.0</text>\n",
              "</g>\n",
              "<!-- ((1, 1, 1), 0)&#45;&gt;((0, 1, 0), 0) -->\n",
              "<g id=\"edge30\" class=\"edge\">\n",
              "<title>((1, 1, 1), 0)&#45;&gt;((0, 1, 0), 0)</title>\n",
              "<path fill=\"none\" stroke=\"blue\" d=\"M435.11,-279.08C427.1,-298.43 417.07,-322.65 408.45,-343.46\"/>\n",
              "<polygon fill=\"blue\" stroke=\"blue\" points=\"405.26,-342.02 404.66,-352.6 411.72,-344.7 405.26,-342.02\"/>\n",
              "<text text-anchor=\"middle\" x=\"413.16\" y=\"-314.47\" font-family=\"Times New Roman,serif\" font-size=\"14.00\" fill=\"blue\">1.0</text>\n",
              "</g>\n",
              "<!-- ((1, 1, 1), 0)&#45;&gt;((0, 0, 1), 0) -->\n",
              "<g id=\"edge29\" class=\"edge\">\n",
              "<title>((1, 1, 1), 0)&#45;&gt;((0, 0, 1), 0)</title>\n",
              "<path fill=\"none\" stroke=\"blue\" d=\"M411.35,-243.84C336.49,-243.84 171.02,-243.84 87.81,-243.84\"/>\n",
              "<polygon fill=\"blue\" stroke=\"blue\" points=\"87.91,-240.34 77.91,-243.84 87.91,-247.34 87.91,-240.34\"/>\n",
              "<text text-anchor=\"middle\" x=\"258.2\" y=\"-247.04\" font-family=\"Times New Roman,serif\" font-size=\"14.00\" fill=\"blue\">1.0</text>\n",
              "</g>\n",
              "<!-- ((1, 1, 1), 0)&#45;&gt;((1, 0, 1), 0) -->\n",
              "<g id=\"edge27\" class=\"edge\">\n",
              "<title>((1, 1, 1), 0)&#45;&gt;((1, 0, 1), 0)</title>\n",
              "<path fill=\"none\" stroke=\"blue\" d=\"M416.03,-225.28C353.17,-195.82 217.88,-139.62 145.77,-112.84\"/>\n",
              "<polygon fill=\"blue\" stroke=\"blue\" points=\"147.2,-109.63 136.6,-109.47 144.79,-116.2 147.2,-109.63\"/>\n",
              "<text text-anchor=\"middle\" x=\"272.28\" y=\"-155.76\" font-family=\"Times New Roman,serif\" font-size=\"14.00\" fill=\"blue\">0.5</text>\n",
              "</g>\n",
              "<!-- ((1, 1, 1), 0)&#45;&gt;((0, 1, 1), 0) -->\n",
              "<g id=\"edge26\" class=\"edge\">\n",
              "<title>((1, 1, 1), 0)&#45;&gt;((0, 1, 1), 0)</title>\n",
              "<path fill=\"none\" stroke=\"blue\" d=\"M419.45,-267.41C380.76,-302.54 314.27,-368.81 275.1,-411.07\"/>\n",
              "<polygon fill=\"blue\" stroke=\"blue\" points=\"272.62,-408.6 268.44,-418.33 277.78,-413.33 272.62,-408.6\"/>\n",
              "<text text-anchor=\"middle\" x=\"338.65\" y=\"-325.94\" font-family=\"Times New Roman,serif\" font-size=\"14.00\" fill=\"blue\">0.5</text>\n",
              "</g>\n",
              "<!-- ((1, 1, 1), 0)&#45;&gt;((1, 1, 0), 0) -->\n",
              "<g id=\"edge28\" class=\"edge\">\n",
              "<title>((1, 1, 1), 0)&#45;&gt;((1, 1, 0), 0)</title>\n",
              "<path fill=\"none\" stroke=\"blue\" d=\"M440.68,-206.73C433.54,-186.86 423.53,-162.29 414.18,-141.56\"/>\n",
              "<polygon fill=\"blue\" stroke=\"blue\" points=\"417.37,-140.11 410,-132.49 411.01,-143.03 417.37,-140.11\"/>\n",
              "<text text-anchor=\"middle\" x=\"436.06\" y=\"-177.35\" font-family=\"Times New Roman,serif\" font-size=\"14.00\" fill=\"blue\">0.5</text>\n",
              "</g>\n",
              "<!-- ((1, 1, 1), 1) -->\n",
              "<g id=\"node9\" class=\"node\">\n",
              "<title>((1, 1, 1), 1)</title>\n",
              "<ellipse fill=\"none\" stroke=\"black\" cx=\"569.9\" cy=\"-243.84\" rx=\"37.97\" ry=\"37.97\"/>\n",
              "<text text-anchor=\"middle\" x=\"569.9\" y=\"-238.79\" font-family=\"Times New Roman,serif\" font-size=\"14.00\">((1, 1, 1), 1)</text>\n",
              "</g>\n",
              "<!-- ((1, 1, 1), 0)&#45;&gt;((1, 1, 1), 1) -->\n",
              "<g id=\"edge25\" class=\"edge\">\n",
              "<title>((1, 1, 1), 0)&#45;&gt;((1, 1, 1), 1)</title>\n",
              "<path fill=\"none\" stroke=\"red\" d=\"M487.41,-250.16C498.04,-250.59 509.76,-250.7 520.94,-250.49\"/>\n",
              "<polygon fill=\"red\" stroke=\"red\" points=\"520.93,-253.99 530.82,-250.2 520.72,-246.99 520.93,-253.99\"/>\n",
              "<text text-anchor=\"middle\" x=\"512.8\" y=\"-253.52\" font-family=\"Times New Roman,serif\" font-size=\"14.00\" fill=\"red\">1.0</text>\n",
              "</g>\n",
              "<!-- ((1, 1, 1), 1)&#45;&gt;((1, 1, 1), 0) -->\n",
              "<g id=\"edge33\" class=\"edge\">\n",
              "<title>((1, 1, 1), 1)&#45;&gt;((1, 1, 1), 0)</title>\n",
              "<path fill=\"none\" stroke=\"blue\" d=\"M532.2,-237.53C521.57,-237.1 509.86,-236.98 498.67,-237.2\"/>\n",
              "<polygon fill=\"blue\" stroke=\"blue\" points=\"498.68,-233.69 488.79,-237.49 498.89,-240.69 498.68,-233.69\"/>\n",
              "<text text-anchor=\"middle\" x=\"506.81\" y=\"-224.06\" font-family=\"Times New Roman,serif\" font-size=\"14.00\" fill=\"blue\">0.5</text>\n",
              "</g>\n",
              "<!-- ((1, 1, 1), 2) -->\n",
              "<g id=\"node10\" class=\"node\">\n",
              "<title>((1, 1, 1), 2)</title>\n",
              "<ellipse fill=\"none\" stroke=\"black\" cx=\"731.59\" cy=\"-243.84\" rx=\"37.97\" ry=\"37.97\"/>\n",
              "<text text-anchor=\"middle\" x=\"731.59\" y=\"-238.79\" font-family=\"Times New Roman,serif\" font-size=\"14.00\">((1, 1, 1), 2)</text>\n",
              "</g>\n",
              "<!-- ((1, 1, 1), 1)&#45;&gt;((1, 1, 1), 2) -->\n",
              "<g id=\"edge34\" class=\"edge\">\n",
              "<title>((1, 1, 1), 1)&#45;&gt;((1, 1, 1), 2)</title>\n",
              "<path fill=\"none\" stroke=\"red\" d=\"M607.81,-249.66C630.03,-250.73 658.34,-250.88 682.28,-250.11\"/>\n",
              "<polygon fill=\"red\" stroke=\"red\" points=\"682.27,-253.62 692.12,-249.72 681.99,-246.62 682.27,-253.62\"/>\n",
              "<text text-anchor=\"middle\" x=\"636.42\" y=\"-253.09\" font-family=\"Times New Roman,serif\" font-size=\"14.00\" fill=\"red\">1.0</text>\n",
              "</g>\n",
              "<!-- ((1, 1, 1), 2)&#45;&gt;((1, 1, 1), 1) -->\n",
              "<g id=\"edge35\" class=\"edge\">\n",
              "<title>((1, 1, 1), 2)&#45;&gt;((1, 1, 1), 1)</title>\n",
              "<path fill=\"none\" stroke=\"blue\" d=\"M693.68,-238.02C671.46,-236.96 643.14,-236.81 619.21,-237.57\"/>\n",
              "<polygon fill=\"blue\" stroke=\"blue\" points=\"619.22,-234.07 609.36,-237.96 619.49,-241.06 619.22,-234.07\"/>\n",
              "<text text-anchor=\"middle\" x=\"647.82\" y=\"-224.5\" font-family=\"Times New Roman,serif\" font-size=\"14.00\" fill=\"blue\">0.5</text>\n",
              "</g>\n",
              "<!-- ((1, 1, 1), 3) -->\n",
              "<g id=\"node11\" class=\"node\">\n",
              "<title>((1, 1, 1), 3)</title>\n",
              "<ellipse fill=\"none\" stroke=\"black\" cx=\"893.28\" cy=\"-243.84\" rx=\"37.97\" ry=\"37.97\"/>\n",
              "<text text-anchor=\"middle\" x=\"893.28\" y=\"-238.79\" font-family=\"Times New Roman,serif\" font-size=\"14.00\">((1, 1, 1), 3)</text>\n",
              "</g>\n",
              "<!-- ((1, 1, 1), 2)&#45;&gt;((1, 1, 1), 3) -->\n",
              "<g id=\"edge36\" class=\"edge\">\n",
              "<title>((1, 1, 1), 2)&#45;&gt;((1, 1, 1), 3)</title>\n",
              "<path fill=\"none\" stroke=\"red\" d=\"M769.5,-249.66C791.72,-250.73 820.03,-250.88 843.97,-250.11\"/>\n",
              "<polygon fill=\"red\" stroke=\"red\" points=\"843.96,-253.62 853.81,-249.72 843.68,-246.62 843.96,-253.62\"/>\n",
              "<text text-anchor=\"middle\" x=\"798.11\" y=\"-253.09\" font-family=\"Times New Roman,serif\" font-size=\"14.00\" fill=\"red\">1.0</text>\n",
              "</g>\n",
              "<!-- ((1, 1, 1), 3)&#45;&gt;((1, 1, 1), 2) -->\n",
              "<g id=\"edge37\" class=\"edge\">\n",
              "<title>((1, 1, 1), 3)&#45;&gt;((1, 1, 1), 2)</title>\n",
              "<path fill=\"none\" stroke=\"blue\" d=\"M855.37,-238.02C833.15,-236.96 804.83,-236.81 780.89,-237.57\"/>\n",
              "<polygon fill=\"blue\" stroke=\"blue\" points=\"780.91,-234.07 771.05,-237.96 781.18,-241.06 780.91,-234.07\"/>\n",
              "<text text-anchor=\"middle\" x=\"809.51\" y=\"-224.5\" font-family=\"Times New Roman,serif\" font-size=\"14.00\" fill=\"blue\">0.5</text>\n",
              "</g>\n",
              "</g>\n",
              "</svg>\n"
            ],
            "text/plain": [
              "<graphviz.graphs.Digraph at 0x2e276454a70>"
            ]
          },
          "metadata": {},
          "output_type": "display_data"
        }
      ],
      "source": [
        "def draw_graph(graph: dict):\n",
        "    g = Digraph(engine=\"circo\") # engine=\"sfdp\"\n",
        "    g.attr(overlap=\"prism\") # overlap=\"scalexy\"\n",
        "\n",
        "    for node, neighbours in graph.items():\n",
        "        for neighbour, weight in neighbours.items():\n",
        "            from_id = str(S[node])\n",
        "            to_id = str(S[neighbour])\n",
        "\n",
        "            assert weight - 0.001 > 0, f\"{weight = }\"\n",
        "\n",
        "            g.node(from_id, from_id, shape=\"circle\", margin=\"0\")\n",
        "\n",
        "            if sum(S[node][0]) + S[node][1] < sum(S[neighbour][0]) + S[neighbour][1]:\n",
        "                color = \"red\" \n",
        "            else:\n",
        "                color = \"blue\"\n",
        "\n",
        "            g.edge(from_id, to_id, f\"{1.0 * weight:.3}\", color=color, fontcolor=color)\n",
        "    return g\n",
        "\n",
        "\n",
        "display(draw_graph(available_states))"
      ]
    },
    {
      "cell_type": "code",
      "execution_count": 34,
      "id": "19260a92-43cf-4575-9f7c-fcea3ec582ca",
      "metadata": {
        "colab": {
          "base_uri": "https://localhost:8080/",
          "height": 817
        },
        "id": "19260a92-43cf-4575-9f7c-fcea3ec582ca",
        "outputId": "912a5e9a-2114-4dc9-9341-369d9f104a3f"
      },
      "outputs": [
        {
          "data": {
            "application/vnd.plotly.v1+json": {
              "config": {
                "plotlyServerURL": "https://plot.ly"
              },
              "data": [
                {
                  "coloraxis": "coloraxis",
                  "hovertemplate": "x: %{x}<br>y: %{y}<br>color: %{z}<extra></extra>",
                  "name": "0",
                  "texttemplate": "%{z}",
                  "type": "heatmap",
                  "xaxis": "x",
                  "yaxis": "y",
                  "z": [
                    [
                      -1,
                      0.15,
                      0.25,
                      0,
                      0.6,
                      0,
                      0,
                      0,
                      0,
                      0,
                      0
                    ],
                    [
                      0.5,
                      -1.5,
                      0,
                      0.29411764705882354,
                      0,
                      0.7058823529411765,
                      0,
                      0,
                      0,
                      0,
                      0
                    ],
                    [
                      0.5,
                      0,
                      -1.5,
                      0.19999999999999998,
                      0,
                      0,
                      0.7999999999999999,
                      0,
                      0,
                      0,
                      0
                    ],
                    [
                      1,
                      0.5,
                      0.5,
                      -3,
                      0,
                      0,
                      0,
                      1,
                      0,
                      0,
                      0
                    ],
                    [
                      0.5,
                      0,
                      0,
                      0,
                      -1.5,
                      0.37499999999999994,
                      0.625,
                      0,
                      0,
                      0,
                      0
                    ],
                    [
                      1,
                      0.5,
                      0,
                      0,
                      0.5,
                      -3,
                      0,
                      1,
                      0,
                      0,
                      0
                    ],
                    [
                      1,
                      0,
                      0.5,
                      0,
                      0.5,
                      0,
                      -3,
                      1,
                      0,
                      0,
                      0
                    ],
                    [
                      1.5,
                      1,
                      1,
                      0.5,
                      1,
                      0.5,
                      0.5,
                      -7,
                      1,
                      0,
                      0
                    ],
                    [
                      0,
                      0,
                      0,
                      0,
                      0,
                      0,
                      0,
                      0.5,
                      -1.5,
                      1,
                      0
                    ],
                    [
                      0,
                      0,
                      0,
                      0,
                      0,
                      0,
                      0,
                      0,
                      0.5,
                      -1.5,
                      1
                    ],
                    [
                      0,
                      0,
                      0,
                      0,
                      0,
                      0,
                      0,
                      0,
                      0,
                      0.5,
                      -0.5
                    ]
                  ]
                }
              ],
              "layout": {
                "coloraxis": {
                  "cmid": 0,
                  "colorscale": [
                    [
                      0,
                      "red"
                    ],
                    [
                      0.5,
                      "#f8f8f8"
                    ],
                    [
                      1,
                      "green"
                    ]
                  ]
                },
                "height": 800,
                "margin": {
                  "t": 60
                },
                "template": {
                  "data": {
                    "bar": [
                      {
                        "error_x": {
                          "color": "#2a3f5f"
                        },
                        "error_y": {
                          "color": "#2a3f5f"
                        },
                        "marker": {
                          "line": {
                            "color": "#E5ECF6",
                            "width": 0.5
                          },
                          "pattern": {
                            "fillmode": "overlay",
                            "size": 10,
                            "solidity": 0.2
                          }
                        },
                        "type": "bar"
                      }
                    ],
                    "barpolar": [
                      {
                        "marker": {
                          "line": {
                            "color": "#E5ECF6",
                            "width": 0.5
                          },
                          "pattern": {
                            "fillmode": "overlay",
                            "size": 10,
                            "solidity": 0.2
                          }
                        },
                        "type": "barpolar"
                      }
                    ],
                    "carpet": [
                      {
                        "aaxis": {
                          "endlinecolor": "#2a3f5f",
                          "gridcolor": "white",
                          "linecolor": "white",
                          "minorgridcolor": "white",
                          "startlinecolor": "#2a3f5f"
                        },
                        "baxis": {
                          "endlinecolor": "#2a3f5f",
                          "gridcolor": "white",
                          "linecolor": "white",
                          "minorgridcolor": "white",
                          "startlinecolor": "#2a3f5f"
                        },
                        "type": "carpet"
                      }
                    ],
                    "choropleth": [
                      {
                        "colorbar": {
                          "outlinewidth": 0,
                          "ticks": ""
                        },
                        "type": "choropleth"
                      }
                    ],
                    "contour": [
                      {
                        "colorbar": {
                          "outlinewidth": 0,
                          "ticks": ""
                        },
                        "colorscale": [
                          [
                            0,
                            "#0d0887"
                          ],
                          [
                            0.1111111111111111,
                            "#46039f"
                          ],
                          [
                            0.2222222222222222,
                            "#7201a8"
                          ],
                          [
                            0.3333333333333333,
                            "#9c179e"
                          ],
                          [
                            0.4444444444444444,
                            "#bd3786"
                          ],
                          [
                            0.5555555555555556,
                            "#d8576b"
                          ],
                          [
                            0.6666666666666666,
                            "#ed7953"
                          ],
                          [
                            0.7777777777777778,
                            "#fb9f3a"
                          ],
                          [
                            0.8888888888888888,
                            "#fdca26"
                          ],
                          [
                            1,
                            "#f0f921"
                          ]
                        ],
                        "type": "contour"
                      }
                    ],
                    "contourcarpet": [
                      {
                        "colorbar": {
                          "outlinewidth": 0,
                          "ticks": ""
                        },
                        "type": "contourcarpet"
                      }
                    ],
                    "heatmap": [
                      {
                        "colorbar": {
                          "outlinewidth": 0,
                          "ticks": ""
                        },
                        "colorscale": [
                          [
                            0,
                            "#0d0887"
                          ],
                          [
                            0.1111111111111111,
                            "#46039f"
                          ],
                          [
                            0.2222222222222222,
                            "#7201a8"
                          ],
                          [
                            0.3333333333333333,
                            "#9c179e"
                          ],
                          [
                            0.4444444444444444,
                            "#bd3786"
                          ],
                          [
                            0.5555555555555556,
                            "#d8576b"
                          ],
                          [
                            0.6666666666666666,
                            "#ed7953"
                          ],
                          [
                            0.7777777777777778,
                            "#fb9f3a"
                          ],
                          [
                            0.8888888888888888,
                            "#fdca26"
                          ],
                          [
                            1,
                            "#f0f921"
                          ]
                        ],
                        "type": "heatmap"
                      }
                    ],
                    "heatmapgl": [
                      {
                        "colorbar": {
                          "outlinewidth": 0,
                          "ticks": ""
                        },
                        "colorscale": [
                          [
                            0,
                            "#0d0887"
                          ],
                          [
                            0.1111111111111111,
                            "#46039f"
                          ],
                          [
                            0.2222222222222222,
                            "#7201a8"
                          ],
                          [
                            0.3333333333333333,
                            "#9c179e"
                          ],
                          [
                            0.4444444444444444,
                            "#bd3786"
                          ],
                          [
                            0.5555555555555556,
                            "#d8576b"
                          ],
                          [
                            0.6666666666666666,
                            "#ed7953"
                          ],
                          [
                            0.7777777777777778,
                            "#fb9f3a"
                          ],
                          [
                            0.8888888888888888,
                            "#fdca26"
                          ],
                          [
                            1,
                            "#f0f921"
                          ]
                        ],
                        "type": "heatmapgl"
                      }
                    ],
                    "histogram": [
                      {
                        "marker": {
                          "pattern": {
                            "fillmode": "overlay",
                            "size": 10,
                            "solidity": 0.2
                          }
                        },
                        "type": "histogram"
                      }
                    ],
                    "histogram2d": [
                      {
                        "colorbar": {
                          "outlinewidth": 0,
                          "ticks": ""
                        },
                        "colorscale": [
                          [
                            0,
                            "#0d0887"
                          ],
                          [
                            0.1111111111111111,
                            "#46039f"
                          ],
                          [
                            0.2222222222222222,
                            "#7201a8"
                          ],
                          [
                            0.3333333333333333,
                            "#9c179e"
                          ],
                          [
                            0.4444444444444444,
                            "#bd3786"
                          ],
                          [
                            0.5555555555555556,
                            "#d8576b"
                          ],
                          [
                            0.6666666666666666,
                            "#ed7953"
                          ],
                          [
                            0.7777777777777778,
                            "#fb9f3a"
                          ],
                          [
                            0.8888888888888888,
                            "#fdca26"
                          ],
                          [
                            1,
                            "#f0f921"
                          ]
                        ],
                        "type": "histogram2d"
                      }
                    ],
                    "histogram2dcontour": [
                      {
                        "colorbar": {
                          "outlinewidth": 0,
                          "ticks": ""
                        },
                        "colorscale": [
                          [
                            0,
                            "#0d0887"
                          ],
                          [
                            0.1111111111111111,
                            "#46039f"
                          ],
                          [
                            0.2222222222222222,
                            "#7201a8"
                          ],
                          [
                            0.3333333333333333,
                            "#9c179e"
                          ],
                          [
                            0.4444444444444444,
                            "#bd3786"
                          ],
                          [
                            0.5555555555555556,
                            "#d8576b"
                          ],
                          [
                            0.6666666666666666,
                            "#ed7953"
                          ],
                          [
                            0.7777777777777778,
                            "#fb9f3a"
                          ],
                          [
                            0.8888888888888888,
                            "#fdca26"
                          ],
                          [
                            1,
                            "#f0f921"
                          ]
                        ],
                        "type": "histogram2dcontour"
                      }
                    ],
                    "mesh3d": [
                      {
                        "colorbar": {
                          "outlinewidth": 0,
                          "ticks": ""
                        },
                        "type": "mesh3d"
                      }
                    ],
                    "parcoords": [
                      {
                        "line": {
                          "colorbar": {
                            "outlinewidth": 0,
                            "ticks": ""
                          }
                        },
                        "type": "parcoords"
                      }
                    ],
                    "pie": [
                      {
                        "automargin": true,
                        "type": "pie"
                      }
                    ],
                    "scatter": [
                      {
                        "fillpattern": {
                          "fillmode": "overlay",
                          "size": 10,
                          "solidity": 0.2
                        },
                        "type": "scatter"
                      }
                    ],
                    "scatter3d": [
                      {
                        "line": {
                          "colorbar": {
                            "outlinewidth": 0,
                            "ticks": ""
                          }
                        },
                        "marker": {
                          "colorbar": {
                            "outlinewidth": 0,
                            "ticks": ""
                          }
                        },
                        "type": "scatter3d"
                      }
                    ],
                    "scattercarpet": [
                      {
                        "marker": {
                          "colorbar": {
                            "outlinewidth": 0,
                            "ticks": ""
                          }
                        },
                        "type": "scattercarpet"
                      }
                    ],
                    "scattergeo": [
                      {
                        "marker": {
                          "colorbar": {
                            "outlinewidth": 0,
                            "ticks": ""
                          }
                        },
                        "type": "scattergeo"
                      }
                    ],
                    "scattergl": [
                      {
                        "marker": {
                          "colorbar": {
                            "outlinewidth": 0,
                            "ticks": ""
                          }
                        },
                        "type": "scattergl"
                      }
                    ],
                    "scattermapbox": [
                      {
                        "marker": {
                          "colorbar": {
                            "outlinewidth": 0,
                            "ticks": ""
                          }
                        },
                        "type": "scattermapbox"
                      }
                    ],
                    "scatterpolar": [
                      {
                        "marker": {
                          "colorbar": {
                            "outlinewidth": 0,
                            "ticks": ""
                          }
                        },
                        "type": "scatterpolar"
                      }
                    ],
                    "scatterpolargl": [
                      {
                        "marker": {
                          "colorbar": {
                            "outlinewidth": 0,
                            "ticks": ""
                          }
                        },
                        "type": "scatterpolargl"
                      }
                    ],
                    "scatterternary": [
                      {
                        "marker": {
                          "colorbar": {
                            "outlinewidth": 0,
                            "ticks": ""
                          }
                        },
                        "type": "scatterternary"
                      }
                    ],
                    "surface": [
                      {
                        "colorbar": {
                          "outlinewidth": 0,
                          "ticks": ""
                        },
                        "colorscale": [
                          [
                            0,
                            "#0d0887"
                          ],
                          [
                            0.1111111111111111,
                            "#46039f"
                          ],
                          [
                            0.2222222222222222,
                            "#7201a8"
                          ],
                          [
                            0.3333333333333333,
                            "#9c179e"
                          ],
                          [
                            0.4444444444444444,
                            "#bd3786"
                          ],
                          [
                            0.5555555555555556,
                            "#d8576b"
                          ],
                          [
                            0.6666666666666666,
                            "#ed7953"
                          ],
                          [
                            0.7777777777777778,
                            "#fb9f3a"
                          ],
                          [
                            0.8888888888888888,
                            "#fdca26"
                          ],
                          [
                            1,
                            "#f0f921"
                          ]
                        ],
                        "type": "surface"
                      }
                    ],
                    "table": [
                      {
                        "cells": {
                          "fill": {
                            "color": "#EBF0F8"
                          },
                          "line": {
                            "color": "white"
                          }
                        },
                        "header": {
                          "fill": {
                            "color": "#C8D4E3"
                          },
                          "line": {
                            "color": "white"
                          }
                        },
                        "type": "table"
                      }
                    ]
                  },
                  "layout": {
                    "annotationdefaults": {
                      "arrowcolor": "#2a3f5f",
                      "arrowhead": 0,
                      "arrowwidth": 1
                    },
                    "autotypenumbers": "strict",
                    "coloraxis": {
                      "colorbar": {
                        "outlinewidth": 0,
                        "ticks": ""
                      }
                    },
                    "colorscale": {
                      "diverging": [
                        [
                          0,
                          "#8e0152"
                        ],
                        [
                          0.1,
                          "#c51b7d"
                        ],
                        [
                          0.2,
                          "#de77ae"
                        ],
                        [
                          0.3,
                          "#f1b6da"
                        ],
                        [
                          0.4,
                          "#fde0ef"
                        ],
                        [
                          0.5,
                          "#f7f7f7"
                        ],
                        [
                          0.6,
                          "#e6f5d0"
                        ],
                        [
                          0.7,
                          "#b8e186"
                        ],
                        [
                          0.8,
                          "#7fbc41"
                        ],
                        [
                          0.9,
                          "#4d9221"
                        ],
                        [
                          1,
                          "#276419"
                        ]
                      ],
                      "sequential": [
                        [
                          0,
                          "#0d0887"
                        ],
                        [
                          0.1111111111111111,
                          "#46039f"
                        ],
                        [
                          0.2222222222222222,
                          "#7201a8"
                        ],
                        [
                          0.3333333333333333,
                          "#9c179e"
                        ],
                        [
                          0.4444444444444444,
                          "#bd3786"
                        ],
                        [
                          0.5555555555555556,
                          "#d8576b"
                        ],
                        [
                          0.6666666666666666,
                          "#ed7953"
                        ],
                        [
                          0.7777777777777778,
                          "#fb9f3a"
                        ],
                        [
                          0.8888888888888888,
                          "#fdca26"
                        ],
                        [
                          1,
                          "#f0f921"
                        ]
                      ],
                      "sequentialminus": [
                        [
                          0,
                          "#0d0887"
                        ],
                        [
                          0.1111111111111111,
                          "#46039f"
                        ],
                        [
                          0.2222222222222222,
                          "#7201a8"
                        ],
                        [
                          0.3333333333333333,
                          "#9c179e"
                        ],
                        [
                          0.4444444444444444,
                          "#bd3786"
                        ],
                        [
                          0.5555555555555556,
                          "#d8576b"
                        ],
                        [
                          0.6666666666666666,
                          "#ed7953"
                        ],
                        [
                          0.7777777777777778,
                          "#fb9f3a"
                        ],
                        [
                          0.8888888888888888,
                          "#fdca26"
                        ],
                        [
                          1,
                          "#f0f921"
                        ]
                      ]
                    },
                    "colorway": [
                      "#636efa",
                      "#EF553B",
                      "#00cc96",
                      "#ab63fa",
                      "#FFA15A",
                      "#19d3f3",
                      "#FF6692",
                      "#B6E880",
                      "#FF97FF",
                      "#FECB52"
                    ],
                    "font": {
                      "color": "#2a3f5f"
                    },
                    "geo": {
                      "bgcolor": "white",
                      "lakecolor": "white",
                      "landcolor": "#E5ECF6",
                      "showlakes": true,
                      "showland": true,
                      "subunitcolor": "white"
                    },
                    "hoverlabel": {
                      "align": "left"
                    },
                    "hovermode": "closest",
                    "mapbox": {
                      "style": "light"
                    },
                    "paper_bgcolor": "white",
                    "plot_bgcolor": "#E5ECF6",
                    "polar": {
                      "angularaxis": {
                        "gridcolor": "white",
                        "linecolor": "white",
                        "ticks": ""
                      },
                      "bgcolor": "#E5ECF6",
                      "radialaxis": {
                        "gridcolor": "white",
                        "linecolor": "white",
                        "ticks": ""
                      }
                    },
                    "scene": {
                      "xaxis": {
                        "backgroundcolor": "#E5ECF6",
                        "gridcolor": "white",
                        "gridwidth": 2,
                        "linecolor": "white",
                        "showbackground": true,
                        "ticks": "",
                        "zerolinecolor": "white"
                      },
                      "yaxis": {
                        "backgroundcolor": "#E5ECF6",
                        "gridcolor": "white",
                        "gridwidth": 2,
                        "linecolor": "white",
                        "showbackground": true,
                        "ticks": "",
                        "zerolinecolor": "white"
                      },
                      "zaxis": {
                        "backgroundcolor": "#E5ECF6",
                        "gridcolor": "white",
                        "gridwidth": 2,
                        "linecolor": "white",
                        "showbackground": true,
                        "ticks": "",
                        "zerolinecolor": "white"
                      }
                    },
                    "shapedefaults": {
                      "line": {
                        "color": "#2a3f5f"
                      }
                    },
                    "ternary": {
                      "aaxis": {
                        "gridcolor": "white",
                        "linecolor": "white",
                        "ticks": ""
                      },
                      "baxis": {
                        "gridcolor": "white",
                        "linecolor": "white",
                        "ticks": ""
                      },
                      "bgcolor": "#E5ECF6",
                      "caxis": {
                        "gridcolor": "white",
                        "linecolor": "white",
                        "ticks": ""
                      }
                    },
                    "title": {
                      "x": 0.05
                    },
                    "xaxis": {
                      "automargin": true,
                      "gridcolor": "white",
                      "linecolor": "white",
                      "ticks": "",
                      "title": {
                        "standoff": 15
                      },
                      "zerolinecolor": "white",
                      "zerolinewidth": 2
                    },
                    "yaxis": {
                      "automargin": true,
                      "gridcolor": "white",
                      "linecolor": "white",
                      "ticks": "",
                      "title": {
                        "standoff": 15
                      },
                      "zerolinecolor": "white",
                      "zerolinewidth": 2
                    }
                  }
                },
                "title": {
                  "text": "Filtered Transition Rate Matrix"
                },
                "xaxis": {
                  "anchor": "y",
                  "constrain": "domain",
                  "domain": [
                    0,
                    1
                  ],
                  "scaleanchor": "y",
                  "title": {
                    "text": "Next State"
                  }
                },
                "yaxis": {
                  "anchor": "x",
                  "autorange": "reversed",
                  "constrain": "domain",
                  "domain": [
                    0,
                    1
                  ],
                  "title": {
                    "text": "Current State"
                  }
                }
              }
            }
          },
          "metadata": {},
          "output_type": "display_data"
        }
      ],
      "source": [
        "def make_transition_rate_matrix(graph: dict):\n",
        "    index = {s: i for i, s in enumerate(graph)}\n",
        "\n",
        "    n = len(graph)\n",
        "    matrix = np.zeros((n, n))\n",
        "\n",
        "    for from_state, to_states in graph.items():\n",
        "        for to_state, rate in to_states.items():\n",
        "            matrix[index[from_state], index[to_state]] = rate\n",
        "\n",
        "    for i in range(n):\n",
        "        matrix[i, i] = -sum(matrix[i, :])\n",
        "\n",
        "    return matrix\n",
        "\n",
        "transition_rate_matrix = make_transition_rate_matrix(available_states)\n",
        "\n",
        "fig = px.imshow(\n",
        "    transition_rate_matrix,\n",
        "    text_auto = True,\n",
        "    height = 800,\n",
        "    color_continuous_scale = [[0, 'red'], [0.5, '#f8f8f8'], [1, 'green']],\n",
        "    color_continuous_midpoint = 0.0,\n",
        ")\n",
        "fig.update_layout(\n",
        "    title='Filtered Transition Rate Matrix',\n",
        "    xaxis_title='Next State',\n",
        "    yaxis_title='Current State',\n",
        ")\n",
        "fig.show()"
      ]
    },
    {
      "cell_type": "code",
      "execution_count": 35,
      "id": "6890ab04-0c83-47f2-ba18-753a07285163",
      "metadata": {
        "colab": {
          "base_uri": "https://localhost:8080/"
        },
        "id": "6890ab04-0c83-47f2-ba18-753a07285163",
        "outputId": "9c915e9a-faef-4570-8d49-0b2eb19a4a7d"
      },
      "outputs": [
        {
          "name": "stdout",
          "output_type": "stream",
          "text": [
            "  0. ((0, 0, 0), 0):  0.295774647887324\n",
            "  1. ((0, 0, 1), 0):  0.059540426476271384\n",
            "  2. ((0, 1, 0), 0):  0.08684967725396114\n",
            "  3. ((0, 1, 1), 0):  0.014757165650791465\n",
            "  4. ((1, 0, 0), 0):  0.16346905119934493\n",
            "  5. ((1, 0, 1), 0):  0.03757303396581609\n",
            "  6. ((1, 1, 0), 0):  0.060345856721420614\n",
            "  7. ((1, 1, 1), 0):  0.018779342723004695\n",
            "  8. ((1, 1, 1), 1):  0.037558685446009384\n",
            "  9. ((1, 1, 1), 2):  0.07511737089201874\n",
            " 10. ((1, 1, 1), 3):  0.15023474178403748\n",
            "\n",
            "Σ = 1.0\n"
          ]
        }
      ],
      "source": [
        "def get_probs_of_states(transition_rate_matrix):\n",
        "    shape = transition_rate_matrix.shape\n",
        "    assert len(shape) == 2\n",
        "    assert shape[0] == shape[1]\n",
        "    n = shape[0]\n",
        "\n",
        "    equations = transition_rate_matrix.T\n",
        "    equations[0, :] = np.ones(n)\n",
        "    bvector = np.zeros(n)\n",
        "    bvector[0] = 1\n",
        "    return np.linalg.solve(equations, bvector)\n",
        "\n",
        "\n",
        "probs = get_probs_of_states(transition_rate_matrix)\n",
        "\n",
        "for i, (si, p) in enumerate(zip(available_states.keys(), probs)):\n",
        "    print(f\"{i: 3}. {S[si]}:  {p}\")\n",
        "\n",
        "print(f\"\\nΣ = {sum(probs)}\")"
      ]
    },
    {
      "cell_type": "code",
      "execution_count": 36,
      "id": "AmyxKM8o9oqS",
      "metadata": {
        "colab": {
          "base_uri": "https://localhost:8080/"
        },
        "id": "AmyxKM8o9oqS",
        "outputId": "883df965-dec8-4603-b964-30c96b95db74"
      },
      "outputs": [
        {
          "name": "stdout",
          "output_type": "stream",
          "text": [
            "Нагрузка            y = [1.2 0.5 0.3], Σy = 2.0\n",
            "Загрузка            ρ = [0.54307808 0.44364284 0.39356077], Σρ = 1.3802816901408446\n",
            "Длина очереди       l = 1.915\n",
            "Число заявок        m = [1.18157574 1.08214049 1.03205842], Σm 3.2957746478873227\n",
            "Время ожидания      w = [ 3.19248826  7.66197183 12.76995305], Σw 1.915492957746478\n",
            "Время пребывания    u = [1.96929289 4.32856197 6.88038946], Σu 3.2957746478873227\n",
            "Вероятность потери  π = [0. 0. 0.], Σπ 0.0\n",
            "Производительность  λ' = [0.6  0.25 0.15], Σλ' 1.0\n"
          ]
        }
      ],
      "source": [
        "# TODO\n",
        "\n",
        "y = np.array(P_SERVER) * (ARRIVAL_RATE / DEPARTURE_RATE)  # Нагрузка\n",
        "pbusy = np.zeros(N)  # Загрузка\n",
        "l = 0  # np.zeros(N) # Длина очереди\n",
        "m = np.zeros(N)  # Число заявок\n",
        "prod = np.zeros(N)  # Производительность\n",
        "loss = np.zeros(N)  # Вероятность потери\n",
        "wtime = np.zeros(N)  # Время ожидания\n",
        "ttime = np.zeros(N)  # Время пребывания\n",
        "\n",
        "for si, prob in zip(available_states.keys(), probs):\n",
        "    servers, queue_size = S[si]\n",
        "\n",
        "    for i, server in enumerate(servers):\n",
        "        if server == BUSY:\n",
        "            pbusy[i] += prob\n",
        "\n",
        "            m[i] += prob * (1 + queue_size)\n",
        "\n",
        "        # L[i] += prob * queue_size\n",
        "        l += prob * queue_size\n",
        "\n",
        "        # Probability of loss?\n",
        "        # if queue_size == QUEUE_MAX_SIZE and server == BUSY:\n",
        "        #   loss[i] += prob\n",
        "\n",
        "prod = ARRIVAL_RATE * np.array(P_SERVER) * (1 - loss)\n",
        "wtime = l / prod\n",
        "ttime = m / prod\n",
        "\n",
        "print(f\"Нагрузка            y = {y}, Σy = {sum(y)}\")\n",
        "print(f\"Загрузка            ρ = {pbusy}, Σρ = {sum(pbusy)}\")\n",
        "print(f\"Длина очереди       l = {l:.4}\")  # Очередь единственная\n",
        "print(f\"Число заявок        m = {m}, Σm {sum(m)}\")  # TODO\n",
        "print(f\"Время ожидания      w = {wtime}, Σw {l / sum(prod)}\")  # TODO\n",
        "print(f\"Время пребывания    u = {ttime}, Σu {sum(m) / sum(prod)}\")  # TODO\n",
        "print(f\"Вероятность потери  π = {loss}, Σπ {sum(loss * P_SERVER)}\")  # TODO\n",
        "print(f\"Производительность  λ' = {prod}, Σλ' {sum(prod)}\")  # TODO"
      ]
    },
    {
      "cell_type": "markdown",
      "id": "00a8cee3",
      "metadata": {},
      "source": [
        "[модель системы_1 в GPSS](../lab-3/smo%20GGKE_lab-2_system-1.txt)\n",
        "\n",
        "![](../lab-3/res/system-1_report_block-hit-rate.png)\n",
        "![](../lab-3/res/system-1_report_servers.png)\n",
        "![](../lab-3/res/system-1_report_queues.png)"
      ]
    }
  ],
  "metadata": {
    "colab": {
      "provenance": []
    },
    "kernelspec": {
      "display_name": ".venv",
      "language": "python",
      "name": "python3"
    },
    "language_info": {
      "codemirror_mode": {
        "name": "ipython",
        "version": 3
      },
      "file_extension": ".py",
      "mimetype": "text/x-python",
      "name": "python",
      "nbconvert_exporter": "python",
      "pygments_lexer": "ipython3",
      "version": "3.12.6"
    }
  },
  "nbformat": 4,
  "nbformat_minor": 5
}
