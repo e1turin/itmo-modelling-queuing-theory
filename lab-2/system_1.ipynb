{
  "cells": [
    {
      "cell_type": "code",
      "execution_count": 1,
      "id": "85107e3a-f1e9-4704-8c9d-8e41d56c8fd6",
      "metadata": {
        "id": "85107e3a-f1e9-4704-8c9d-8e41d56c8fd6"
      },
      "outputs": [],
      "source": [
        "# !pip install -r requirements.txt\n",
        "%reset -f\n",
        "import plotly.express as px\n",
        "from graphviz import Digraph\n",
        "from itertools import product, combinations\n",
        "import numpy as np"
      ]
    },
    {
      "cell_type": "markdown",
      "id": "8bfd0d06",
      "metadata": {},
      "source": [
        "![](./res/lab-1_system-1.png)"
      ]
    },
    {
      "cell_type": "code",
      "execution_count": 2,
      "id": "30944866-8d36-43f2-8ab0-485cbd015b7a",
      "metadata": {
        "colab": {
          "base_uri": "https://localhost:8080/"
        },
        "id": "30944866-8d36-43f2-8ab0-485cbd015b7a",
        "outputId": "fcfe9f35-af7a-4316-bd51-1188e5bc56f3"
      },
      "outputs": [
        {
          "name": "stdout",
          "output_type": "stream",
          "text": [
            "λ = 1\n",
            "b = 2 ⇒ μ = 0.5\n",
            "\n",
            "Probability pi of selecting server i:\n",
            "p1 = 0.6\n",
            "p2 = 0.25\n",
            "p3 = 0.15\n"
          ]
        }
      ],
      "source": [
        "ARRIVAL_RATE = LAMBDA = 1 # λ\n",
        "SERVICE_TIME = B = 2\n",
        "DEPARTURE_RATE = MU = 1 / B # μ\n",
        "QUEUE_MAX_SIZE = 3\n",
        "print(f\"λ = {LAMBDA}\")\n",
        "print(f\"b = {B} ⇒ μ = {MU}\")\n",
        "\n",
        "NUM_SERVERS = N = 3\n",
        "P_SERVER = [0.6, 0.25, 0.15]\n",
        "assert len(P_SERVER) == N\n",
        "assert sum(P_SERVER) == 1\n",
        "\n",
        "print(\"\\nProbability pi of selecting server i:\")\n",
        "for i, p in enumerate(P_SERVER):\n",
        "    print(f\"p{i + 1} = {p}\")"
      ]
    },
    {
      "cell_type": "code",
      "execution_count": 3,
      "id": "0Y9tDZlyTdkX",
      "metadata": {
        "id": "0Y9tDZlyTdkX"
      },
      "outputs": [],
      "source": [
        "SERVER_STATES = [IDLE, BUSY] = [0, 1]  # idle / busy\n",
        "QUEUE_STATES = list(range(0, QUEUE_MAX_SIZE + 1))  # has jobs or empty\n",
        "\n",
        "SERVERS_STATES_COMBINED = list(product(SERVER_STATES, repeat=N))\n",
        "ALL_STATES_COMBINED = S = list(product(SERVERS_STATES_COMBINED, QUEUE_STATES))\n",
        "STATES_INDEX = SI = {s: i for i, s in enumerate(ALL_STATES_COMBINED)}"
      ]
    },
    {
      "cell_type": "code",
      "execution_count": 4,
      "id": "8df44b1d-63c1-451d-a0a6-3422ee60a5b8",
      "metadata": {
        "id": "8df44b1d-63c1-451d-a0a6-3422ee60a5b8"
      },
      "outputs": [
        {
          "name": "stdout",
          "output_type": "stream",
          "text": [
            "0:  ((0, 0, 0), 0)\n",
            "  [0.6000]-> 16\n",
            "  [0.2500]-> 8\n",
            "  [0.1500]-> 4\n",
            "4:  ((0, 0, 1), 0)\n",
            "  [0.5000]-> 0\n",
            "  [0.7059]-> 20\n",
            "  [0.2941]-> 12\n",
            "8:  ((0, 1, 0), 0)\n",
            "  [0.5000]-> 0\n",
            "  [0.8000]-> 24\n",
            "  [0.2000]-> 12\n",
            "12:  ((0, 1, 1), 0)\n",
            "  [0.5000]-> 4\n",
            "  [0.5000]-> 8\n",
            "  [1.0000]-> 28\n",
            "16:  ((1, 0, 0), 0)\n",
            "  [0.5000]-> 0\n",
            "  [0.6250]-> 24\n",
            "  [0.3750]-> 20\n",
            "20:  ((1, 0, 1), 0)\n",
            "  [0.5000]-> 4\n",
            "  [0.5000]-> 16\n",
            "  [1.0000]-> 28\n",
            "24:  ((1, 1, 0), 0)\n",
            "  [0.5000]-> 8\n",
            "  [0.5000]-> 16\n",
            "  [1.0000]-> 28\n",
            "28:  ((1, 1, 1), 0)\n",
            "  [1.0000]-> 29\n",
            "  [0.5000]-> 12\n",
            "  [0.5000]-> 20\n",
            "  [0.5000]-> 24\n",
            "29:  ((1, 1, 1), 1)\n",
            "  [1.5000]-> 28\n",
            "  [1.0000]-> 30\n",
            "30:  ((1, 1, 1), 2)\n",
            "  [1.5000]-> 29\n",
            "  [1.0000]-> 31\n",
            "31:  ((1, 1, 1), 3)\n",
            "  [1.5000]-> 30\n"
          ]
        }
      ],
      "source": [
        "def make_state_graph(\n",
        "    allow_simultaneous_job_completion=True,\n",
        "    allow_simultaneous_queue_departure=True,\n",
        "    allow_selecting_server_with_probability=True,\n",
        "    allow_selection_probability_correction=True,\n",
        "    allow_parellel_service_rate_nonempty_queue=True,\n",
        "    allow_parellel_service_rate_empty_queue=True,\n",
        "):\n",
        "    \"\"\"\n",
        "    servers |queue |\n",
        "    ========+======+\n",
        "            |#|*|0 |\n",
        "    --------+-+-+--+\n",
        "    |(1,1,1)|s|s|sq|\n",
        "    |   *   |x|x| q|\n",
        "    |(0,0,0)|x|x| q|\n",
        "\n",
        "    # = full queue\n",
        "    * = any middle values\n",
        "    x = impossible (1)\n",
        "    s = solved with condition on servers (2), (3)\n",
        "    q = solved with condition on queue (4)\n",
        "    \"\"\"\n",
        "    transitions_rates = {}  # weighted digraph of transitions between states with rate\n",
        "\n",
        "    for i, current_state in enumerate(ALL_STATES_COMBINED):\n",
        "        servers, queue_size = current_state\n",
        "\n",
        "        transitions_rates[i] = {}\n",
        "\n",
        "        _all_servers_busy = all(map(lambda s: s == BUSY, servers))\n",
        "        _all_servers_idle = all(map(lambda s: s == IDLE, servers))\n",
        "        _full_queue = queue_size == QUEUE_MAX_SIZE\n",
        "        _empty_queue = queue_size == 0\n",
        "\n",
        "        if not _empty_queue and not _all_servers_busy:\n",
        "            \"\"\"\n",
        "                (1) Impossible situation in Marcov process: \n",
        "                        if in queue there is at least 1 job \n",
        "                        then no idle server can exist.\n",
        "            \"\"\"\n",
        "            continue\n",
        "\n",
        "        if _all_servers_busy:\n",
        "            \"\"\"\n",
        "                (2) When all servers are busy and queue is full\n",
        "                    we can just drop new jobs or take one job from queue.\n",
        "                (3) When all servers are busy we can\n",
        "                        add job to queue\n",
        "                        or take one job from the queue.\n",
        "                    In Marcov process we can't do job\n",
        "                    and add new one to queue at once.\n",
        "            \"\"\"\n",
        "            if not _empty_queue:\n",
        "                next_state = (servers, queue_size - 1)\n",
        "                if allow_parellel_service_rate_nonempty_queue:\n",
        "                    transitions_rates[i][SI[next_state]] = DEPARTURE_RATE * sum(servers)\n",
        "                else:\n",
        "                    transitions_rates[i][SI[next_state]] = DEPARTURE_RATE\n",
        "\n",
        "                if allow_simultaneous_queue_departure:\n",
        "                    pass\n",
        "\n",
        "            if not _full_queue:\n",
        "                next_state = (servers, queue_size + 1)\n",
        "                transitions_rates[i][SI[next_state]] = ARRIVAL_RATE\n",
        "\n",
        "        if _empty_queue:\n",
        "            \"\"\"\n",
        "                (4) On empty queue we can \n",
        "                        transit each busy server state to idle\n",
        "                        or load any idle server because of (1).\n",
        "                \n",
        "            \"\"\"\n",
        "            # complete jobs\n",
        "            if not _all_servers_idle:\n",
        "                busy_servers = [j for j, s in enumerate(servers) if s == BUSY]\n",
        "\n",
        "                for j in busy_servers:\n",
        "                    next_servers_states = list(servers)\n",
        "                    next_servers_states[j] = IDLE\n",
        "                    next_state = (tuple(next_servers_states), queue_size)\n",
        "                    if allow_parellel_service_rate_nonempty_queue:\n",
        "                        transitions_rates[i][SI[next_state]] = DEPARTURE_RATE\n",
        "                    else:\n",
        "                        transitions_rates[i][SI[next_state]] = DEPARTURE_RATE\n",
        "\n",
        "                if allow_simultaneous_job_completion:\n",
        "                    for j in range(len(busy_servers)):\n",
        "                        for complete_servers in combinations(busy_servers, j + 1):\n",
        "                            next_servers_states = list(servers)\n",
        "                            for k in complete_servers:\n",
        "                                next_servers_states[k] = IDLE\n",
        "                            next_state = (tuple(next_servers_states), queue_size)\n",
        "                            transitions_rates[i][SI[next_state]] = DEPARTURE_RATE * len(complete_servers)\n",
        "\n",
        "            # load idle servers\n",
        "            if not _all_servers_busy:\n",
        "                idle_servers = [j for j, s in enumerate(servers) if s == IDLE]\n",
        "                relative_sum_rate = sum([P_SERVER[j] for j in idle_servers])\n",
        "\n",
        "                for j in idle_servers:\n",
        "                    next_servers_states = list(servers)\n",
        "                    next_servers_states[j] = BUSY\n",
        "                    next_state = (tuple(next_servers_states), queue_size)\n",
        "\n",
        "                    if allow_selecting_server_with_probability:\n",
        "                        if allow_selection_probability_correction:\n",
        "                            relative_rate = P_SERVER[j] / relative_sum_rate\n",
        "                        else:\n",
        "                            relative_rate = P_SERVER[j]\n",
        "                    else:\n",
        "                        relative_rate = 1\n",
        "\n",
        "                    transitions_rates[i][SI[next_state]] = ARRIVAL_RATE * relative_rate\n",
        "\n",
        "    return {k: v for k, v in transitions_rates.items() if v}\n",
        "\n",
        "\n",
        "available_states = make_state_graph(\n",
        "    allow_simultaneous_job_completion=False,\n",
        "    allow_simultaneous_queue_departure=False,\n",
        "    allow_selecting_server_with_probability=True,\n",
        "    allow_selection_probability_correction=True,\n",
        "    allow_parellel_service_rate_nonempty_queue=True,\n",
        "    allow_parellel_service_rate_empty_queue=True,\n",
        ")\n",
        "\n",
        "for state, transitions in available_states.items():\n",
        "    print(f\"{state}:  {S[state]}\")\n",
        "    for next_state, rate in transitions.items():\n",
        "        print(f\"  [{rate:.4f}]-> {next_state}\")"
      ]
    },
    {
      "cell_type": "code",
      "execution_count": 5,
      "id": "1917eb13-8701-4087-ba1c-849d392086ff",
      "metadata": {
        "colab": {
          "base_uri": "https://localhost:8080/",
          "height": 563
        },
        "id": "1917eb13-8701-4087-ba1c-849d392086ff",
        "outputId": "3ced94b5-4171-43ad-f94a-752767431ee8"
      },
      "outputs": [
        {
          "data": {
            "image/svg+xml": [
              "<?xml version=\"1.0\" encoding=\"UTF-8\" standalone=\"no\"?>\n",
              "<!DOCTYPE svg PUBLIC \"-//W3C//DTD SVG 1.1//EN\"\n",
              " \"http://www.w3.org/Graphics/SVG/1.1/DTD/svg11.dtd\">\n",
              "<!-- Generated by graphviz version 12.2.1 (20241206.2353)\n",
              " -->\n",
              "<!-- Pages: 1 -->\n",
              "<svg width=\"988pt\" height=\"519pt\"\n",
              " viewBox=\"0.00 0.00 987.54 518.93\" xmlns=\"http://www.w3.org/2000/svg\" xmlns:xlink=\"http://www.w3.org/1999/xlink\">\n",
              "<g id=\"graph0\" class=\"graph\" transform=\"scale(1 1) rotate(0) translate(4 514.93)\">\n",
              "<polygon fill=\"white\" stroke=\"none\" points=\"-4,4 -4,-514.93 983.54,-514.93 983.54,4 -4,4\"/>\n",
              "<!-- ((0, 0, 0), 0) -->\n",
              "<g id=\"node1\" class=\"node\">\n",
              "<title>((0, 0, 0), 0)</title>\n",
              "<ellipse fill=\"none\" stroke=\"black\" cx=\"37.97\" cy=\"-255.47\" rx=\"37.97\" ry=\"37.97\"/>\n",
              "<text text-anchor=\"middle\" x=\"37.97\" y=\"-250.42\" font-family=\"Times New Roman,serif\" font-size=\"14.00\">((0, 0, 0), 0)</text>\n",
              "</g>\n",
              "<!-- ((1, 0, 0), 0) -->\n",
              "<g id=\"node2\" class=\"node\">\n",
              "<title>((1, 0, 0), 0)</title>\n",
              "<ellipse fill=\"none\" stroke=\"black\" cx=\"101.68\" cy=\"-409.26\" rx=\"37.97\" ry=\"37.97\"/>\n",
              "<text text-anchor=\"middle\" x=\"101.68\" y=\"-404.21\" font-family=\"Times New Roman,serif\" font-size=\"14.00\">((1, 0, 0), 0)</text>\n",
              "</g>\n",
              "<!-- ((0, 0, 0), 0)&#45;&gt;((1, 0, 0), 0) -->\n",
              "<g id=\"edge1\" class=\"edge\">\n",
              "<title>((0, 0, 0), 0)&#45;&gt;((1, 0, 0), 0)</title>\n",
              "<path fill=\"none\" stroke=\"red\" d=\"M47.11,-292.57C55.06,-314.75 66.61,-343.03 77.11,-366.19\"/>\n",
              "<polygon fill=\"red\" stroke=\"red\" points=\"73.83,-367.45 81.2,-375.06 80.19,-364.52 73.83,-367.45\"/>\n",
              "<text text-anchor=\"middle\" x=\"53.48\" y=\"-332.58\" font-family=\"Times New Roman,serif\" font-size=\"14.00\" fill=\"red\">0.6</text>\n",
              "</g>\n",
              "<!-- ((0, 1, 0), 0) -->\n",
              "<g id=\"node3\" class=\"node\">\n",
              "<title>((0, 1, 0), 0)</title>\n",
              "<ellipse fill=\"none\" stroke=\"black\" cx=\"255.47\" cy=\"-37.97\" rx=\"37.97\" ry=\"37.97\"/>\n",
              "<text text-anchor=\"middle\" x=\"255.47\" y=\"-32.92\" font-family=\"Times New Roman,serif\" font-size=\"14.00\">((0, 1, 0), 0)</text>\n",
              "</g>\n",
              "<!-- ((0, 0, 0), 0)&#45;&gt;((0, 1, 0), 0) -->\n",
              "<g id=\"edge2\" class=\"edge\">\n",
              "<title>((0, 0, 0), 0)&#45;&gt;((0, 1, 0), 0)</title>\n",
              "<path fill=\"none\" stroke=\"red\" d=\"M67.9,-232.06C109.01,-194.73 182.39,-121.59 224.18,-76.49\"/>\n",
              "<polygon fill=\"red\" stroke=\"red\" points=\"226.64,-78.98 230.83,-69.25 221.49,-74.25 226.64,-78.98\"/>\n",
              "<text text-anchor=\"middle\" x=\"134.04\" y=\"-157.47\" font-family=\"Times New Roman,serif\" font-size=\"14.00\" fill=\"red\">0.25</text>\n",
              "</g>\n",
              "<!-- ((0, 0, 1), 0) -->\n",
              "<g id=\"node4\" class=\"node\">\n",
              "<title>((0, 0, 1), 0)</title>\n",
              "<ellipse fill=\"none\" stroke=\"black\" cx=\"409.26\" cy=\"-409.26\" rx=\"37.97\" ry=\"37.97\"/>\n",
              "<text text-anchor=\"middle\" x=\"409.26\" y=\"-404.21\" font-family=\"Times New Roman,serif\" font-size=\"14.00\">((0, 0, 1), 0)</text>\n",
              "</g>\n",
              "<!-- ((0, 0, 0), 0)&#45;&gt;((0, 0, 1), 0) -->\n",
              "<g id=\"edge3\" class=\"edge\">\n",
              "<title>((0, 0, 0), 0)&#45;&gt;((0, 0, 1), 0)</title>\n",
              "<path fill=\"none\" stroke=\"red\" d=\"M71.64,-273.92C137.93,-304.93 285.44,-366.2 361.65,-394.55\"/>\n",
              "<polygon fill=\"red\" stroke=\"red\" points=\"360.35,-397.79 370.94,-397.96 362.76,-391.22 360.35,-397.79\"/>\n",
              "<text text-anchor=\"middle\" x=\"204.65\" y=\"-337.43\" font-family=\"Times New Roman,serif\" font-size=\"14.00\" fill=\"red\">0.15</text>\n",
              "</g>\n",
              "<!-- ((1, 0, 0), 0)&#45;&gt;((0, 0, 0), 0) -->\n",
              "<g id=\"edge13\" class=\"edge\">\n",
              "<title>((1, 0, 0), 0)&#45;&gt;((0, 0, 0), 0)</title>\n",
              "<path fill=\"none\" stroke=\"blue\" d=\"M92.54,-372.15C84.59,-349.97 73.04,-321.69 62.54,-298.53\"/>\n",
              "<polygon fill=\"blue\" stroke=\"blue\" points=\"65.82,-297.27 58.44,-289.66 59.46,-300.2 65.82,-297.27\"/>\n",
              "<text text-anchor=\"middle\" x=\"86.17\" y=\"-338.54\" font-family=\"Times New Roman,serif\" font-size=\"14.00\" fill=\"blue\">0.5</text>\n",
              "</g>\n",
              "<!-- ((1, 0, 1), 0) -->\n",
              "<g id=\"node5\" class=\"node\">\n",
              "<title>((1, 0, 1), 0)</title>\n",
              "<ellipse fill=\"none\" stroke=\"black\" cx=\"255.47\" cy=\"-472.96\" rx=\"37.97\" ry=\"37.97\"/>\n",
              "<text text-anchor=\"middle\" x=\"255.47\" y=\"-467.91\" font-family=\"Times New Roman,serif\" font-size=\"14.00\">((1, 0, 1), 0)</text>\n",
              "</g>\n",
              "<!-- ((1, 0, 0), 0)&#45;&gt;((1, 0, 1), 0) -->\n",
              "<g id=\"edge15\" class=\"edge\">\n",
              "<title>((1, 0, 0), 0)&#45;&gt;((1, 0, 1), 0)</title>\n",
              "<path fill=\"none\" stroke=\"red\" d=\"M134.37,-429.03C155.68,-439.1 183.84,-450.92 207.64,-459.88\"/>\n",
              "<polygon fill=\"red\" stroke=\"red\" points=\"206.22,-463.09 216.81,-463.26 208.64,-456.52 206.22,-463.09\"/>\n",
              "<text text-anchor=\"middle\" x=\"155.63\" y=\"-447.66\" font-family=\"Times New Roman,serif\" font-size=\"14.00\" fill=\"red\">0.375</text>\n",
              "</g>\n",
              "<!-- ((1, 1, 0), 0) -->\n",
              "<g id=\"node7\" class=\"node\">\n",
              "<title>((1, 1, 0), 0)</title>\n",
              "<ellipse fill=\"none\" stroke=\"black\" cx=\"101.68\" cy=\"-101.68\" rx=\"37.97\" ry=\"37.97\"/>\n",
              "<text text-anchor=\"middle\" x=\"101.68\" y=\"-96.63\" font-family=\"Times New Roman,serif\" font-size=\"14.00\">((1, 1, 0), 0)</text>\n",
              "</g>\n",
              "<!-- ((1, 0, 0), 0)&#45;&gt;((1, 1, 0), 0) -->\n",
              "<g id=\"edge14\" class=\"edge\">\n",
              "<title>((1, 0, 0), 0)&#45;&gt;((1, 1, 0), 0)</title>\n",
              "<path fill=\"none\" stroke=\"red\" d=\"M106.3,-371.23C108.96,-315.66 109.12,-212.24 106.78,-150.92\"/>\n",
              "<polygon fill=\"red\" stroke=\"red\" points=\"110.29,-150.97 106.36,-141.12 103.3,-151.26 110.29,-150.97\"/>\n",
              "<text text-anchor=\"middle\" x=\"91.17\" y=\"-264.28\" font-family=\"Times New Roman,serif\" font-size=\"14.00\" fill=\"red\">0.625</text>\n",
              "</g>\n",
              "<!-- ((0, 1, 0), 0)&#45;&gt;((0, 0, 0), 0) -->\n",
              "<g id=\"edge7\" class=\"edge\">\n",
              "<title>((0, 1, 0), 0)&#45;&gt;((0, 0, 0), 0)</title>\n",
              "<path fill=\"none\" stroke=\"blue\" d=\"M225.53,-61.38C184.43,-98.71 111.05,-171.85 69.26,-216.95\"/>\n",
              "<polygon fill=\"blue\" stroke=\"blue\" points=\"66.8,-214.46 62.61,-224.19 71.95,-219.19 66.8,-214.46\"/>\n",
              "<text text-anchor=\"middle\" x=\"156.02\" y=\"-142.37\" font-family=\"Times New Roman,serif\" font-size=\"14.00\" fill=\"blue\">0.5</text>\n",
              "</g>\n",
              "<!-- ((0, 1, 1), 0) -->\n",
              "<g id=\"node6\" class=\"node\">\n",
              "<title>((0, 1, 1), 0)</title>\n",
              "<ellipse fill=\"none\" stroke=\"black\" cx=\"409.26\" cy=\"-101.68\" rx=\"37.97\" ry=\"37.97\"/>\n",
              "<text text-anchor=\"middle\" x=\"409.26\" y=\"-96.63\" font-family=\"Times New Roman,serif\" font-size=\"14.00\">((0, 1, 1), 0)</text>\n",
              "</g>\n",
              "<!-- ((0, 1, 0), 0)&#45;&gt;((0, 1, 1), 0) -->\n",
              "<g id=\"edge9\" class=\"edge\">\n",
              "<title>((0, 1, 0), 0)&#45;&gt;((0, 1, 1), 0)</title>\n",
              "<path fill=\"none\" stroke=\"red\" d=\"M288.16,-57.75C309.47,-67.81 337.63,-79.64 361.43,-88.6\"/>\n",
              "<polygon fill=\"red\" stroke=\"red\" points=\"360.01,-91.81 370.6,-91.97 362.43,-85.24 360.01,-91.81\"/>\n",
              "<text text-anchor=\"middle\" x=\"316.17\" y=\"-76.38\" font-family=\"Times New Roman,serif\" font-size=\"14.00\" fill=\"red\">0.2</text>\n",
              "</g>\n",
              "<!-- ((0, 1, 0), 0)&#45;&gt;((1, 1, 0), 0) -->\n",
              "<g id=\"edge8\" class=\"edge\">\n",
              "<title>((0, 1, 0), 0)&#45;&gt;((1, 1, 0), 0)</title>\n",
              "<path fill=\"none\" stroke=\"red\" d=\"M218.36,-47.11C196.18,-55.06 167.9,-66.61 144.74,-77.11\"/>\n",
              "<polygon fill=\"red\" stroke=\"red\" points=\"143.48,-73.83 135.87,-81.2 146.41,-80.19 143.48,-73.83\"/>\n",
              "<text text-anchor=\"middle\" x=\"172.93\" y=\"-48.81\" font-family=\"Times New Roman,serif\" font-size=\"14.00\" fill=\"red\">0.8</text>\n",
              "</g>\n",
              "<!-- ((0, 0, 1), 0)&#45;&gt;((0, 0, 0), 0) -->\n",
              "<g id=\"edge4\" class=\"edge\">\n",
              "<title>((0, 0, 1), 0)&#45;&gt;((0, 0, 0), 0)</title>\n",
              "<path fill=\"none\" stroke=\"blue\" d=\"M375.58,-390.8C309.3,-359.79 161.79,-298.52 85.58,-270.18\"/>\n",
              "<polygon fill=\"blue\" stroke=\"blue\" points=\"86.88,-266.93 76.29,-266.76 84.47,-273.5 86.88,-266.93\"/>\n",
              "<text text-anchor=\"middle\" x=\"221.95\" y=\"-317.19\" font-family=\"Times New Roman,serif\" font-size=\"14.00\" fill=\"blue\">0.5</text>\n",
              "</g>\n",
              "<!-- ((0, 0, 1), 0)&#45;&gt;((1, 0, 1), 0) -->\n",
              "<g id=\"edge5\" class=\"edge\">\n",
              "<title>((0, 0, 1), 0)&#45;&gt;((1, 0, 1), 0)</title>\n",
              "<path fill=\"none\" stroke=\"red\" d=\"M372.15,-418.39C349.97,-426.34 321.69,-437.89 298.53,-448.39\"/>\n",
              "<polygon fill=\"red\" stroke=\"red\" points=\"297.27,-445.11 289.66,-452.49 300.2,-451.47 297.27,-445.11\"/>\n",
              "<text text-anchor=\"middle\" x=\"319.97\" y=\"-420.09\" font-family=\"Times New Roman,serif\" font-size=\"14.00\" fill=\"red\">0.706</text>\n",
              "</g>\n",
              "<!-- ((0, 0, 1), 0)&#45;&gt;((0, 1, 1), 0) -->\n",
              "<g id=\"edge6\" class=\"edge\">\n",
              "<title>((0, 0, 1), 0)&#45;&gt;((0, 1, 1), 0)</title>\n",
              "<path fill=\"none\" stroke=\"red\" d=\"M413.88,-371.23C416.54,-315.66 416.7,-212.24 414.36,-150.92\"/>\n",
              "<polygon fill=\"red\" stroke=\"red\" points=\"417.87,-150.97 413.94,-141.12 410.87,-151.26 417.87,-150.97\"/>\n",
              "<text text-anchor=\"middle\" x=\"398.75\" y=\"-264.28\" font-family=\"Times New Roman,serif\" font-size=\"14.00\" fill=\"red\">0.294</text>\n",
              "</g>\n",
              "<!-- ((1, 0, 1), 0)&#45;&gt;((1, 0, 0), 0) -->\n",
              "<g id=\"edge17\" class=\"edge\">\n",
              "<title>((1, 0, 1), 0)&#45;&gt;((1, 0, 0), 0)</title>\n",
              "<path fill=\"none\" stroke=\"blue\" d=\"M222.77,-453.18C201.46,-443.12 173.3,-431.29 149.5,-422.33\"/>\n",
              "<polygon fill=\"blue\" stroke=\"blue\" points=\"150.92,-419.13 140.33,-418.96 148.5,-425.69 150.92,-419.13\"/>\n",
              "<text text-anchor=\"middle\" x=\"177.51\" y=\"-424.46\" font-family=\"Times New Roman,serif\" font-size=\"14.00\" fill=\"blue\">0.5</text>\n",
              "</g>\n",
              "<!-- ((1, 0, 1), 0)&#45;&gt;((0, 0, 1), 0) -->\n",
              "<g id=\"edge16\" class=\"edge\">\n",
              "<title>((1, 0, 1), 0)&#45;&gt;((0, 0, 1), 0)</title>\n",
              "<path fill=\"none\" stroke=\"blue\" d=\"M292.57,-463.82C314.75,-455.87 343.03,-444.33 366.19,-433.83\"/>\n",
              "<polygon fill=\"blue\" stroke=\"blue\" points=\"367.45,-437.1 375.06,-429.73 364.52,-430.74 367.45,-437.1\"/>\n",
              "<text text-anchor=\"middle\" x=\"320.76\" y=\"-452.02\" font-family=\"Times New Roman,serif\" font-size=\"14.00\" fill=\"blue\">0.5</text>\n",
              "</g>\n",
              "<!-- ((1, 1, 1), 0) -->\n",
              "<g id=\"node8\" class=\"node\">\n",
              "<title>((1, 1, 1), 0)</title>\n",
              "<ellipse fill=\"none\" stroke=\"black\" cx=\"472.96\" cy=\"-255.47\" rx=\"37.97\" ry=\"37.97\"/>\n",
              "<text text-anchor=\"middle\" x=\"472.96\" y=\"-250.42\" font-family=\"Times New Roman,serif\" font-size=\"14.00\">((1, 1, 1), 0)</text>\n",
              "</g>\n",
              "<!-- ((1, 0, 1), 0)&#45;&gt;((1, 1, 1), 0) -->\n",
              "<g id=\"edge18\" class=\"edge\">\n",
              "<title>((1, 0, 1), 0)&#45;&gt;((1, 1, 1), 0)</title>\n",
              "<path fill=\"none\" stroke=\"red\" d=\"M285.4,-449.55C326.5,-412.22 399.88,-339.08 441.67,-293.98\"/>\n",
              "<polygon fill=\"red\" stroke=\"red\" points=\"444.13,-296.47 448.32,-286.74 438.98,-291.74 444.13,-296.47\"/>\n",
              "<text text-anchor=\"middle\" x=\"354.91\" y=\"-374.97\" font-family=\"Times New Roman,serif\" font-size=\"14.00\" fill=\"red\">1.0</text>\n",
              "</g>\n",
              "<!-- ((0, 1, 1), 0)&#45;&gt;((0, 1, 0), 0) -->\n",
              "<g id=\"edge11\" class=\"edge\">\n",
              "<title>((0, 1, 1), 0)&#45;&gt;((0, 1, 0), 0)</title>\n",
              "<path fill=\"none\" stroke=\"blue\" d=\"M376.56,-81.9C355.25,-71.83 327.09,-60.01 303.29,-51.05\"/>\n",
              "<polygon fill=\"blue\" stroke=\"blue\" points=\"304.71,-47.84 294.12,-47.68 302.29,-54.41 304.71,-47.84\"/>\n",
              "<text text-anchor=\"middle\" x=\"331.3\" y=\"-53.17\" font-family=\"Times New Roman,serif\" font-size=\"14.00\" fill=\"blue\">0.5</text>\n",
              "</g>\n",
              "<!-- ((0, 1, 1), 0)&#45;&gt;((0, 0, 1), 0) -->\n",
              "<g id=\"edge10\" class=\"edge\">\n",
              "<title>((0, 1, 1), 0)&#45;&gt;((0, 0, 1), 0)</title>\n",
              "<path fill=\"none\" stroke=\"blue\" d=\"M404.63,-139.7C401.97,-195.27 401.81,-298.69 404.15,-360.01\"/>\n",
              "<polygon fill=\"blue\" stroke=\"blue\" points=\"400.64,-359.96 404.57,-369.81 407.64,-359.67 400.64,-359.96\"/>\n",
              "<text text-anchor=\"middle\" x=\"395.76\" y=\"-236.56\" font-family=\"Times New Roman,serif\" font-size=\"14.00\" fill=\"blue\">0.5</text>\n",
              "</g>\n",
              "<!-- ((0, 1, 1), 0)&#45;&gt;((1, 1, 1), 0) -->\n",
              "<g id=\"edge12\" class=\"edge\">\n",
              "<title>((0, 1, 1), 0)&#45;&gt;((1, 1, 1), 0)</title>\n",
              "<path fill=\"none\" stroke=\"red\" d=\"M418.39,-138.78C426.34,-160.96 437.89,-189.24 448.39,-212.4\"/>\n",
              "<polygon fill=\"red\" stroke=\"red\" points=\"445.11,-213.66 452.49,-221.27 451.47,-210.73 445.11,-213.66\"/>\n",
              "<text text-anchor=\"middle\" x=\"424.76\" y=\"-178.79\" font-family=\"Times New Roman,serif\" font-size=\"14.00\" fill=\"red\">1.0</text>\n",
              "</g>\n",
              "<!-- ((1, 1, 0), 0)&#45;&gt;((1, 0, 0), 0) -->\n",
              "<g id=\"edge20\" class=\"edge\">\n",
              "<title>((1, 1, 0), 0)&#45;&gt;((1, 0, 0), 0)</title>\n",
              "<path fill=\"none\" stroke=\"blue\" d=\"M97.05,-139.7C94.39,-195.27 94.23,-298.69 96.57,-360.01\"/>\n",
              "<polygon fill=\"blue\" stroke=\"blue\" points=\"93.06,-359.96 96.99,-369.81 100.06,-359.67 93.06,-359.96\"/>\n",
              "<text text-anchor=\"middle\" x=\"88.18\" y=\"-236.56\" font-family=\"Times New Roman,serif\" font-size=\"14.00\" fill=\"blue\">0.5</text>\n",
              "</g>\n",
              "<!-- ((1, 1, 0), 0)&#45;&gt;((0, 1, 0), 0) -->\n",
              "<g id=\"edge19\" class=\"edge\">\n",
              "<title>((1, 1, 0), 0)&#45;&gt;((0, 1, 0), 0)</title>\n",
              "<path fill=\"none\" stroke=\"blue\" d=\"M138.78,-92.54C160.96,-84.59 189.24,-73.04 212.4,-62.54\"/>\n",
              "<polygon fill=\"blue\" stroke=\"blue\" points=\"213.66,-65.82 221.27,-58.44 210.73,-59.46 213.66,-65.82\"/>\n",
              "<text text-anchor=\"middle\" x=\"166.97\" y=\"-80.74\" font-family=\"Times New Roman,serif\" font-size=\"14.00\" fill=\"blue\">0.5</text>\n",
              "</g>\n",
              "<!-- ((1, 1, 0), 0)&#45;&gt;((1, 1, 1), 0) -->\n",
              "<g id=\"edge21\" class=\"edge\">\n",
              "<title>((1, 1, 0), 0)&#45;&gt;((1, 1, 1), 0)</title>\n",
              "<path fill=\"none\" stroke=\"red\" d=\"M135.35,-120.13C201.63,-151.14 349.14,-212.41 425.35,-240.76\"/>\n",
              "<polygon fill=\"red\" stroke=\"red\" points=\"424.05,-244 434.64,-244.17 426.46,-237.43 424.05,-244\"/>\n",
              "<text text-anchor=\"middle\" x=\"271.73\" y=\"-183.64\" font-family=\"Times New Roman,serif\" font-size=\"14.00\" fill=\"red\">1.0</text>\n",
              "</g>\n",
              "<!-- ((1, 1, 1), 0)&#45;&gt;((1, 0, 1), 0) -->\n",
              "<g id=\"edge24\" class=\"edge\">\n",
              "<title>((1, 1, 1), 0)&#45;&gt;((1, 0, 1), 0)</title>\n",
              "<path fill=\"none\" stroke=\"blue\" d=\"M443.03,-278.87C401.92,-316.2 328.54,-389.34 286.75,-434.44\"/>\n",
              "<polygon fill=\"blue\" stroke=\"blue\" points=\"284.29,-431.95 280.1,-441.68 289.44,-436.68 284.29,-431.95\"/>\n",
              "<text text-anchor=\"middle\" x=\"356.26\" y=\"-343.36\" font-family=\"Times New Roman,serif\" font-size=\"14.00\" fill=\"blue\">0.5</text>\n",
              "</g>\n",
              "<!-- ((1, 1, 1), 0)&#45;&gt;((0, 1, 1), 0) -->\n",
              "<g id=\"edge23\" class=\"edge\">\n",
              "<title>((1, 1, 1), 0)&#45;&gt;((0, 1, 1), 0)</title>\n",
              "<path fill=\"none\" stroke=\"blue\" d=\"M463.82,-218.36C455.87,-196.18 444.33,-167.9 433.83,-144.74\"/>\n",
              "<polygon fill=\"blue\" stroke=\"blue\" points=\"437.1,-143.48 429.73,-135.87 430.74,-146.41 437.1,-143.48\"/>\n",
              "<text text-anchor=\"middle\" x=\"457.45\" y=\"-184.75\" font-family=\"Times New Roman,serif\" font-size=\"14.00\" fill=\"blue\">0.5</text>\n",
              "</g>\n",
              "<!-- ((1, 1, 1), 0)&#45;&gt;((1, 1, 0), 0) -->\n",
              "<g id=\"edge25\" class=\"edge\">\n",
              "<title>((1, 1, 1), 0)&#45;&gt;((1, 1, 0), 0)</title>\n",
              "<path fill=\"none\" stroke=\"blue\" d=\"M439.29,-237.01C373,-206 225.49,-144.73 149.28,-116.39\"/>\n",
              "<polygon fill=\"blue\" stroke=\"blue\" points=\"150.58,-113.14 139.99,-112.97 148.17,-119.71 150.58,-113.14\"/>\n",
              "<text text-anchor=\"middle\" x=\"285.66\" y=\"-163.4\" font-family=\"Times New Roman,serif\" font-size=\"14.00\" fill=\"blue\">0.5</text>\n",
              "</g>\n",
              "<!-- ((1, 1, 1), 1) -->\n",
              "<g id=\"node9\" class=\"node\">\n",
              "<title>((1, 1, 1), 1)</title>\n",
              "<ellipse fill=\"none\" stroke=\"black\" cx=\"599.93\" cy=\"-255.47\" rx=\"37.97\" ry=\"37.97\"/>\n",
              "<text text-anchor=\"middle\" x=\"599.93\" y=\"-250.42\" font-family=\"Times New Roman,serif\" font-size=\"14.00\">((1, 1, 1), 1)</text>\n",
              "</g>\n",
              "<!-- ((1, 1, 1), 0)&#45;&gt;((1, 1, 1), 1) -->\n",
              "<g id=\"edge22\" class=\"edge\">\n",
              "<title>((1, 1, 1), 0)&#45;&gt;((1, 1, 1), 1)</title>\n",
              "<path fill=\"none\" stroke=\"red\" d=\"M510.71,-261.7C523.26,-262.23 537.43,-262.35 550.72,-262.06\"/>\n",
              "<polygon fill=\"red\" stroke=\"red\" points=\"550.71,-265.56 560.59,-261.75 550.49,-258.57 550.71,-265.56\"/>\n",
              "<text text-anchor=\"middle\" x=\"522.09\" y=\"-265.08\" font-family=\"Times New Roman,serif\" font-size=\"14.00\" fill=\"red\">1.0</text>\n",
              "</g>\n",
              "<!-- ((1, 1, 1), 1)&#45;&gt;((1, 1, 1), 0) -->\n",
              "<g id=\"edge26\" class=\"edge\">\n",
              "<title>((1, 1, 1), 1)&#45;&gt;((1, 1, 1), 0)</title>\n",
              "<path fill=\"none\" stroke=\"blue\" d=\"M562.18,-249.23C549.63,-248.7 535.46,-248.58 522.17,-248.87\"/>\n",
              "<polygon fill=\"blue\" stroke=\"blue\" points=\"522.18,-245.37 512.3,-249.18 522.4,-252.36 522.18,-245.37\"/>\n",
              "<text text-anchor=\"middle\" x=\"533.55\" y=\"-235.75\" font-family=\"Times New Roman,serif\" font-size=\"14.00\" fill=\"blue\">1.5</text>\n",
              "</g>\n",
              "<!-- ((1, 1, 1), 2) -->\n",
              "<g id=\"node10\" class=\"node\">\n",
              "<title>((1, 1, 1), 2)</title>\n",
              "<ellipse fill=\"none\" stroke=\"black\" cx=\"770.75\" cy=\"-255.47\" rx=\"37.97\" ry=\"37.97\"/>\n",
              "<text text-anchor=\"middle\" x=\"770.75\" y=\"-250.42\" font-family=\"Times New Roman,serif\" font-size=\"14.00\">((1, 1, 1), 2)</text>\n",
              "</g>\n",
              "<!-- ((1, 1, 1), 1)&#45;&gt;((1, 1, 1), 2) -->\n",
              "<g id=\"edge27\" class=\"edge\">\n",
              "<title>((1, 1, 1), 1)&#45;&gt;((1, 1, 1), 2)</title>\n",
              "<path fill=\"none\" stroke=\"red\" d=\"M637.84,-261.19C662.5,-262.38 694.9,-262.54 721.54,-261.64\"/>\n",
              "<polygon fill=\"red\" stroke=\"red\" points=\"721.58,-265.15 731.43,-261.24 721.3,-258.15 721.58,-265.15\"/>\n",
              "<text text-anchor=\"middle\" x=\"671.07\" y=\"-264.61\" font-family=\"Times New Roman,serif\" font-size=\"14.00\" fill=\"red\">1.0</text>\n",
              "</g>\n",
              "<!-- ((1, 1, 1), 2)&#45;&gt;((1, 1, 1), 1) -->\n",
              "<g id=\"edge28\" class=\"edge\">\n",
              "<title>((1, 1, 1), 2)&#45;&gt;((1, 1, 1), 1)</title>\n",
              "<path fill=\"none\" stroke=\"blue\" d=\"M732.84,-249.75C708.18,-248.55 675.78,-248.39 649.14,-249.29\"/>\n",
              "<polygon fill=\"blue\" stroke=\"blue\" points=\"649.1,-245.78 639.25,-249.69 649.38,-252.78 649.1,-245.78\"/>\n",
              "<text text-anchor=\"middle\" x=\"682.36\" y=\"-236.22\" font-family=\"Times New Roman,serif\" font-size=\"14.00\" fill=\"blue\">1.5</text>\n",
              "</g>\n",
              "<!-- ((1, 1, 1), 3) -->\n",
              "<g id=\"node11\" class=\"node\">\n",
              "<title>((1, 1, 1), 3)</title>\n",
              "<ellipse fill=\"none\" stroke=\"black\" cx=\"941.57\" cy=\"-255.47\" rx=\"37.97\" ry=\"37.97\"/>\n",
              "<text text-anchor=\"middle\" x=\"941.57\" y=\"-250.42\" font-family=\"Times New Roman,serif\" font-size=\"14.00\">((1, 1, 1), 3)</text>\n",
              "</g>\n",
              "<!-- ((1, 1, 1), 2)&#45;&gt;((1, 1, 1), 3) -->\n",
              "<g id=\"edge29\" class=\"edge\">\n",
              "<title>((1, 1, 1), 2)&#45;&gt;((1, 1, 1), 3)</title>\n",
              "<path fill=\"none\" stroke=\"red\" d=\"M808.66,-261.19C833.32,-262.38 865.72,-262.54 892.36,-261.64\"/>\n",
              "<polygon fill=\"red\" stroke=\"red\" points=\"892.4,-265.15 902.25,-261.24 892.12,-258.15 892.4,-265.15\"/>\n",
              "<text text-anchor=\"middle\" x=\"841.88\" y=\"-264.61\" font-family=\"Times New Roman,serif\" font-size=\"14.00\" fill=\"red\">1.0</text>\n",
              "</g>\n",
              "<!-- ((1, 1, 1), 3)&#45;&gt;((1, 1, 1), 2) -->\n",
              "<g id=\"edge30\" class=\"edge\">\n",
              "<title>((1, 1, 1), 3)&#45;&gt;((1, 1, 1), 2)</title>\n",
              "<path fill=\"none\" stroke=\"blue\" d=\"M903.66,-249.75C879,-248.55 846.59,-248.39 819.96,-249.29\"/>\n",
              "<polygon fill=\"blue\" stroke=\"blue\" points=\"819.91,-245.78 810.06,-249.69 820.2,-252.78 819.91,-245.78\"/>\n",
              "<text text-anchor=\"middle\" x=\"853.18\" y=\"-236.22\" font-family=\"Times New Roman,serif\" font-size=\"14.00\" fill=\"blue\">1.5</text>\n",
              "</g>\n",
              "</g>\n",
              "</svg>\n"
            ],
            "text/plain": [
              "<graphviz.graphs.Digraph at 0x29d56873a70>"
            ]
          },
          "metadata": {},
          "output_type": "display_data"
        }
      ],
      "source": [
        "def draw_graph(graph: dict):\n",
        "    g = Digraph(engine=\"circo\") # engine=\"sfdp\"\n",
        "    g.attr(overlap=\"prism\") # overlap=\"scalexy\"\n",
        "\n",
        "    for node, neighbours in graph.items():\n",
        "        for neighbour, weight in neighbours.items():\n",
        "            from_id = str(S[node])\n",
        "            to_id = str(S[neighbour])\n",
        "\n",
        "            assert weight - 0.001 > 0, f\"{weight = }\"\n",
        "\n",
        "            g.node(from_id, from_id, shape=\"circle\", margin=\"0\")\n",
        "\n",
        "            if sum(S[node][0]) + S[node][1] < sum(S[neighbour][0]) + S[neighbour][1]:\n",
        "                color = \"red\" \n",
        "            else:\n",
        "                color = \"blue\"\n",
        "\n",
        "            g.edge(from_id, to_id, f\"{1.0 * weight:.3}\", color=color, fontcolor=color)\n",
        "    return g\n",
        "\n",
        "\n",
        "display(draw_graph(available_states))"
      ]
    },
    {
      "cell_type": "code",
      "execution_count": 6,
      "id": "19260a92-43cf-4575-9f7c-fcea3ec582ca",
      "metadata": {
        "colab": {
          "base_uri": "https://localhost:8080/",
          "height": 817
        },
        "id": "19260a92-43cf-4575-9f7c-fcea3ec582ca",
        "outputId": "912a5e9a-2114-4dc9-9341-369d9f104a3f"
      },
      "outputs": [
        {
          "data": {
            "application/vnd.plotly.v1+json": {
              "config": {
                "plotlyServerURL": "https://plot.ly"
              },
              "data": [
                {
                  "coloraxis": "coloraxis",
                  "hovertemplate": "x: %{x}<br>y: %{y}<br>color: %{z}<extra></extra>",
                  "name": "0",
                  "texttemplate": "%{z}",
                  "type": "heatmap",
                  "xaxis": "x",
                  "yaxis": "y",
                  "z": [
                    [
                      -1,
                      0.15,
                      0.25,
                      0,
                      0.6,
                      0,
                      0,
                      0,
                      0,
                      0,
                      0
                    ],
                    [
                      0.5,
                      -1.5,
                      0,
                      0.29411764705882354,
                      0,
                      0.7058823529411765,
                      0,
                      0,
                      0,
                      0,
                      0
                    ],
                    [
                      0.5,
                      0,
                      -1.5,
                      0.19999999999999998,
                      0,
                      0,
                      0.7999999999999999,
                      0,
                      0,
                      0,
                      0
                    ],
                    [
                      0,
                      0.5,
                      0.5,
                      -2,
                      0,
                      0,
                      0,
                      1,
                      0,
                      0,
                      0
                    ],
                    [
                      0.5,
                      0,
                      0,
                      0,
                      -1.5,
                      0.37499999999999994,
                      0.625,
                      0,
                      0,
                      0,
                      0
                    ],
                    [
                      0,
                      0.5,
                      0,
                      0,
                      0.5,
                      -2,
                      0,
                      1,
                      0,
                      0,
                      0
                    ],
                    [
                      0,
                      0,
                      0.5,
                      0,
                      0.5,
                      0,
                      -2,
                      1,
                      0,
                      0,
                      0
                    ],
                    [
                      0,
                      0,
                      0,
                      0.5,
                      0,
                      0.5,
                      0.5,
                      -2.5,
                      1,
                      0,
                      0
                    ],
                    [
                      0,
                      0,
                      0,
                      0,
                      0,
                      0,
                      0,
                      1.5,
                      -2.5,
                      1,
                      0
                    ],
                    [
                      0,
                      0,
                      0,
                      0,
                      0,
                      0,
                      0,
                      0,
                      1.5,
                      -2.5,
                      1
                    ],
                    [
                      0,
                      0,
                      0,
                      0,
                      0,
                      0,
                      0,
                      0,
                      0,
                      1.5,
                      -1.5
                    ]
                  ]
                }
              ],
              "layout": {
                "coloraxis": {
                  "cmid": 0,
                  "colorscale": [
                    [
                      0,
                      "red"
                    ],
                    [
                      0.5,
                      "#f8f8f8"
                    ],
                    [
                      1,
                      "green"
                    ]
                  ]
                },
                "height": 800,
                "margin": {
                  "t": 60
                },
                "template": {
                  "data": {
                    "bar": [
                      {
                        "error_x": {
                          "color": "#2a3f5f"
                        },
                        "error_y": {
                          "color": "#2a3f5f"
                        },
                        "marker": {
                          "line": {
                            "color": "#E5ECF6",
                            "width": 0.5
                          },
                          "pattern": {
                            "fillmode": "overlay",
                            "size": 10,
                            "solidity": 0.2
                          }
                        },
                        "type": "bar"
                      }
                    ],
                    "barpolar": [
                      {
                        "marker": {
                          "line": {
                            "color": "#E5ECF6",
                            "width": 0.5
                          },
                          "pattern": {
                            "fillmode": "overlay",
                            "size": 10,
                            "solidity": 0.2
                          }
                        },
                        "type": "barpolar"
                      }
                    ],
                    "carpet": [
                      {
                        "aaxis": {
                          "endlinecolor": "#2a3f5f",
                          "gridcolor": "white",
                          "linecolor": "white",
                          "minorgridcolor": "white",
                          "startlinecolor": "#2a3f5f"
                        },
                        "baxis": {
                          "endlinecolor": "#2a3f5f",
                          "gridcolor": "white",
                          "linecolor": "white",
                          "minorgridcolor": "white",
                          "startlinecolor": "#2a3f5f"
                        },
                        "type": "carpet"
                      }
                    ],
                    "choropleth": [
                      {
                        "colorbar": {
                          "outlinewidth": 0,
                          "ticks": ""
                        },
                        "type": "choropleth"
                      }
                    ],
                    "contour": [
                      {
                        "colorbar": {
                          "outlinewidth": 0,
                          "ticks": ""
                        },
                        "colorscale": [
                          [
                            0,
                            "#0d0887"
                          ],
                          [
                            0.1111111111111111,
                            "#46039f"
                          ],
                          [
                            0.2222222222222222,
                            "#7201a8"
                          ],
                          [
                            0.3333333333333333,
                            "#9c179e"
                          ],
                          [
                            0.4444444444444444,
                            "#bd3786"
                          ],
                          [
                            0.5555555555555556,
                            "#d8576b"
                          ],
                          [
                            0.6666666666666666,
                            "#ed7953"
                          ],
                          [
                            0.7777777777777778,
                            "#fb9f3a"
                          ],
                          [
                            0.8888888888888888,
                            "#fdca26"
                          ],
                          [
                            1,
                            "#f0f921"
                          ]
                        ],
                        "type": "contour"
                      }
                    ],
                    "contourcarpet": [
                      {
                        "colorbar": {
                          "outlinewidth": 0,
                          "ticks": ""
                        },
                        "type": "contourcarpet"
                      }
                    ],
                    "heatmap": [
                      {
                        "colorbar": {
                          "outlinewidth": 0,
                          "ticks": ""
                        },
                        "colorscale": [
                          [
                            0,
                            "#0d0887"
                          ],
                          [
                            0.1111111111111111,
                            "#46039f"
                          ],
                          [
                            0.2222222222222222,
                            "#7201a8"
                          ],
                          [
                            0.3333333333333333,
                            "#9c179e"
                          ],
                          [
                            0.4444444444444444,
                            "#bd3786"
                          ],
                          [
                            0.5555555555555556,
                            "#d8576b"
                          ],
                          [
                            0.6666666666666666,
                            "#ed7953"
                          ],
                          [
                            0.7777777777777778,
                            "#fb9f3a"
                          ],
                          [
                            0.8888888888888888,
                            "#fdca26"
                          ],
                          [
                            1,
                            "#f0f921"
                          ]
                        ],
                        "type": "heatmap"
                      }
                    ],
                    "heatmapgl": [
                      {
                        "colorbar": {
                          "outlinewidth": 0,
                          "ticks": ""
                        },
                        "colorscale": [
                          [
                            0,
                            "#0d0887"
                          ],
                          [
                            0.1111111111111111,
                            "#46039f"
                          ],
                          [
                            0.2222222222222222,
                            "#7201a8"
                          ],
                          [
                            0.3333333333333333,
                            "#9c179e"
                          ],
                          [
                            0.4444444444444444,
                            "#bd3786"
                          ],
                          [
                            0.5555555555555556,
                            "#d8576b"
                          ],
                          [
                            0.6666666666666666,
                            "#ed7953"
                          ],
                          [
                            0.7777777777777778,
                            "#fb9f3a"
                          ],
                          [
                            0.8888888888888888,
                            "#fdca26"
                          ],
                          [
                            1,
                            "#f0f921"
                          ]
                        ],
                        "type": "heatmapgl"
                      }
                    ],
                    "histogram": [
                      {
                        "marker": {
                          "pattern": {
                            "fillmode": "overlay",
                            "size": 10,
                            "solidity": 0.2
                          }
                        },
                        "type": "histogram"
                      }
                    ],
                    "histogram2d": [
                      {
                        "colorbar": {
                          "outlinewidth": 0,
                          "ticks": ""
                        },
                        "colorscale": [
                          [
                            0,
                            "#0d0887"
                          ],
                          [
                            0.1111111111111111,
                            "#46039f"
                          ],
                          [
                            0.2222222222222222,
                            "#7201a8"
                          ],
                          [
                            0.3333333333333333,
                            "#9c179e"
                          ],
                          [
                            0.4444444444444444,
                            "#bd3786"
                          ],
                          [
                            0.5555555555555556,
                            "#d8576b"
                          ],
                          [
                            0.6666666666666666,
                            "#ed7953"
                          ],
                          [
                            0.7777777777777778,
                            "#fb9f3a"
                          ],
                          [
                            0.8888888888888888,
                            "#fdca26"
                          ],
                          [
                            1,
                            "#f0f921"
                          ]
                        ],
                        "type": "histogram2d"
                      }
                    ],
                    "histogram2dcontour": [
                      {
                        "colorbar": {
                          "outlinewidth": 0,
                          "ticks": ""
                        },
                        "colorscale": [
                          [
                            0,
                            "#0d0887"
                          ],
                          [
                            0.1111111111111111,
                            "#46039f"
                          ],
                          [
                            0.2222222222222222,
                            "#7201a8"
                          ],
                          [
                            0.3333333333333333,
                            "#9c179e"
                          ],
                          [
                            0.4444444444444444,
                            "#bd3786"
                          ],
                          [
                            0.5555555555555556,
                            "#d8576b"
                          ],
                          [
                            0.6666666666666666,
                            "#ed7953"
                          ],
                          [
                            0.7777777777777778,
                            "#fb9f3a"
                          ],
                          [
                            0.8888888888888888,
                            "#fdca26"
                          ],
                          [
                            1,
                            "#f0f921"
                          ]
                        ],
                        "type": "histogram2dcontour"
                      }
                    ],
                    "mesh3d": [
                      {
                        "colorbar": {
                          "outlinewidth": 0,
                          "ticks": ""
                        },
                        "type": "mesh3d"
                      }
                    ],
                    "parcoords": [
                      {
                        "line": {
                          "colorbar": {
                            "outlinewidth": 0,
                            "ticks": ""
                          }
                        },
                        "type": "parcoords"
                      }
                    ],
                    "pie": [
                      {
                        "automargin": true,
                        "type": "pie"
                      }
                    ],
                    "scatter": [
                      {
                        "fillpattern": {
                          "fillmode": "overlay",
                          "size": 10,
                          "solidity": 0.2
                        },
                        "type": "scatter"
                      }
                    ],
                    "scatter3d": [
                      {
                        "line": {
                          "colorbar": {
                            "outlinewidth": 0,
                            "ticks": ""
                          }
                        },
                        "marker": {
                          "colorbar": {
                            "outlinewidth": 0,
                            "ticks": ""
                          }
                        },
                        "type": "scatter3d"
                      }
                    ],
                    "scattercarpet": [
                      {
                        "marker": {
                          "colorbar": {
                            "outlinewidth": 0,
                            "ticks": ""
                          }
                        },
                        "type": "scattercarpet"
                      }
                    ],
                    "scattergeo": [
                      {
                        "marker": {
                          "colorbar": {
                            "outlinewidth": 0,
                            "ticks": ""
                          }
                        },
                        "type": "scattergeo"
                      }
                    ],
                    "scattergl": [
                      {
                        "marker": {
                          "colorbar": {
                            "outlinewidth": 0,
                            "ticks": ""
                          }
                        },
                        "type": "scattergl"
                      }
                    ],
                    "scattermapbox": [
                      {
                        "marker": {
                          "colorbar": {
                            "outlinewidth": 0,
                            "ticks": ""
                          }
                        },
                        "type": "scattermapbox"
                      }
                    ],
                    "scatterpolar": [
                      {
                        "marker": {
                          "colorbar": {
                            "outlinewidth": 0,
                            "ticks": ""
                          }
                        },
                        "type": "scatterpolar"
                      }
                    ],
                    "scatterpolargl": [
                      {
                        "marker": {
                          "colorbar": {
                            "outlinewidth": 0,
                            "ticks": ""
                          }
                        },
                        "type": "scatterpolargl"
                      }
                    ],
                    "scatterternary": [
                      {
                        "marker": {
                          "colorbar": {
                            "outlinewidth": 0,
                            "ticks": ""
                          }
                        },
                        "type": "scatterternary"
                      }
                    ],
                    "surface": [
                      {
                        "colorbar": {
                          "outlinewidth": 0,
                          "ticks": ""
                        },
                        "colorscale": [
                          [
                            0,
                            "#0d0887"
                          ],
                          [
                            0.1111111111111111,
                            "#46039f"
                          ],
                          [
                            0.2222222222222222,
                            "#7201a8"
                          ],
                          [
                            0.3333333333333333,
                            "#9c179e"
                          ],
                          [
                            0.4444444444444444,
                            "#bd3786"
                          ],
                          [
                            0.5555555555555556,
                            "#d8576b"
                          ],
                          [
                            0.6666666666666666,
                            "#ed7953"
                          ],
                          [
                            0.7777777777777778,
                            "#fb9f3a"
                          ],
                          [
                            0.8888888888888888,
                            "#fdca26"
                          ],
                          [
                            1,
                            "#f0f921"
                          ]
                        ],
                        "type": "surface"
                      }
                    ],
                    "table": [
                      {
                        "cells": {
                          "fill": {
                            "color": "#EBF0F8"
                          },
                          "line": {
                            "color": "white"
                          }
                        },
                        "header": {
                          "fill": {
                            "color": "#C8D4E3"
                          },
                          "line": {
                            "color": "white"
                          }
                        },
                        "type": "table"
                      }
                    ]
                  },
                  "layout": {
                    "annotationdefaults": {
                      "arrowcolor": "#2a3f5f",
                      "arrowhead": 0,
                      "arrowwidth": 1
                    },
                    "autotypenumbers": "strict",
                    "coloraxis": {
                      "colorbar": {
                        "outlinewidth": 0,
                        "ticks": ""
                      }
                    },
                    "colorscale": {
                      "diverging": [
                        [
                          0,
                          "#8e0152"
                        ],
                        [
                          0.1,
                          "#c51b7d"
                        ],
                        [
                          0.2,
                          "#de77ae"
                        ],
                        [
                          0.3,
                          "#f1b6da"
                        ],
                        [
                          0.4,
                          "#fde0ef"
                        ],
                        [
                          0.5,
                          "#f7f7f7"
                        ],
                        [
                          0.6,
                          "#e6f5d0"
                        ],
                        [
                          0.7,
                          "#b8e186"
                        ],
                        [
                          0.8,
                          "#7fbc41"
                        ],
                        [
                          0.9,
                          "#4d9221"
                        ],
                        [
                          1,
                          "#276419"
                        ]
                      ],
                      "sequential": [
                        [
                          0,
                          "#0d0887"
                        ],
                        [
                          0.1111111111111111,
                          "#46039f"
                        ],
                        [
                          0.2222222222222222,
                          "#7201a8"
                        ],
                        [
                          0.3333333333333333,
                          "#9c179e"
                        ],
                        [
                          0.4444444444444444,
                          "#bd3786"
                        ],
                        [
                          0.5555555555555556,
                          "#d8576b"
                        ],
                        [
                          0.6666666666666666,
                          "#ed7953"
                        ],
                        [
                          0.7777777777777778,
                          "#fb9f3a"
                        ],
                        [
                          0.8888888888888888,
                          "#fdca26"
                        ],
                        [
                          1,
                          "#f0f921"
                        ]
                      ],
                      "sequentialminus": [
                        [
                          0,
                          "#0d0887"
                        ],
                        [
                          0.1111111111111111,
                          "#46039f"
                        ],
                        [
                          0.2222222222222222,
                          "#7201a8"
                        ],
                        [
                          0.3333333333333333,
                          "#9c179e"
                        ],
                        [
                          0.4444444444444444,
                          "#bd3786"
                        ],
                        [
                          0.5555555555555556,
                          "#d8576b"
                        ],
                        [
                          0.6666666666666666,
                          "#ed7953"
                        ],
                        [
                          0.7777777777777778,
                          "#fb9f3a"
                        ],
                        [
                          0.8888888888888888,
                          "#fdca26"
                        ],
                        [
                          1,
                          "#f0f921"
                        ]
                      ]
                    },
                    "colorway": [
                      "#636efa",
                      "#EF553B",
                      "#00cc96",
                      "#ab63fa",
                      "#FFA15A",
                      "#19d3f3",
                      "#FF6692",
                      "#B6E880",
                      "#FF97FF",
                      "#FECB52"
                    ],
                    "font": {
                      "color": "#2a3f5f"
                    },
                    "geo": {
                      "bgcolor": "white",
                      "lakecolor": "white",
                      "landcolor": "#E5ECF6",
                      "showlakes": true,
                      "showland": true,
                      "subunitcolor": "white"
                    },
                    "hoverlabel": {
                      "align": "left"
                    },
                    "hovermode": "closest",
                    "mapbox": {
                      "style": "light"
                    },
                    "paper_bgcolor": "white",
                    "plot_bgcolor": "#E5ECF6",
                    "polar": {
                      "angularaxis": {
                        "gridcolor": "white",
                        "linecolor": "white",
                        "ticks": ""
                      },
                      "bgcolor": "#E5ECF6",
                      "radialaxis": {
                        "gridcolor": "white",
                        "linecolor": "white",
                        "ticks": ""
                      }
                    },
                    "scene": {
                      "xaxis": {
                        "backgroundcolor": "#E5ECF6",
                        "gridcolor": "white",
                        "gridwidth": 2,
                        "linecolor": "white",
                        "showbackground": true,
                        "ticks": "",
                        "zerolinecolor": "white"
                      },
                      "yaxis": {
                        "backgroundcolor": "#E5ECF6",
                        "gridcolor": "white",
                        "gridwidth": 2,
                        "linecolor": "white",
                        "showbackground": true,
                        "ticks": "",
                        "zerolinecolor": "white"
                      },
                      "zaxis": {
                        "backgroundcolor": "#E5ECF6",
                        "gridcolor": "white",
                        "gridwidth": 2,
                        "linecolor": "white",
                        "showbackground": true,
                        "ticks": "",
                        "zerolinecolor": "white"
                      }
                    },
                    "shapedefaults": {
                      "line": {
                        "color": "#2a3f5f"
                      }
                    },
                    "ternary": {
                      "aaxis": {
                        "gridcolor": "white",
                        "linecolor": "white",
                        "ticks": ""
                      },
                      "baxis": {
                        "gridcolor": "white",
                        "linecolor": "white",
                        "ticks": ""
                      },
                      "bgcolor": "#E5ECF6",
                      "caxis": {
                        "gridcolor": "white",
                        "linecolor": "white",
                        "ticks": ""
                      }
                    },
                    "title": {
                      "x": 0.05
                    },
                    "xaxis": {
                      "automargin": true,
                      "gridcolor": "white",
                      "linecolor": "white",
                      "ticks": "",
                      "title": {
                        "standoff": 15
                      },
                      "zerolinecolor": "white",
                      "zerolinewidth": 2
                    },
                    "yaxis": {
                      "automargin": true,
                      "gridcolor": "white",
                      "linecolor": "white",
                      "ticks": "",
                      "title": {
                        "standoff": 15
                      },
                      "zerolinecolor": "white",
                      "zerolinewidth": 2
                    }
                  }
                },
                "title": {
                  "text": "Filtered Transition Rate Matrix"
                },
                "xaxis": {
                  "anchor": "y",
                  "constrain": "domain",
                  "domain": [
                    0,
                    1
                  ],
                  "scaleanchor": "y",
                  "title": {
                    "text": "Next State"
                  }
                },
                "yaxis": {
                  "anchor": "x",
                  "autorange": "reversed",
                  "constrain": "domain",
                  "domain": [
                    0,
                    1
                  ],
                  "title": {
                    "text": "Current State"
                  }
                }
              }
            }
          },
          "metadata": {},
          "output_type": "display_data"
        }
      ],
      "source": [
        "def make_transition_rate_matrix(graph: dict):\n",
        "    index = {s: i for i, s in enumerate(graph)}\n",
        "\n",
        "    n = len(graph)\n",
        "    matrix = np.zeros((n, n))\n",
        "\n",
        "    for from_state, to_states in graph.items():\n",
        "        for to_state, rate in to_states.items():\n",
        "            matrix[index[from_state], index[to_state]] = rate\n",
        "\n",
        "    for i in range(n):\n",
        "        matrix[i, i] = -sum(matrix[i, :])\n",
        "\n",
        "    return matrix\n",
        "\n",
        "transition_rate_matrix = make_transition_rate_matrix(available_states)\n",
        "\n",
        "fig = px.imshow(\n",
        "    transition_rate_matrix,\n",
        "    text_auto = True,\n",
        "    height = 800,\n",
        "    color_continuous_scale = [[0, 'red'], [0.5, '#f8f8f8'], [1, 'green']],\n",
        "    color_continuous_midpoint = 0.0,\n",
        ")\n",
        "fig.update_layout(\n",
        "    title='Filtered Transition Rate Matrix',\n",
        "    xaxis_title='Next State',\n",
        "    yaxis_title='Current State',\n",
        ")\n",
        "fig.show()"
      ]
    },
    {
      "cell_type": "code",
      "execution_count": 7,
      "id": "6890ab04-0c83-47f2-ba18-753a07285163",
      "metadata": {
        "colab": {
          "base_uri": "https://localhost:8080/"
        },
        "id": "6890ab04-0c83-47f2-ba18-753a07285163",
        "outputId": "9c915e9a-faef-4570-8d49-0b2eb19a4a7d"
      },
      "outputs": [
        {
          "name": "stdout",
          "output_type": "stream",
          "text": [
            "  0. ((0, 0, 0), 0):  0.121805\n",
            "  1. ((0, 0, 1), 0):  0.058393\n",
            "  2. ((0, 1, 0), 0):  0.074159\n",
            "  3. ((0, 1, 1), 0):  0.056605\n",
            "  4. ((1, 0, 0), 0):  0.111057\n",
            "  5. ((1, 0, 1), 0):  0.082034\n",
            "  6. ((1, 1, 0), 0):  0.104970\n",
            "  7. ((1, 1, 1), 0):  0.162406\n",
            "  8. ((1, 1, 1), 1):  0.108271\n",
            "  9. ((1, 1, 1), 2):  0.072180\n",
            " 10. ((1, 1, 1), 3):  0.048120\n",
            "\n",
            "Σ = 1.0\n"
          ]
        }
      ],
      "source": [
        "def get_probs_of_states(transition_rate_matrix):\n",
        "    shape = transition_rate_matrix.shape\n",
        "    assert len(shape) == 2\n",
        "    assert shape[0] == shape[1]\n",
        "    n = shape[0]\n",
        "\n",
        "    equations = transition_rate_matrix.T\n",
        "    equations[0, :] = np.ones(n)\n",
        "    bvector = np.zeros(n)\n",
        "    bvector[0] = 1\n",
        "    return np.linalg.solve(equations, bvector)\n",
        "\n",
        "\n",
        "probs = get_probs_of_states(transition_rate_matrix)\n",
        "\n",
        "for i, (si, p) in enumerate(zip(available_states.keys(), probs)):\n",
        "    print(f\"{i: 3}. {S[si]}:  {p:.6f}\")\n",
        "\n",
        "print(f\"\\nΣ = {sum(probs)}\")"
      ]
    },
    {
      "cell_type": "code",
      "execution_count": 8,
      "id": "AmyxKM8o9oqS",
      "metadata": {
        "colab": {
          "base_uri": "https://localhost:8080/"
        },
        "id": "AmyxKM8o9oqS",
        "outputId": "883df965-dec8-4603-b964-30c96b95db74"
      },
      "outputs": [
        {
          "name": "stdout",
          "output_type": "stream",
          "text": [
            "Нагрузка            y = [1.2 0.5 0.3], Σy = 2.0\n",
            "Загрузка            ρ = [0.68903839 0.62671152 0.5880095 ], Σρ = 1.9037593984962404, avg(ρ) = 0.6345864661654135 \n",
            "                    rho = 0.6345864661654136\n",
            "                 expect [0.888, 0.378, 0.22] Σ = 1,486, avg = 0,4953333333\n",
            "Длина очереди       l = 1.191\n",
            "Число заявок        m = [1.08603087 1.023704   0.98500198], Σm 3.0947368421052635\n",
            "Время ожидания      w = [1.98496241 4.76390977 7.93984962], Σw 1.1909774436090228\n",
            "Время пребывания    u = [1.81005144 4.09481599 6.56667986], Σu 3.0947368421052635\n",
            "Вероятность потери  π = [0. 0. 0.], Σπ 0.0\n",
            "Производительность  λ' = [0.6  0.25 0.15], Σλ' 1.0\n"
          ]
        }
      ],
      "source": [
        "# TODO\n",
        "\n",
        "y = np.array(P_SERVER) * (ARRIVAL_RATE / DEPARTURE_RATE)  # Нагрузка\n",
        "pbusy = np.zeros(N)  # Загрузка\n",
        "_rho = 0\n",
        "l = 0  # np.zeros(N) # Длина очереди\n",
        "m = np.zeros(N)  # Число заявок\n",
        "prod = np.zeros(N)  # Производительность\n",
        "loss = np.zeros(N)  # Вероятность потери\n",
        "wtime = np.zeros(N)  # Время ожидания\n",
        "ttime = np.zeros(N)  # Время пребывания\n",
        "\n",
        "\n",
        "for si, prob in zip(available_states.keys(), probs):\n",
        "    servers, queue_size = S[si]\n",
        "\n",
        "    _rho += prob * sum(servers)\n",
        "\n",
        "    for i, server in enumerate(servers):\n",
        "        if server == BUSY:\n",
        "            pbusy[i] += prob\n",
        "\n",
        "            m[i] += prob * (1 + queue_size)\n",
        "\n",
        "        # L[i] += prob * queue_size\n",
        "        l += prob * queue_size\n",
        "\n",
        "        # Probability of loss?\n",
        "        # if queue_size == QUEUE_MAX_SIZE and server == BUSY:\n",
        "        #   loss[i] += prob\n",
        "\n",
        "prod = ARRIVAL_RATE * np.array(P_SERVER) * (1 - loss)\n",
        "wtime = l / prod\n",
        "ttime = m / prod\n",
        "\n",
        "print(f\"Нагрузка            y = {y}, Σy = {sum(y)}\")\n",
        "print(f\"Загрузка            ρ = {pbusy}, Σρ = {sum(pbusy)}, avg(ρ) = {sum(pbusy)/N} \")\n",
        "print(f\"                    rho = {_rho/N}\")\n",
        "print(f\"                 expect [0.888, 0.378, 0.22] Σ = 1,486, avg = 0,4953333333\")\n",
        "print(f\"Длина очереди       l = {l:.4}\")  # Очередь единственная\n",
        "print(f\"Число заявок        m = {m}, Σm {sum(m)}\")  # TODO\n",
        "print(f\"Время ожидания      w = {wtime}, Σw {l / sum(prod)}\")  # TODO\n",
        "print(f\"Время пребывания    u = {ttime}, Σu {sum(m) / sum(prod)}\")  # TODO\n",
        "print(f\"Вероятность потери  π = {loss}, Σπ {sum(loss * P_SERVER)}\")  # TODO\n",
        "print(f\"Производительность  λ' = {prod}, Σλ' {sum(prod)}\")  # TODO"
      ]
    },
    {
      "cell_type": "markdown",
      "id": "00a8cee3",
      "metadata": {},
      "source": [
        "[модель системы_1 в GPSS](../lab-3/smo%20GGKE_lab-2_system-1.txt)\n",
        "\n",
        "![](../lab-3/res/system-1_report_block-hit-rate.png)\n",
        "![](../lab-3/res/system-1_report_servers.png)\n",
        "![](../lab-3/res/system-1_report_queues.png)\n",
        "![](../lab-3/res/system-1_report_variables.png)"
      ]
    },
    {
      "cell_type": "code",
      "execution_count": 10,
      "id": "4cea9f83",
      "metadata": {},
      "outputs": [],
      "source": [
        "!pip freeze > requirements.txt"
      ]
    }
  ],
  "metadata": {
    "colab": {
      "provenance": []
    },
    "kernelspec": {
      "display_name": ".venv",
      "language": "python",
      "name": "python3"
    },
    "language_info": {
      "codemirror_mode": {
        "name": "ipython",
        "version": 3
      },
      "file_extension": ".py",
      "mimetype": "text/x-python",
      "name": "python",
      "nbconvert_exporter": "python",
      "pygments_lexer": "ipython3",
      "version": "3.12.6"
    }
  },
  "nbformat": 4,
  "nbformat_minor": 5
}
